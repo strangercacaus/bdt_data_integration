{
    "cells": [
        {
            "cell_type": "markdown",
            "metadata": {
                "formattedRanges": [],
                "deepnote_app_block_visible": true,
                "cell_id": "36c9248f03d64a0daff925e84ba9505b",
                "deepnote_cell_type": "text-cell-h1"
            },
            "source": "# Config",
            "block_group": "670bfa7796fa47f9a7ae671ac192a50d"
        },
        {
            "cell_type": "markdown",
            "metadata": {
                "formattedRanges": [],
                "deepnote_app_block_visible": true,
                "cell_id": "c5f9e8474f094a7c9cd2a6d544f38b9a",
                "deepnote_cell_type": "text-cell-callout"
            },
            "source": "> Esta seção tem configurações gerais do projeto, como importações de pacotes, carregamento de variáveis de ambiente entre outros.",
            "block_group": "9a696221eb9841f59526dc0d56c3949d"
        },
        {
            "cell_type": "code",
            "metadata": {
                "source_hash": "7e35e115",
                "execution_start": 1726019646571,
                "execution_millis": 2557,
                "execution_context_id": "67b0e824-1105-4e07-b280-570295b17d6b",
                "deepnote_to_be_reexecuted": false,
                "deepnote_app_block_visible": true,
                "deepnote_app_is_code_hidden": true,
                "cell_id": "6f2cc2ee51724400891b86fa04bb397d",
                "deepnote_cell_type": "code"
            },
            "source": "# Importação de módulos.\nimport requests\nimport pandas as pd\nimport warnings\nimport json\nimport yaml\nimport gzip\nimport os\nimport glob\nimport importlib\n#from sqlalchemy import create_engine, inspect, text\n#from sqlalchemy import create_engine\nfrom datetime import datetime, timedelta\nfrom work.bdt_data_integration.src.utils import Utils, WebhookNotifier, DiscordNotifier\nfrom work.bdt_data_integration.src.writers import DataWriter\nfrom work.bdt_data_integration.src.streams import NotionApiStream\nfrom work.bdt_data_integration.src.loaders import PostgresLoader\nfrom work.bdt_data_integration.src.transformers import NotionTransformer",
            "block_group": "0585159a25044875bf7c86a274522128",
            "execution_count": 1,
            "outputs": [],
            "outputs_reference": null,
            "content_dependencies": {
                "codeHash": "7c569e09",
                "usedVariables": [],
                "importedModules": [
                    "DataWriter",
                    "warnings",
                    "DataFrameToPostgres",
                    "pd",
                    "yaml",
                    "PaginatedApiStream",
                    "NotionTransformer",
                    "os",
                    "datetime",
                    "json",
                    "importlib",
                    "gzip",
                    "requests",
                    "timedelta",
                    "Utils"
                ],
                "definedVariables": []
            }
        },
        {
            "cell_type": "code",
            "metadata": {
                "source_hash": "14fb1634",
                "execution_start": 1726019649131,
                "execution_millis": 257,
                "deepnote_to_be_reexecuted": false,
                "deepnote_app_block_visible": true,
                "deepnote_app_is_code_hidden": true,
                "cell_id": "7d7e6f31e92b47d69f915f44f1a313e1",
                "deepnote_cell_type": "code"
            },
            "source": "source = 'notion'\n\n# Carregamento do arquivo config.yaml\nconfig = Utils.load_config()\n\n# Carregamento das variáveis de ambiente\napi_key = os.getenv('NOTION_APIKEY')\ndatabase_id = os.getenv('UTD_DATABASE_ID')\nhost = os.environ[\"NEON_HOST\"]\nuser =os.environ[\"NEON_ROOT_USER\"]\npassword = os.environ[\"NEON_ROOT_PASSWORD\"]\ndb_name = os.environ[\"NEON_DATABASE_NAME\"]\ndiscord_token = os.getenv('DISCORD_TOKEN')\ndiscord_channel = os.getenv('DISCORD_CHANNEL')\nnotifier_url = os.getenv('MAKE_NOTIFICATION_WEBHOOK')",
            "block_group": "a2786f738f4e4f6c92fa82204d624939",
            "execution_count": 2,
            "outputs": [],
            "outputs_reference": null,
            "content_dependencies": null
        },
        {
            "cell_type": "code",
            "metadata": {
                "source_hash": "32aa8a92",
                "execution_start": 1726019649390,
                "execution_millis": 112,
                "deepnote_to_be_reexecuted": false,
                "deepnote_app_block_visible": true,
                "deepnote_app_is_code_hidden": true,
                "cell_id": "23f6ffa45c034768ad5732a53f8eb43d",
                "deepnote_cell_type": "code"
            },
            "source": "notifier = WebhookNotifier(url=notifier_url,pipeline=f'{source}_pipeline')\nnotifier.pipeline_start()",
            "block_group": "9a13b32e86ea40a2b236b6e8cfac946a",
            "execution_count": 3,
            "outputs": [
                {
                    "name": "stdout",
                    "text": "Accepted\n",
                    "output_type": "stream"
                }
            ],
            "outputs_reference": "dbtable:cell_outputs/b0812af2-435c-45ff-928b-ebed656dd0b0",
            "content_dependencies": null
        },
        {
            "cell_type": "markdown",
            "metadata": {
                "formattedRanges": [],
                "deepnote_app_block_visible": true,
                "cell_id": "5b2dab4c4b8546eb8dc1670989b8b298",
                "deepnote_cell_type": "text-cell-h1"
            },
            "source": "# Extract",
            "block_group": "0d036e61f7ab4799ac4760f25e9aa2ab"
        },
        {
            "cell_type": "markdown",
            "metadata": {
                "formattedRanges": [
                    {
                        "type": "marks",
                        "marks": {
                            "bold": true
                        },
                        "toCodePoint": 86,
                        "fromCodePoint": 80
                    },
                    {
                        "type": "marks",
                        "marks": {
                            "bold": true
                        },
                        "toCodePoint": 98,
                        "fromCodePoint": 92
                    }
                ],
                "deepnote_app_block_visible": true,
                "cell_id": "2001d92c27274c4d83aed93f70a0df43",
                "deepnote_cell_type": "text-cell-callout"
            },
            "source": "> Nesta seção é realizada a extração de dados brutos da API, são instanciados uma stream e um writer, que serão responsáveis pela conexão com a fonte de dados e com a escrita dos dados, respectivamente.",
            "block_group": "d8f9cfcf97a84371a1247633754d26a8"
        },
        {
            "cell_type": "code",
            "metadata": {
                "source_hash": "6cf3392c",
                "execution_start": 1726019649495,
                "execution_millis": 129,
                "deepnote_to_be_reexecuted": false,
                "deepnote_app_block_visible": true,
                "deepnote_app_is_code_hidden": true,
                "cell_id": "ae6ebdf8b64e4e37b659f47be27e392b",
                "deepnote_cell_type": "code"
            },
            "source": "try:\n    writer = DataWriter(\n        source=source,\n        stream='universal_task_database', \n        compression = True,\n        config=config\n        )\nexcept Exception as e:\n    notifier.pipeline_error(e)\n    raise e",
            "block_group": "6fc4174b7f744e9188ce928f0d8faf3a",
            "execution_count": 4,
            "outputs": [],
            "outputs_reference": null,
            "content_dependencies": {
                "codeHash": "2f7bc94b",
                "usedVariables": [
                    "DataWriter",
                    "config"
                ],
                "importedModules": [],
                "definedVariables": [
                    "writer"
                ]
            }
        },
        {
            "cell_type": "markdown",
            "metadata": {
                "formattedRanges": [],
                "deepnote_app_block_visible": true,
                "cell_id": "bbe4195fd1274b169008d844ea973676",
                "deepnote_cell_type": "text-cell-callout"
            },
            "source": "> Usa-se o parâmetro compression = True para que a saída da stream aconteça em formato gzip, para economizar espaço.",
            "block_group": "9c1fb6d83e454f359cea55bfec475047"
        },
        {
            "cell_type": "code",
            "metadata": {
                "source_hash": "46daedc9",
                "execution_start": 1726019649496,
                "execution_millis": 128,
                "deepnote_to_be_reexecuted": false,
                "deepnote_app_block_visible": true,
                "deepnote_app_is_code_hidden": true,
                "cell_id": "d679be79ce0f4b7586d02942c21a152d",
                "deepnote_cell_type": "code"
            },
            "source": "# Instanciar Stream para a extração dos dados\ntry:\n    stream = NotionApiStream(\n        identifier = source,\n        base_endpoint = 'https://api.notion.com/v1',\n        token = api_key,\n        auth_method = 'bearer',\n        database_id = database_id,\n        writer = writer)\nexcept Exception as e:\n    notifier.pipeline_error(e)\n    raise e",
            "block_group": "6372f4ae3f484f62bb8521f0217460a7",
            "execution_count": 5,
            "outputs": [],
            "outputs_reference": null,
            "content_dependencies": {
                "codeHash": "cdef33ce",
                "usedVariables": [
                    "writer",
                    "api_key",
                    "database_id",
                    "PaginatedApiStream"
                ],
                "importedModules": [],
                "definedVariables": [
                    "stream"
                ]
            }
        },
        {
            "cell_type": "code",
            "metadata": {
                "source_hash": "cd0e3220",
                "execution_start": 1726019649497,
                "execution_millis": 29403,
                "deepnote_to_be_reexecuted": false,
                "deepnote_app_block_visible": true,
                "deepnote_app_is_code_hidden": true,
                "cell_id": "ee255cd22fc44814b21b6690c11650d5",
                "deepnote_cell_type": "code"
            },
            "source": "#Executar a extração dos dados\ntry:\n    records, time = stream.run()\nexcept Exception as e:\n    notifier.pipeline_error(e)\n    raise e",
            "block_group": "e49cd5e706f64c95883607dd75c73174",
            "execution_count": 6,
            "outputs": [
                {
                    "name": "stderr",
                    "text": "INFO:work.bdt_data_integration.src.streams:Attempting scroll fetch from https://api.notion.com/v1/databases/3290a9e9f0bf4d84bc57aae53f635e7e/query\nINFO:work.bdt_data_integration.src.streams:Gettinng data from endpoint https://api.notion.com/v1/databases/3290a9e9f0bf4d84bc57aae53f635e7e/query\nINFO:work.bdt_data_integration.src.streams:Successfully fetched page 1\nINFO:work.bdt_data_integration.src.streams:Gettinng data from endpoint https://api.notion.com/v1/databases/3290a9e9f0bf4d84bc57aae53f635e7e/query\nINFO:work.bdt_data_integration.src.streams:Successfully fetched page 2\nINFO:work.bdt_data_integration.src.streams:Gettinng data from endpoint https://api.notion.com/v1/databases/3290a9e9f0bf4d84bc57aae53f635e7e/query\nINFO:work.bdt_data_integration.src.streams:Successfully fetched page 3\nINFO:work.bdt_data_integration.src.streams:Gettinng data from endpoint https://api.notion.com/v1/databases/3290a9e9f0bf4d84bc57aae53f635e7e/query\nINFO:work.bdt_data_integration.src.streams:Successfully fetched page 4\nINFO:work.bdt_data_integration.src.streams:Gettinng data from endpoint https://api.notion.com/v1/databases/3290a9e9f0bf4d84bc57aae53f635e7e/query\nINFO:work.bdt_data_integration.src.streams:Successfully fetched page 5\nINFO:work.bdt_data_integration.src.streams:Gettinng data from endpoint https://api.notion.com/v1/databases/3290a9e9f0bf4d84bc57aae53f635e7e/query\nINFO:work.bdt_data_integration.src.streams:Successfully fetched page 6\nINFO:work.bdt_data_integration.src.streams:Gettinng data from endpoint https://api.notion.com/v1/databases/3290a9e9f0bf4d84bc57aae53f635e7e/query\nINFO:work.bdt_data_integration.src.streams:Successfully fetched page 7\nINFO:work.bdt_data_integration.src.streams:Gettinng data from endpoint https://api.notion.com/v1/databases/3290a9e9f0bf4d84bc57aae53f635e7e/query\nINFO:work.bdt_data_integration.src.streams:Successfully fetched page 8\nINFO:work.bdt_data_integration.src.streams:Gettinng data from endpoint https://api.notion.com/v1/databases/3290a9e9f0bf4d84bc57aae53f635e7e/query\nINFO:work.bdt_data_integration.src.streams:Successfully fetched page 9\nINFO:work.bdt_data_integration.src.streams:Gettinng data from endpoint https://api.notion.com/v1/databases/3290a9e9f0bf4d84bc57aae53f635e7e/query\nINFO:work.bdt_data_integration.src.streams:Successfully fetched page 10\nINFO:work.bdt_data_integration.src.streams:Gettinng data from endpoint https://api.notion.com/v1/databases/3290a9e9f0bf4d84bc57aae53f635e7e/query\nINFO:work.bdt_data_integration.src.streams:Successfully fetched page 11\nINFO:work.bdt_data_integration.src.streams:Gettinng data from endpoint https://api.notion.com/v1/databases/3290a9e9f0bf4d84bc57aae53f635e7e/query\nINFO:work.bdt_data_integration.src.streams:Successfully fetched page 12\n",
                    "output_type": "stream"
                }
            ],
            "outputs_reference": "s3:deepnote-cell-outputs-production/ca24fb5c-fb9b-4dd8-aa40-f2efb5749035",
            "content_dependencies": {
                "codeHash": "6ee98de0",
                "usedVariables": [],
                "importedModules": [],
                "definedVariables": []
            }
        },
        {
            "cell_type": "markdown",
            "metadata": {
                "formattedRanges": [],
                "deepnote_app_block_visible": true,
                "cell_id": "3e71545ffc5d4ad8b725fdd96735e51a",
                "deepnote_cell_type": "text-cell-h1"
            },
            "source": "# Transform",
            "block_group": "0301fdd4ee8f4117b56d9cfa48593b16"
        },
        {
            "cell_type": "markdown",
            "metadata": {
                "formattedRanges": [],
                "deepnote_app_block_visible": true,
                "cell_id": "508192d5ebec413aaf46b5373b7a6aaf",
                "deepnote_cell_type": "text-cell-callout"
            },
            "source": "> Nesta etapa ocorre a transformação dos dados, como obtenção de chaves e valores, alteração da estrutura, mudanças no texto e aí por diante.",
            "block_group": "985c024f3e5e489794520687ecc9dbbc"
        },
        {
            "cell_type": "code",
            "metadata": {
                "source_hash": "7ff7277f",
                "execution_start": 1726019678902,
                "execution_millis": 83,
                "deepnote_to_be_reexecuted": false,
                "deepnote_app_block_visible": true,
                "deepnote_app_is_code_hidden": true,
                "cell_id": "0d891a21c54f44ab81c371a9a1d78a71",
                "deepnote_cell_type": "code"
            },
            "source": "# Instanciar tranformador de dados\ntry:\n    transformer = NotionTransformer()\nexcept Exception as e:\n    notifier.pipeline_error(e)\n    raise e",
            "block_group": "dc1d2eab014b4a8c8b256d22796d1f0a",
            "execution_count": 7,
            "outputs": [],
            "outputs_reference": null,
            "content_dependencies": {
                "codeHash": "4b335d77",
                "usedVariables": [
                    "NotionTransformer"
                ],
                "importedModules": [],
                "definedVariables": [
                    "transformer"
                ]
            }
        },
        {
            "cell_type": "markdown",
            "metadata": {
                "formattedRanges": [],
                "deepnote_app_block_visible": true,
                "cell_id": "4cf0b18f86764e869cf2d2ac1692361d",
                "deepnote_cell_type": "text-cell-h2"
            },
            "source": "## ntn_utd_pages",
            "block_group": "79e8f3d09a0f4341b72aef1d7d2f2d82"
        },
        {
            "cell_type": "markdown",
            "metadata": {
                "formattedRanges": [],
                "deepnote_app_block_visible": true,
                "cell_id": "a882806e67f54d949c5cf71a275b6c51",
                "deepnote_cell_type": "text-cell-h3"
            },
            "source": "### processing",
            "block_group": "9e509a75aac94dc3854e660d65305069"
        },
        {
            "cell_type": "code",
            "metadata": {
                "source_hash": "90334743",
                "execution_start": 1726019678908,
                "execution_millis": 686,
                "deepnote_to_be_reexecuted": false,
                "deepnote_app_block_visible": true,
                "deepnote_app_is_code_hidden": true,
                "cell_id": "701aefa641dd4e799c20bd426f82dc48",
                "deepnote_cell_type": "code"
            },
            "source": "try:\n    file_path = Utils.get_latest_file('/work/data/raw/notion/universal_task_database', '.txt.gz')\n    if file_path:\n        records = Utils.read_records(file_path)\n    else:\n        print('No files found in the specified directory')\nexcept Exception as e:\n    notifier.pipeline_error(e)\n    raise e",
            "block_group": "58de2c28258e48f3bfdb8658ea7719ce",
            "execution_count": 8,
            "outputs": [],
            "outputs_reference": null,
            "content_dependencies": {
                "codeHash": "b62210a6",
                "usedVariables": [
                    "file_path",
                    "Utils"
                ],
                "importedModules": [],
                "definedVariables": [
                    "file_path",
                    "records"
                ]
            }
        },
        {
            "cell_type": "code",
            "metadata": {
                "source_hash": "af03e6f7",
                "execution_start": 1726019679700,
                "execution_millis": 93,
                "deepnote_table_state": {
                    "sortBy": [],
                    "filters": [],
                    "pageSize": 5,
                    "pageIndex": 0,
                    "conditionalFilters": []
                },
                "deepnote_table_loading": false,
                "deepnote_to_be_reexecuted": false,
                "deepnote_app_block_visible": true,
                "deepnote_app_is_code_hidden": true,
                "cell_id": "acf45ddf32bf4768bc12875de936b981",
                "deepnote_cell_type": "code"
            },
            "source": "try:\n    # Obter Dataframe com propriedades extraídas\n    extracted_properties_df = transformer.extract_pages_from_records(records)\n\n    # Converter todas as colunas de lista do dataframe para strings separadas por vírgulas\n    transformer.process_list_columns(extracted_properties_df)\n\n    # Converter todas as colunas de lista do dataframe para strings separadas por vírgulas\n    extracted_properties_df['Etapa'] = extracted_properties_df['Etapa'].str[4:]\n\n    # Atualizar a coluna Task Interval com o atributo 'start' do objeto\n    extracted_properties_df['Task Interval']  = extracted_properties_df['Task Interval'].apply(lambda x: x['start'] if isinstance(x, dict) and 'start' in x else None)\n\n    # Definindo uma coluna para identificar o horário da atualização\n\n    extracted_properties_df['loaded_at'] = datetime.now().strftime(\"%Y-%m-%d %H:%M:%S\")\n\n    extracted_properties_df['extracted_at'] = time\n\n    extracted_properties_df\nexcept Exception as e:\n    notifier.pipeline_error(e)\n    raise e",
            "block_group": "480d295f54d943bab671705c381f72bc",
            "execution_count": 9,
            "outputs": [],
            "outputs_reference": null,
            "content_dependencies": {
                "codeHash": "fab8840",
                "usedVariables": [
                    "extracted_properties_df",
                    "transformer",
                    "columns"
                ],
                "importedModules": [],
                "definedVariables": [
                    "extracted_properties_df",
                    "columns"
                ]
            }
        },
        {
            "cell_type": "code",
            "metadata": {
                "source_hash": "67e8eaec",
                "execution_start": 1726019679741,
                "execution_millis": 400,
                "deepnote_to_be_reexecuted": false,
                "deepnote_app_block_visible": true,
                "deepnote_app_is_code_hidden": true,
                "cell_id": "3ea1cb8d45a5468db9b89d909cd52e2a",
                "deepnote_cell_type": "code"
            },
            "source": "try:\n    output = writer.get_output_file_path('notion', 'ntn__utd_pages',target_layer='processing') + '.csv'\n    os.makedirs(os.path.dirname(output), exist_ok=True)\n    extracted_properties_df.to_csv(output, index=False)\nexcept Exception as e:\n    notifier.pipeline_error(e)\n    raise e",
            "block_group": "eb3bee61c8674eec89d8630c7cd0ea12",
            "execution_count": 10,
            "outputs": [],
            "outputs_reference": null,
            "content_dependencies": null
        },
        {
            "cell_type": "markdown",
            "metadata": {
                "formattedRanges": [],
                "deepnote_app_block_visible": true,
                "cell_id": "d68a76dc8392439587ef3c4ee43f0b78",
                "deepnote_cell_type": "text-cell-h3"
            },
            "source": "### staging",
            "block_group": "2e8025764b21487ea881ccc4f2b7d996"
        },
        {
            "cell_type": "code",
            "metadata": {
                "source_hash": "a7019b09",
                "execution_start": 1726019680145,
                "execution_millis": 237,
                "sql_integration_id": "deepnote-dataframe-sql",
                "deepnote_table_state": {
                    "sortBy": [],
                    "filters": [],
                    "pageSize": 5,
                    "pageIndex": 0,
                    "conditionalFilters": []
                },
                "deepnote_table_loading": false,
                "deepnote_variable_name": "ntn__utd_pages",
                "deepnote_to_be_reexecuted": false,
                "deepnote_app_block_visible": true,
                "deepnote_app_is_code_hidden": true,
                "cell_id": "f975d202c5d84bffa198c5b7044febb4",
                "deepnote_cell_type": "sql",
                "deepnote_sql_source": "SELECT id AS page_id,\n       \"Task ID\" as task_id,\n--       extracted_at as __deepnote_extracted_at,\n--       loaded_at as __deepnote_loaded_at,\n       Branch as branch,\n       archived,\n       in_trash,\n       last_edited_time,\n       created_time,\n       \"Título\" as titulo,\n       \"Created At\" as created_at,\n       \"Created By\" as created_by,\n       \"Updated At\" as updated_at,\n       \"Updated By\" as updated_by,\n       \"Responsável\" as responsavel,\n       \"Solicitante\" as solicitante,\n       \"Tester\" as tester,\n       \"Área\" as area,\n       \"Ambiente\" as ambiente,\n       \"Prioridade\" as prioridade,\n       \"SLA\" as sla,\n       \"Etapa\" as etapa,\n       \"Dias na Etapa\" as dias_na_etapa,\n       \"Dias até o SLA\" as dias_ate_o_sla,\n       \"Dias até o Desenvolvimento\" as dias_ate_o_desenvolvimento,\n       \"Dias de Desenvolvimento\" as dias_de_desenvolvimento,\n       \"Customer ID\" as customer_id,\n       \"Nome do Cliente\" as nome_do_cliente,\n       \"Justificativa\" as justificativa,\n       \"Sprint\" as sprint,\n       \"Bloqueando\" as bloqueando,\n       \"Bloqueado por\" as bloqueado_por,\n       \"Integração\" as integracao,\n       \"Projetos\" as projetos,\n       \"Stage Updated At\" as stage_updated_at,\n       \"Entered Approved At\" as entered_approved_at,\n       \"Entered Awaiting Version At\" as entered_awaiting_version_at,\n       \"Entered Backlog At\" as entered_backlog_at,\n       \"Entered Correction At\" as entered_correction_at,\n       \"Entered Doing At\" as entered_doing_at,\n       \"Entered Done At\" as entered_done_at,\n       \"Entered Testing At\" as entered_testing_at,\n       \"Entered To-Do At\" as entered_to_do_at,\n       \"Entered To-Test At\" as entered_to_test_at,\n       \"OKR\" as okr\nFROM extracted_properties_df;"
            },
            "source": "ntn__utd_pages = (lambda: _deepnote_execute_sql('SELECT id AS page_id,\\n       \"Task ID\" as task_id,\\n--       extracted_at as __deepnote_extracted_at,\\n--       loaded_at as __deepnote_loaded_at,\\n       Branch as branch,\\n       archived,\\n       in_trash,\\n       last_edited_time,\\n       created_time,\\n       \"Título\" as titulo,\\n       \"Created At\" as created_at,\\n       \"Created By\" as created_by,\\n       \"Updated At\" as updated_at,\\n       \"Updated By\" as updated_by,\\n       \"Responsável\" as responsavel,\\n       \"Solicitante\" as solicitante,\\n       \"Tester\" as tester,\\n       \"Área\" as area,\\n       \"Ambiente\" as ambiente,\\n       \"Prioridade\" as prioridade,\\n       \"SLA\" as sla,\\n       \"Etapa\" as etapa,\\n       \"Dias na Etapa\" as dias_na_etapa,\\n       \"Dias até o SLA\" as dias_ate_o_sla,\\n       \"Dias até o Desenvolvimento\" as dias_ate_o_desenvolvimento,\\n       \"Dias de Desenvolvimento\" as dias_de_desenvolvimento,\\n       \"Customer ID\" as customer_id,\\n       \"Nome do Cliente\" as nome_do_cliente,\\n       \"Justificativa\" as justificativa,\\n       \"Sprint\" as sprint,\\n       \"Bloqueando\" as bloqueando,\\n       \"Bloqueado por\" as bloqueado_por,\\n       \"Integração\" as integracao,\\n       \"Projetos\" as projetos,\\n       \"Stage Updated At\" as stage_updated_at,\\n       \"Entered Approved At\" as entered_approved_at,\\n       \"Entered Awaiting Version At\" as entered_awaiting_version_at,\\n       \"Entered Backlog At\" as entered_backlog_at,\\n       \"Entered Correction At\" as entered_correction_at,\\n       \"Entered Doing At\" as entered_doing_at,\\n       \"Entered Done At\" as entered_done_at,\\n       \"Entered Testing At\" as entered_testing_at,\\n       \"Entered To-Do At\" as entered_to_do_at,\\n       \"Entered To-Test At\" as entered_to_test_at,\\n       \"OKR\" as okr\\nFROM extracted_properties_df;', 'SQL_DEEPNOTE_DATAFRAME_SQL', audit_sql_comment='', sql_cache_mode='cache_disabled') if '_deepnote_execute_sql' in globals() else _dntk.execute_sql('SELECT id AS page_id,\\n       \"Task ID\" as task_id,\\n--       extracted_at as __deepnote_extracted_at,\\n--       loaded_at as __deepnote_loaded_at,\\n       Branch as branch,\\n       archived,\\n       in_trash,\\n       last_edited_time,\\n       created_time,\\n       \"Título\" as titulo,\\n       \"Created At\" as created_at,\\n       \"Created By\" as created_by,\\n       \"Updated At\" as updated_at,\\n       \"Updated By\" as updated_by,\\n       \"Responsável\" as responsavel,\\n       \"Solicitante\" as solicitante,\\n       \"Tester\" as tester,\\n       \"Área\" as area,\\n       \"Ambiente\" as ambiente,\\n       \"Prioridade\" as prioridade,\\n       \"SLA\" as sla,\\n       \"Etapa\" as etapa,\\n       \"Dias na Etapa\" as dias_na_etapa,\\n       \"Dias até o SLA\" as dias_ate_o_sla,\\n       \"Dias até o Desenvolvimento\" as dias_ate_o_desenvolvimento,\\n       \"Dias de Desenvolvimento\" as dias_de_desenvolvimento,\\n       \"Customer ID\" as customer_id,\\n       \"Nome do Cliente\" as nome_do_cliente,\\n       \"Justificativa\" as justificativa,\\n       \"Sprint\" as sprint,\\n       \"Bloqueando\" as bloqueando,\\n       \"Bloqueado por\" as bloqueado_por,\\n       \"Integração\" as integracao,\\n       \"Projetos\" as projetos,\\n       \"Stage Updated At\" as stage_updated_at,\\n       \"Entered Approved At\" as entered_approved_at,\\n       \"Entered Awaiting Version At\" as entered_awaiting_version_at,\\n       \"Entered Backlog At\" as entered_backlog_at,\\n       \"Entered Correction At\" as entered_correction_at,\\n       \"Entered Doing At\" as entered_doing_at,\\n       \"Entered Done At\" as entered_done_at,\\n       \"Entered Testing At\" as entered_testing_at,\\n       \"Entered To-Do At\" as entered_to_do_at,\\n       \"Entered To-Test At\" as entered_to_test_at,\\n       \"OKR\" as okr\\nFROM extracted_properties_df;', 'SQL_DEEPNOTE_DATAFRAME_SQL', audit_sql_comment='', sql_cache_mode='cache_disabled'))()\nntn__utd_pages",
            "block_group": "f61fee1aaffb4d1f926966e30bffc235",
            "execution_count": 11,
            "outputs": [
                {
                    "output_type": "execute_result",
                    "execution_count": 11,
                    "data": {
                        "application/vnd.deepnote.dataframe.v3+json": {
                            "column_count": 43,
                            "row_count": 1194,
                            "columns": [
                                {
                                    "name": "page_id",
                                    "dtype": "object",
                                    "stats": {
                                        "unique_count": 1194,
                                        "nan_count": 0,
                                        "categories": [
                                            {
                                                "name": "df559ffe-26f0-464d-9891-b9b7fea94190",
                                                "count": 1
                                            },
                                            {
                                                "name": "3a1790ae-5f03-4cec-abf5-224271f76dad",
                                                "count": 1
                                            },
                                            {
                                                "name": "1192 others",
                                                "count": 1192
                                            }
                                        ]
                                    }
                                },
                                {
                                    "name": "task_id",
                                    "dtype": "object",
                                    "stats": {
                                        "unique_count": 1136,
                                        "nan_count": 2,
                                        "categories": [
                                            {
                                                "name": "HF-651",
                                                "count": 3
                                            },
                                            {
                                                "name": "1135 others",
                                                "count": 1189
                                            },
                                            {
                                                "name": "Missing",
                                                "count": 2
                                            }
                                        ]
                                    }
                                },
                                {
                                    "name": "branch",
                                    "dtype": "object",
                                    "stats": {
                                        "unique_count": 149,
                                        "nan_count": 0,
                                        "categories": [
                                            {
                                                "name": "",
                                                "count": 1023
                                            },
                                            {
                                                "name": "INO-Sankhya",
                                                "count": 9
                                            },
                                            {
                                                "name": "147 others",
                                                "count": 162
                                            }
                                        ]
                                    }
                                },
                                {
                                    "name": "archived",
                                    "dtype": "bool",
                                    "stats": {
                                        "unique_count": 1,
                                        "nan_count": 0,
                                        "categories": [
                                            {
                                                "name": "False",
                                                "count": 1194
                                            }
                                        ]
                                    }
                                },
                                {
                                    "name": "in_trash",
                                    "dtype": "bool",
                                    "stats": {
                                        "unique_count": 1,
                                        "nan_count": 0,
                                        "categories": [
                                            {
                                                "name": "False",
                                                "count": 1194
                                            }
                                        ]
                                    }
                                },
                                {
                                    "name": "last_edited_time",
                                    "dtype": "object",
                                    "stats": {
                                        "unique_count": 223,
                                        "nan_count": 0,
                                        "categories": [
                                            {
                                                "name": "2024-04-11T18:30:00.000Z",
                                                "count": 259
                                            },
                                            {
                                                "name": "2024-05-29T18:53:00.000Z",
                                                "count": 203
                                            },
                                            {
                                                "name": "221 others",
                                                "count": 732
                                            }
                                        ]
                                    }
                                },
                                {
                                    "name": "created_time",
                                    "dtype": "object",
                                    "stats": {
                                        "unique_count": 402,
                                        "nan_count": 0,
                                        "categories": [
                                            {
                                                "name": "2024-03-01T18:26:00.000Z",
                                                "count": 781
                                            },
                                            {
                                                "name": "2024-07-24T19:05:00.000Z",
                                                "count": 4
                                            },
                                            {
                                                "name": "400 others",
                                                "count": 409
                                            }
                                        ]
                                    }
                                },
                                {
                                    "name": "titulo",
                                    "dtype": "object",
                                    "stats": {
                                        "unique_count": 1189,
                                        "nan_count": 0,
                                        "categories": [
                                            {
                                                "name": "PRD-980 - Incluir critério de produto na configuração de dependências de características",
                                                "count": 2
                                            },
                                            {
                                                "name": "PRD-1120 - Criar critério de tabela de preço na política comercial de comissão por ítem",
                                                "count": 2
                                            },
                                            {
                                                "name": "1187 others",
                                                "count": 1190
                                            }
                                        ]
                                    }
                                },
                                {
                                    "name": "created_at",
                                    "dtype": "object",
                                    "stats": {
                                        "unique_count": 402,
                                        "nan_count": 0,
                                        "categories": [
                                            {
                                                "name": "2024-03-01T18:26:00.000Z",
                                                "count": 781
                                            },
                                            {
                                                "name": "2024-07-24T19:05:00.000Z",
                                                "count": 4
                                            },
                                            {
                                                "name": "400 others",
                                                "count": 409
                                            }
                                        ]
                                    }
                                },
                                {
                                    "name": "created_by",
                                    "dtype": "object",
                                    "stats": {
                                        "unique_count": 15,
                                        "nan_count": 0,
                                        "categories": [
                                            {
                                                "name": "Cauê Ausec",
                                                "count": 946
                                            },
                                            {
                                                "name": "Vitória Martins",
                                                "count": 78
                                            },
                                            {
                                                "name": "13 others",
                                                "count": 170
                                            }
                                        ]
                                    }
                                },
                                {
                                    "name": "updated_at",
                                    "dtype": "object",
                                    "stats": {
                                        "unique_count": 223,
                                        "nan_count": 0,
                                        "categories": [
                                            {
                                                "name": "2024-04-11T18:30:00.000Z",
                                                "count": 259
                                            },
                                            {
                                                "name": "2024-05-29T18:53:00.000Z",
                                                "count": 203
                                            },
                                            {
                                                "name": "221 others",
                                                "count": 732
                                            }
                                        ]
                                    }
                                },
                                {
                                    "name": "updated_by",
                                    "dtype": "object",
                                    "stats": {
                                        "unique_count": 16,
                                        "nan_count": 0,
                                        "categories": [
                                            {
                                                "name": "Cauê Ausec",
                                                "count": 1020
                                            },
                                            {
                                                "name": "",
                                                "count": 124
                                            },
                                            {
                                                "name": "14 others",
                                                "count": 50
                                            }
                                        ]
                                    }
                                },
                                {
                                    "name": "responsavel",
                                    "dtype": "object",
                                    "stats": {
                                        "unique_count": 80,
                                        "nan_count": 0,
                                        "categories": [
                                            {
                                                "name": "",
                                                "count": 365
                                            },
                                            {
                                                "name": "Vitor Lehmkuhl",
                                                "count": 295
                                            },
                                            {
                                                "name": "78 others",
                                                "count": 534
                                            }
                                        ]
                                    }
                                },
                                {
                                    "name": "solicitante",
                                    "dtype": "object",
                                    "stats": {
                                        "unique_count": 45,
                                        "nan_count": 0,
                                        "categories": [
                                            {
                                                "name": "",
                                                "count": 369
                                            },
                                            {
                                                "name": "Vitória Martins",
                                                "count": 268
                                            },
                                            {
                                                "name": "43 others",
                                                "count": 557
                                            }
                                        ]
                                    }
                                },
                                {
                                    "name": "tester",
                                    "dtype": "object",
                                    "stats": {
                                        "unique_count": 14,
                                        "nan_count": 0,
                                        "categories": [
                                            {
                                                "name": "",
                                                "count": 813
                                            },
                                            {
                                                "name": "Fernando Luppi",
                                                "count": 262
                                            },
                                            {
                                                "name": "12 others",
                                                "count": 119
                                            }
                                        ]
                                    }
                                },
                                {
                                    "name": "area",
                                    "dtype": "object",
                                    "stats": {
                                        "unique_count": 3,
                                        "nan_count": 2,
                                        "categories": [
                                            {
                                                "name": "Suporte",
                                                "count": 1010
                                            },
                                            {
                                                "name": "2 others",
                                                "count": 182
                                            },
                                            {
                                                "name": "Missing",
                                                "count": 2
                                            }
                                        ]
                                    }
                                },
                                {
                                    "name": "ambiente",
                                    "dtype": "object",
                                    "stats": {
                                        "unique_count": 45,
                                        "nan_count": 0,
                                        "categories": [
                                            {
                                                "name": "",
                                                "count": 462
                                            },
                                            {
                                                "name": "Mobile",
                                                "count": 269
                                            },
                                            {
                                                "name": "43 others",
                                                "count": 463
                                            }
                                        ]
                                    }
                                },
                                {
                                    "name": "prioridade",
                                    "dtype": "object",
                                    "stats": {
                                        "unique_count": 4,
                                        "nan_count": 11,
                                        "categories": [
                                            {
                                                "name": "Alta",
                                                "count": 380
                                            },
                                            {
                                                "name": "3 others",
                                                "count": 803
                                            },
                                            {
                                                "name": "Missing",
                                                "count": 11
                                            }
                                        ]
                                    }
                                },
                                {
                                    "name": "sla",
                                    "dtype": "object",
                                    "stats": {
                                        "unique_count": 55,
                                        "nan_count": 771,
                                        "categories": [
                                            {
                                                "name": "",
                                                "count": 184
                                            },
                                            {
                                                "name": "54 others",
                                                "count": 239
                                            },
                                            {
                                                "name": "Missing",
                                                "count": 771
                                            }
                                        ]
                                    }
                                },
                                {
                                    "name": "etapa",
                                    "dtype": "object",
                                    "stats": {
                                        "unique_count": 8,
                                        "nan_count": 3,
                                        "categories": [
                                            {
                                                "name": "Finalizado",
                                                "count": 1125
                                            },
                                            {
                                                "name": "7 others",
                                                "count": 66
                                            },
                                            {
                                                "name": "Missing",
                                                "count": 3
                                            }
                                        ]
                                    }
                                },
                                {
                                    "name": "dias_na_etapa",
                                    "dtype": "float64",
                                    "stats": {
                                        "unique_count": 87,
                                        "nan_count": 11,
                                        "min": "1.0",
                                        "max": "167.0",
                                        "histogram": [
                                            {
                                                "bin_start": 1,
                                                "bin_end": 17.6,
                                                "count": 42
                                            },
                                            {
                                                "bin_start": 17.6,
                                                "bin_end": 34.2,
                                                "count": 33
                                            },
                                            {
                                                "bin_start": 34.2,
                                                "bin_end": 50.800000000000004,
                                                "count": 57
                                            },
                                            {
                                                "bin_start": 50.800000000000004,
                                                "bin_end": 67.4,
                                                "count": 30
                                            },
                                            {
                                                "bin_start": 67.4,
                                                "bin_end": 84,
                                                "count": 28
                                            },
                                            {
                                                "bin_start": 84,
                                                "bin_end": 100.60000000000001,
                                                "count": 53
                                            },
                                            {
                                                "bin_start": 100.60000000000001,
                                                "bin_end": 117.20000000000002,
                                                "count": 23
                                            },
                                            {
                                                "bin_start": 117.20000000000002,
                                                "bin_end": 133.8,
                                                "count": 31
                                            },
                                            {
                                                "bin_start": 133.8,
                                                "bin_end": 150.4,
                                                "count": 36
                                            },
                                            {
                                                "bin_start": 150.4,
                                                "bin_end": 167,
                                                "count": 850
                                            }
                                        ]
                                    }
                                },
                                {
                                    "name": "dias_ate_o_sla",
                                    "dtype": "float64",
                                    "stats": {
                                        "unique_count": 54,
                                        "nan_count": 805,
                                        "min": "-72.0",
                                        "max": "99.0",
                                        "histogram": [
                                            {
                                                "bin_start": -72,
                                                "bin_end": -54.9,
                                                "count": 4
                                            },
                                            {
                                                "bin_start": -54.9,
                                                "bin_end": -37.8,
                                                "count": 2
                                            },
                                            {
                                                "bin_start": -37.8,
                                                "bin_end": -20.699999999999996,
                                                "count": 12
                                            },
                                            {
                                                "bin_start": -20.699999999999996,
                                                "bin_end": -3.5999999999999943,
                                                "count": 62
                                            },
                                            {
                                                "bin_start": -3.5999999999999943,
                                                "bin_end": 13.5,
                                                "count": 113
                                            },
                                            {
                                                "bin_start": 13.5,
                                                "bin_end": 30.60000000000001,
                                                "count": 12
                                            },
                                            {
                                                "bin_start": 30.60000000000001,
                                                "bin_end": 47.70000000000002,
                                                "count": 0
                                            },
                                            {
                                                "bin_start": 47.70000000000002,
                                                "bin_end": 64.80000000000001,
                                                "count": 0
                                            },
                                            {
                                                "bin_start": 64.80000000000001,
                                                "bin_end": 81.9,
                                                "count": 0
                                            },
                                            {
                                                "bin_start": 81.9,
                                                "bin_end": 99,
                                                "count": 184
                                            }
                                        ]
                                    }
                                },
                                {
                                    "name": "dias_ate_o_desenvolvimento",
                                    "dtype": "float64",
                                    "stats": {
                                        "unique_count": 57,
                                        "nan_count": 959,
                                        "min": "-80.0",
                                        "max": "128.0",
                                        "histogram": [
                                            {
                                                "bin_start": -80,
                                                "bin_end": -59.2,
                                                "count": 1
                                            },
                                            {
                                                "bin_start": -59.2,
                                                "bin_end": -38.4,
                                                "count": 0
                                            },
                                            {
                                                "bin_start": -38.4,
                                                "bin_end": -17.599999999999994,
                                                "count": 1
                                            },
                                            {
                                                "bin_start": -17.599999999999994,
                                                "bin_end": 3.200000000000003,
                                                "count": 44
                                            },
                                            {
                                                "bin_start": 3.200000000000003,
                                                "bin_end": 24,
                                                "count": 134
                                            },
                                            {
                                                "bin_start": 24,
                                                "bin_end": 44.80000000000001,
                                                "count": 36
                                            },
                                            {
                                                "bin_start": 44.80000000000001,
                                                "bin_end": 65.6,
                                                "count": 4
                                            },
                                            {
                                                "bin_start": 65.6,
                                                "bin_end": 86.4,
                                                "count": 8
                                            },
                                            {
                                                "bin_start": 86.4,
                                                "bin_end": 107.20000000000002,
                                                "count": 4
                                            },
                                            {
                                                "bin_start": 107.20000000000002,
                                                "bin_end": 128,
                                                "count": 3
                                            }
                                        ]
                                    }
                                },
                                {
                                    "name": "dias_de_desenvolvimento",
                                    "dtype": "float64",
                                    "stats": {
                                        "unique_count": 33,
                                        "nan_count": 1046,
                                        "min": "-7.0",
                                        "max": "89.0",
                                        "histogram": [
                                            {
                                                "bin_start": -7,
                                                "bin_end": 2.5999999999999996,
                                                "count": 44
                                            },
                                            {
                                                "bin_start": 2.5999999999999996,
                                                "bin_end": 12.2,
                                                "count": 70
                                            },
                                            {
                                                "bin_start": 12.2,
                                                "bin_end": 21.799999999999997,
                                                "count": 19
                                            },
                                            {
                                                "bin_start": 21.799999999999997,
                                                "bin_end": 31.4,
                                                "count": 11
                                            },
                                            {
                                                "bin_start": 31.4,
                                                "bin_end": 41,
                                                "count": 2
                                            },
                                            {
                                                "bin_start": 41,
                                                "bin_end": 50.599999999999994,
                                                "count": 0
                                            },
                                            {
                                                "bin_start": 50.599999999999994,
                                                "bin_end": 60.2,
                                                "count": 0
                                            },
                                            {
                                                "bin_start": 60.2,
                                                "bin_end": 69.8,
                                                "count": 0
                                            },
                                            {
                                                "bin_start": 69.8,
                                                "bin_end": 79.39999999999999,
                                                "count": 0
                                            },
                                            {
                                                "bin_start": 79.39999999999999,
                                                "bin_end": 89,
                                                "count": 2
                                            }
                                        ]
                                    }
                                },
                                {
                                    "name": "customer_id",
                                    "dtype": "object",
                                    "stats": {
                                        "unique_count": 317,
                                        "nan_count": 0,
                                        "categories": [
                                            {
                                                "name": "",
                                                "count": 255
                                            },
                                            {
                                                "name": "134",
                                                "count": 32
                                            },
                                            {
                                                "name": "315 others",
                                                "count": 907
                                            }
                                        ]
                                    }
                                },
                                {
                                    "name": "nome_do_cliente",
                                    "dtype": "object",
                                    "stats": {
                                        "unique_count": 340,
                                        "nan_count": 0,
                                        "categories": [
                                            {
                                                "name": "",
                                                "count": 383
                                            },
                                            {
                                                "name": "Futebol e Magia",
                                                "count": 23
                                            },
                                            {
                                                "name": "338 others",
                                                "count": 788
                                            }
                                        ]
                                    }
                                },
                                {
                                    "name": "justificativa",
                                    "dtype": "object",
                                    "stats": {
                                        "unique_count": 7,
                                        "nan_count": 1132,
                                        "categories": [
                                            {
                                                "name": "Duplicada",
                                                "count": 18
                                            },
                                            {
                                                "name": "6 others",
                                                "count": 44
                                            },
                                            {
                                                "name": "Missing",
                                                "count": 1132
                                            }
                                        ]
                                    }
                                },
                                {
                                    "name": "sprint",
                                    "dtype": "object",
                                    "stats": {
                                        "unique_count": 24,
                                        "nan_count": 0,
                                        "categories": [
                                            {
                                                "name": "",
                                                "count": 1089
                                            },
                                            {
                                                "name": "79",
                                                "count": 18
                                            },
                                            {
                                                "name": "22 others",
                                                "count": 87
                                            }
                                        ]
                                    }
                                },
                                {
                                    "name": "bloqueando",
                                    "dtype": "object",
                                    "stats": {
                                        "unique_count": 10,
                                        "nan_count": 0,
                                        "categories": [
                                            {
                                                "name": "",
                                                "count": 1181
                                            },
                                            {
                                                "name": "525402a4-7757-48a0-b1eb-bf1279cacbdb",
                                                "count": 4
                                            },
                                            {
                                                "name": "8 others",
                                                "count": 9
                                            }
                                        ]
                                    }
                                },
                                {
                                    "name": "bloqueado_por",
                                    "dtype": "object",
                                    "stats": {
                                        "unique_count": 10,
                                        "nan_count": 0,
                                        "categories": [
                                            {
                                                "name": "",
                                                "count": 1178
                                            },
                                            {
                                                "name": "57698c50-fbb8-4df9-b489-fb5d3333dfa5",
                                                "count": 6
                                            },
                                            {
                                                "name": "8 others",
                                                "count": 10
                                            }
                                        ]
                                    }
                                },
                                {
                                    "name": "integracao",
                                    "dtype": "object",
                                    "stats": {
                                        "unique_count": 8,
                                        "nan_count": 0,
                                        "categories": [
                                            {
                                                "name": "",
                                                "count": 1078
                                            },
                                            {
                                                "name": "Bling",
                                                "count": 41
                                            },
                                            {
                                                "name": "6 others",
                                                "count": 75
                                            }
                                        ]
                                    }
                                },
                                {
                                    "name": "projetos",
                                    "dtype": "object",
                                    "stats": {
                                        "unique_count": 1,
                                        "nan_count": 0,
                                        "categories": [
                                            {
                                                "name": "",
                                                "count": 1194
                                            }
                                        ]
                                    }
                                },
                                {
                                    "name": "stage_updated_at",
                                    "dtype": "object",
                                    "stats": {
                                        "unique_count": 234,
                                        "nan_count": 1,
                                        "categories": [
                                            {
                                                "name": "2024-03-27T12:02:00.000-03:00",
                                                "count": 826
                                            },
                                            {
                                                "name": "233 others",
                                                "count": 367
                                            },
                                            {
                                                "name": "Missing",
                                                "count": 1
                                            }
                                        ]
                                    }
                                },
                                {
                                    "name": "entered_approved_at",
                                    "dtype": "object",
                                    "stats": {
                                        "unique_count": 189,
                                        "nan_count": 1000,
                                        "categories": [
                                            {
                                                "name": "2024-07-29T14:45:00.000-03:00",
                                                "count": 3
                                            },
                                            {
                                                "name": "188 others",
                                                "count": 191
                                            },
                                            {
                                                "name": "Missing",
                                                "count": 1000
                                            }
                                        ]
                                    }
                                },
                                {
                                    "name": "entered_awaiting_version_at",
                                    "dtype": "object",
                                    "stats": {
                                        "unique_count": 212,
                                        "nan_count": 962,
                                        "categories": [
                                            {
                                                "name": "2024-07-02T17:34:00.000-03:00",
                                                "count": 4
                                            },
                                            {
                                                "name": "211 others",
                                                "count": 228
                                            },
                                            {
                                                "name": "Missing",
                                                "count": 962
                                            }
                                        ]
                                    }
                                },
                                {
                                    "name": "entered_backlog_at",
                                    "dtype": "object",
                                    "stats": {
                                        "unique_count": 198,
                                        "nan_count": 971,
                                        "categories": [
                                            {
                                                "name": "2024-03-25T20:54:00.000-03:00",
                                                "count": 4
                                            },
                                            {
                                                "name": "197 others",
                                                "count": 219
                                            },
                                            {
                                                "name": "Missing",
                                                "count": 971
                                            }
                                        ]
                                    }
                                },
                                {
                                    "name": "entered_correction_at",
                                    "dtype": "object",
                                    "stats": {
                                        "unique_count": 90,
                                        "nan_count": 1102,
                                        "categories": [
                                            {
                                                "name": "2024-06-11T11:52:00.000-03:00",
                                                "count": 3
                                            },
                                            {
                                                "name": "89 others",
                                                "count": 89
                                            },
                                            {
                                                "name": "Missing",
                                                "count": 1102
                                            }
                                        ]
                                    }
                                },
                                {
                                    "name": "entered_doing_at",
                                    "dtype": "object",
                                    "stats": {
                                        "unique_count": 270,
                                        "nan_count": 917,
                                        "categories": [
                                            {
                                                "name": "2024-06-19T16:15:00.000-03:00",
                                                "count": 3
                                            },
                                            {
                                                "name": "269 others",
                                                "count": 274
                                            },
                                            {
                                                "name": "Missing",
                                                "count": 917
                                            }
                                        ]
                                    }
                                },
                                {
                                    "name": "entered_done_at",
                                    "dtype": "object",
                                    "stats": {
                                        "unique_count": 204,
                                        "nan_count": 860,
                                        "categories": [
                                            {
                                                "name": "2024-04-18T17:18:00.000-03:00",
                                                "count": 10
                                            },
                                            {
                                                "name": "203 others",
                                                "count": 324
                                            },
                                            {
                                                "name": "Missing",
                                                "count": 860
                                            }
                                        ]
                                    }
                                },
                                {
                                    "name": "entered_testing_at",
                                    "dtype": "object",
                                    "stats": {
                                        "unique_count": 225,
                                        "nan_count": 961,
                                        "categories": [
                                            {
                                                "name": "2024-06-11T10:47:00.000-03:00",
                                                "count": 3
                                            },
                                            {
                                                "name": "224 others",
                                                "count": 230
                                            },
                                            {
                                                "name": "Missing",
                                                "count": 961
                                            }
                                        ]
                                    }
                                },
                                {
                                    "name": "entered_to_do_at",
                                    "dtype": "object",
                                    "stats": {
                                        "unique_count": 216,
                                        "nan_count": 949,
                                        "categories": [
                                            {
                                                "name": "2024-06-18T11:08:00.000-03:00",
                                                "count": 5
                                            },
                                            {
                                                "name": "215 others",
                                                "count": 240
                                            },
                                            {
                                                "name": "Missing",
                                                "count": 949
                                            }
                                        ]
                                    }
                                },
                                {
                                    "name": "entered_to_test_at",
                                    "dtype": "object",
                                    "stats": {
                                        "unique_count": 240,
                                        "nan_count": 948,
                                        "categories": [
                                            {
                                                "name": "2024-06-11T10:11:00.000-03:00",
                                                "count": 3
                                            },
                                            {
                                                "name": "239 others",
                                                "count": 243
                                            },
                                            {
                                                "name": "Missing",
                                                "count": 948
                                            }
                                        ]
                                    }
                                },
                                {
                                    "name": "okr",
                                    "dtype": "object",
                                    "stats": {
                                        "unique_count": 2,
                                        "nan_count": 1175,
                                        "categories": [
                                            {
                                                "name": "Entregar acima de 90% do roadmap de melhorias para o Configurador de produtos",
                                                "count": 17
                                            },
                                            {
                                                "name": "Entregar acima de 50% da primeira versão do roadmap focado no segmento AB",
                                                "count": 2
                                            },
                                            {
                                                "name": "Missing",
                                                "count": 1175
                                            }
                                        ]
                                    }
                                },
                                {
                                    "name": "_deepnote_index_column",
                                    "dtype": "int64"
                                }
                            ],
                            "rows": [
                                {
                                    "page_id": "df559ffe-26f0-464d-9891-b9b7fea94190",
                                    "task_id": "HF-1015",
                                    "branch": "",
                                    "archived": "False",
                                    "in_trash": "False",
                                    "last_edited_time": "2024-09-10T18:11:00.000Z",
                                    "created_time": "2024-09-09T18:54:00.000Z",
                                    "titulo": "#1015 - Loading infinito APP",
                                    "created_at": "2024-09-09T18:54:00.000Z",
                                    "created_by": "Cristian Kestring",
                                    "updated_at": "2024-09-10T18:11:00.000Z",
                                    "updated_by": "Cristian Kestring",
                                    "responsavel": "Cauê Ausec",
                                    "solicitante": "Cristian Kestring",
                                    "tester": "",
                                    "area": "Suporte",
                                    "ambiente": "Mobile",
                                    "prioridade": "Média",
                                    "sla": "⌛️ 13 dias restantes",
                                    "etapa": "Entrada",
                                    "dias_na_etapa": 1,
                                    "dias_ate_o_sla": 13,
                                    "dias_ate_o_desenvolvimento": "nan",
                                    "dias_de_desenvolvimento": "nan",
                                    "customer_id": "712",
                                    "nome_do_cliente": "Rosim",
                                    "justificativa": "None",
                                    "sprint": "",
                                    "bloqueando": "",
                                    "bloqueado_por": "",
                                    "integracao": "",
                                    "projetos": "",
                                    "stage_updated_at": "2024-09-09T15:54:00.000-03:00",
                                    "entered_approved_at": "None",
                                    "entered_awaiting_version_at": "None",
                                    "entered_backlog_at": "None",
                                    "entered_correction_at": "None",
                                    "entered_doing_at": "None",
                                    "entered_done_at": "None",
                                    "entered_testing_at": "None",
                                    "entered_to_do_at": "None",
                                    "entered_to_test_at": "None",
                                    "okr": "None",
                                    "_deepnote_index_column": 0
                                },
                                {
                                    "page_id": "3a1790ae-5f03-4cec-abf5-224271f76dad",
                                    "task_id": "PRD-1388",
                                    "branch": "",
                                    "archived": "False",
                                    "in_trash": "False",
                                    "last_edited_time": "2024-09-09T18:24:00.000Z",
                                    "created_time": "2024-09-09T18:20:00.000Z",
                                    "titulo": "Exibir data da última atualização do produto na listagem de produtos web",
                                    "created_at": "2024-09-09T18:20:00.000Z",
                                    "created_by": "Cauê Ausec",
                                    "updated_at": "2024-09-09T18:24:00.000Z",
                                    "updated_by": "Cauê Ausec",
                                    "responsavel": "",
                                    "solicitante": "Cauê Ausec",
                                    "tester": "",
                                    "area": "Produto",
                                    "ambiente": "",
                                    "prioridade": "Média",
                                    "sla": "",
                                    "etapa": "Entrada",
                                    "dias_na_etapa": 1,
                                    "dias_ate_o_sla": 99,
                                    "dias_ate_o_desenvolvimento": "nan",
                                    "dias_de_desenvolvimento": "nan",
                                    "customer_id": "",
                                    "nome_do_cliente": "",
                                    "justificativa": "None",
                                    "sprint": "",
                                    "bloqueando": "",
                                    "bloqueado_por": "",
                                    "integracao": "",
                                    "projetos": "",
                                    "stage_updated_at": "2024-09-09T15:20:00.000-03:00",
                                    "entered_approved_at": "None",
                                    "entered_awaiting_version_at": "None",
                                    "entered_backlog_at": "None",
                                    "entered_correction_at": "None",
                                    "entered_doing_at": "None",
                                    "entered_done_at": "None",
                                    "entered_testing_at": "None",
                                    "entered_to_do_at": "None",
                                    "entered_to_test_at": "None",
                                    "okr": "None",
                                    "_deepnote_index_column": 1
                                },
                                {
                                    "page_id": "1e15cafa-1b44-4a91-8738-28793c82ad26",
                                    "task_id": "PRD-1384",
                                    "branch": "",
                                    "archived": "False",
                                    "in_trash": "False",
                                    "last_edited_time": "2024-09-04T18:03:00.000Z",
                                    "created_time": "2024-09-04T16:57:00.000Z",
                                    "titulo": "O botão “Ver detalhes” na pagina de pedidos em analise está causando um loading infinito ",
                                    "created_at": "2024-09-04T16:57:00.000Z",
                                    "created_by": "Fernando Luppi",
                                    "updated_at": "2024-09-04T18:03:00.000Z",
                                    "updated_by": "Cauê Ausec",
                                    "responsavel": "Cauê Ausec",
                                    "solicitante": "Fernando Luppi",
                                    "tester": "Fernando Luppi",
                                    "area": "Produto",
                                    "ambiente": "Mobile",
                                    "prioridade": "Média",
                                    "sla": "",
                                    "etapa": "Entrada",
                                    "dias_na_etapa": 6,
                                    "dias_ate_o_sla": 99,
                                    "dias_ate_o_desenvolvimento": "nan",
                                    "dias_de_desenvolvimento": "nan",
                                    "customer_id": "",
                                    "nome_do_cliente": "",
                                    "justificativa": "None",
                                    "sprint": "",
                                    "bloqueando": "",
                                    "bloqueado_por": "",
                                    "integracao": "",
                                    "projetos": "",
                                    "stage_updated_at": "2024-09-04T13:58:00.000-03:00",
                                    "entered_approved_at": "None",
                                    "entered_awaiting_version_at": "None",
                                    "entered_backlog_at": "None",
                                    "entered_correction_at": "None",
                                    "entered_doing_at": "None",
                                    "entered_done_at": "None",
                                    "entered_testing_at": "None",
                                    "entered_to_do_at": "None",
                                    "entered_to_test_at": "None",
                                    "okr": "None",
                                    "_deepnote_index_column": 2
                                },
                                {
                                    "page_id": "74915308-d1a4-4403-b3f9-431d2d6ec9aa",
                                    "task_id": "HF-1014",
                                    "branch": "",
                                    "archived": "False",
                                    "in_trash": "False",
                                    "last_edited_time": "2024-09-10T22:07:00.000Z",
                                    "created_time": "2024-09-04T16:55:00.000Z",
                                    "titulo": "#1014 Tiny - Duplicação de Contato ao Importar Cliente ",
                                    "created_at": "2024-09-04T16:55:00.000Z",
                                    "created_by": "Laura Prass",
                                    "updated_at": "2024-09-10T22:07:00.000Z",
                                    "updated_by": "Cauê Ausec",
                                    "responsavel": "Cauê Ausec",
                                    "solicitante": "Laura Prass",
                                    "tester": "",
                                    "area": "Suporte",
                                    "ambiente": "Web",
                                    "prioridade": "Média",
                                    "sla": "⌛️ 8 dias restantes",
                                    "etapa": "Fazendo",
                                    "dias_na_etapa": "nan",
                                    "dias_ate_o_sla": 8,
                                    "dias_ate_o_desenvolvimento": 6,
                                    "dias_de_desenvolvimento": "nan",
                                    "customer_id": "QA",
                                    "nome_do_cliente": "Bendito",
                                    "justificativa": "None",
                                    "sprint": "",
                                    "bloqueando": "",
                                    "bloqueado_por": "",
                                    "integracao": "Tiny",
                                    "projetos": "",
                                    "stage_updated_at": "2024-09-10T17:46:00.000-03:00",
                                    "entered_approved_at": "None",
                                    "entered_awaiting_version_at": "None",
                                    "entered_backlog_at": "2024-09-06T13:57:00.000-03:00",
                                    "entered_correction_at": "None",
                                    "entered_doing_at": "2024-09-10T17:46:00.000-03:00",
                                    "entered_done_at": "None",
                                    "entered_testing_at": "None",
                                    "entered_to_do_at": "2024-09-10T17:46:00.000-03:00",
                                    "entered_to_test_at": "None",
                                    "okr": "None",
                                    "_deepnote_index_column": 3
                                },
                                {
                                    "page_id": "4f76e0c7-d2df-40da-b1df-17959f63e58f",
                                    "task_id": "PRD-1382",
                                    "branch": "PRD-1382",
                                    "archived": "False",
                                    "in_trash": "False",
                                    "last_edited_time": "2024-09-10T16:48:00.000Z",
                                    "created_time": "2024-09-03T16:59:00.000Z",
                                    "titulo": "PRD-1382 - Incluir atualização parcial de produtos no import product da deltacon.",
                                    "created_at": "2024-09-03T16:59:00.000Z",
                                    "created_by": "Cauê Ausec",
                                    "updated_at": "2024-09-10T16:48:00.000Z",
                                    "updated_by": "Laura Prass",
                                    "responsavel": "Daniel Mergen",
                                    "solicitante": "Cauê Ausec",
                                    "tester": "Laura Prass",
                                    "area": "Produto",
                                    "ambiente": "Web, API",
                                    "prioridade": "Média",
                                    "sla": "",
                                    "etapa": "Corrigindo",
                                    "dias_na_etapa": "nan",
                                    "dias_ate_o_sla": 99,
                                    "dias_ate_o_desenvolvimento": 1,
                                    "dias_de_desenvolvimento": 4,
                                    "customer_id": "",
                                    "nome_do_cliente": "",
                                    "justificativa": "None",
                                    "sprint": "85, 86",
                                    "bloqueando": "",
                                    "bloqueado_por": "",
                                    "integracao": "",
                                    "projetos": "",
                                    "stage_updated_at": "2024-09-10T11:16:00.000-03:00",
                                    "entered_approved_at": "2024-09-09T15:38:00.000-03:00",
                                    "entered_awaiting_version_at": "2024-09-09T15:46:00.000-03:00",
                                    "entered_backlog_at": "2024-09-03T13:59:00.000-03:00",
                                    "entered_correction_at": "2024-09-10T11:16:00.000-03:00",
                                    "entered_doing_at": "2024-09-05T13:33:00.000-03:00",
                                    "entered_done_at": "None",
                                    "entered_testing_at": "2024-09-09T15:55:00.000-03:00",
                                    "entered_to_do_at": "2024-09-05T13:32:00.000-03:00",
                                    "entered_to_test_at": "2024-09-06T12:14:00.000-03:00",
                                    "okr": "None",
                                    "_deepnote_index_column": 4
                                }
                            ]
                        },
                        "text/plain": "                                   page_id   task_id    branch  archived  \\\n0     df559ffe-26f0-464d-9891-b9b7fea94190   HF-1015               False   \n1     3a1790ae-5f03-4cec-abf5-224271f76dad  PRD-1388               False   \n2     1e15cafa-1b44-4a91-8738-28793c82ad26  PRD-1384               False   \n3     74915308-d1a4-4403-b3f9-431d2d6ec9aa   HF-1014               False   \n4     4f76e0c7-d2df-40da-b1df-17959f63e58f  PRD-1382  PRD-1382     False   \n...                                    ...       ...       ...       ...   \n1189  d38a422c-b44d-4027-b208-d4e7d6cacf7d    HF-264               False   \n1190  dd81b65a-c1c5-4e9e-83d5-7a812132e81e    HF-352               False   \n1191  e45cd20b-8bfb-4eec-9637-8231ca90dbba    HF-606               False   \n1192  31a3ea18-814b-4e00-91da-02770e84df1d    HF-523               False   \n1193  78e465de-d6df-4e3b-b0be-dde01b711ebb    HF-752    HF-752     False   \n\n      in_trash          last_edited_time              created_time  \\\n0        False  2024-09-10T18:11:00.000Z  2024-09-09T18:54:00.000Z   \n1        False  2024-09-09T18:24:00.000Z  2024-09-09T18:20:00.000Z   \n2        False  2024-09-04T18:03:00.000Z  2024-09-04T16:57:00.000Z   \n3        False  2024-09-10T22:07:00.000Z  2024-09-04T16:55:00.000Z   \n4        False  2024-09-10T16:48:00.000Z  2024-09-03T16:59:00.000Z   \n...        ...                       ...                       ...   \n1189     False  2024-05-14T13:31:00.000Z  2024-03-01T18:26:00.000Z   \n1190     False  2024-04-11T18:30:00.000Z  2024-03-01T18:26:00.000Z   \n1191     False  2024-04-11T18:30:00.000Z  2024-03-01T18:26:00.000Z   \n1192     False  2024-04-11T18:30:00.000Z  2024-03-01T18:26:00.000Z   \n1193     False  2024-06-04T17:21:00.000Z  2024-03-01T18:26:00.000Z   \n\n                                                 titulo  \\\n0                          #1015 - Loading infinito APP   \n1     Exibir data da última atualização do produto n...   \n2     O botão “Ver detalhes” na pagina de pedidos em...   \n3     #1014 Tiny - Duplicação de Contato ao Importar...   \n4     PRD-1382 - Incluir atualização parcial de prod...   \n...                                                 ...   \n1189  #264 Não está aplicando valor de desconto por ...   \n1190                #352 - Erro na importação do Bling    \n1191    #606 - Problemas na importação de clientes Omie   \n1192  #523 - APP criando pedidos duplicados e subind...   \n1193  #752 - Calculo de desconto apresentando diverg...   \n\n                    created_at         created_by  ...  \\\n0     2024-09-09T18:54:00.000Z  Cristian Kestring  ...   \n1     2024-09-09T18:20:00.000Z         Cauê Ausec  ...   \n2     2024-09-04T16:57:00.000Z     Fernando Luppi  ...   \n3     2024-09-04T16:55:00.000Z        Laura Prass  ...   \n4     2024-09-03T16:59:00.000Z         Cauê Ausec  ...   \n...                        ...                ...  ...   \n1189  2024-03-01T18:26:00.000Z         Cauê Ausec  ...   \n1190  2024-03-01T18:26:00.000Z         Cauê Ausec  ...   \n1191  2024-03-01T18:26:00.000Z         Cauê Ausec  ...   \n1192  2024-03-01T18:26:00.000Z         Cauê Ausec  ...   \n1193  2024-03-01T18:26:00.000Z         Cauê Ausec  ...   \n\n                entered_approved_at    entered_awaiting_version_at  \\\n0                              None                           None   \n1                              None                           None   \n2                              None                           None   \n3                              None                           None   \n4     2024-09-09T15:38:00.000-03:00  2024-09-09T15:46:00.000-03:00   \n...                             ...                            ...   \n1189                           None                           None   \n1190                           None                           None   \n1191                           None                           None   \n1192                           None                           None   \n1193                           None  2024-03-14T15:30:00.000-03:00   \n\n                 entered_backlog_at          entered_correction_at  \\\n0                              None                           None   \n1                              None                           None   \n2                              None                           None   \n3     2024-09-06T13:57:00.000-03:00                           None   \n4     2024-09-03T13:59:00.000-03:00  2024-09-10T11:16:00.000-03:00   \n...                             ...                            ...   \n1189                           None                           None   \n1190                           None                           None   \n1191                           None                           None   \n1192                           None                           None   \n1193                           None                           None   \n\n                   entered_doing_at                entered_done_at  \\\n0                              None                           None   \n1                              None                           None   \n2                              None                           None   \n3     2024-09-10T17:46:00.000-03:00                           None   \n4     2024-09-05T13:33:00.000-03:00                           None   \n...                             ...                            ...   \n1189                           None                           None   \n1190                           None                           None   \n1191                           None                           None   \n1192                           None                           None   \n1193  2024-03-13T17:31:00.000-03:00  2024-03-15T16:37:00.000-03:00   \n\n                 entered_testing_at               entered_to_do_at  \\\n0                              None                           None   \n1                              None                           None   \n2                              None                           None   \n3                              None  2024-09-10T17:46:00.000-03:00   \n4     2024-09-09T15:55:00.000-03:00  2024-09-05T13:32:00.000-03:00   \n...                             ...                            ...   \n1189                           None                           None   \n1190                           None                           None   \n1191                           None                           None   \n1192                           None                           None   \n1193  2024-03-14T14:48:00.000-03:00                           None   \n\n                 entered_to_test_at   okr  \n0                              None  None  \n1                              None  None  \n2                              None  None  \n3                              None  None  \n4     2024-09-06T12:14:00.000-03:00  None  \n...                             ...   ...  \n1189                           None  None  \n1190                           None  None  \n1191                           None  None  \n1192                           None  None  \n1193  2024-03-14T14:32:00.000-03:00  None  \n\n[1194 rows x 43 columns]",
                        "text/html": "<div>\n<style scoped>\n    .dataframe tbody tr th:only-of-type {\n        vertical-align: middle;\n    }\n\n    .dataframe tbody tr th {\n        vertical-align: top;\n    }\n\n    .dataframe thead th {\n        text-align: right;\n    }\n</style>\n<table border=\"1\" class=\"dataframe\">\n  <thead>\n    <tr style=\"text-align: right;\">\n      <th></th>\n      <th>page_id</th>\n      <th>task_id</th>\n      <th>branch</th>\n      <th>archived</th>\n      <th>in_trash</th>\n      <th>last_edited_time</th>\n      <th>created_time</th>\n      <th>titulo</th>\n      <th>created_at</th>\n      <th>created_by</th>\n      <th>...</th>\n      <th>entered_approved_at</th>\n      <th>entered_awaiting_version_at</th>\n      <th>entered_backlog_at</th>\n      <th>entered_correction_at</th>\n      <th>entered_doing_at</th>\n      <th>entered_done_at</th>\n      <th>entered_testing_at</th>\n      <th>entered_to_do_at</th>\n      <th>entered_to_test_at</th>\n      <th>okr</th>\n    </tr>\n  </thead>\n  <tbody>\n    <tr>\n      <th>0</th>\n      <td>df559ffe-26f0-464d-9891-b9b7fea94190</td>\n      <td>HF-1015</td>\n      <td></td>\n      <td>False</td>\n      <td>False</td>\n      <td>2024-09-10T18:11:00.000Z</td>\n      <td>2024-09-09T18:54:00.000Z</td>\n      <td>#1015 - Loading infinito APP</td>\n      <td>2024-09-09T18:54:00.000Z</td>\n      <td>Cristian Kestring</td>\n      <td>...</td>\n      <td>None</td>\n      <td>None</td>\n      <td>None</td>\n      <td>None</td>\n      <td>None</td>\n      <td>None</td>\n      <td>None</td>\n      <td>None</td>\n      <td>None</td>\n      <td>None</td>\n    </tr>\n    <tr>\n      <th>1</th>\n      <td>3a1790ae-5f03-4cec-abf5-224271f76dad</td>\n      <td>PRD-1388</td>\n      <td></td>\n      <td>False</td>\n      <td>False</td>\n      <td>2024-09-09T18:24:00.000Z</td>\n      <td>2024-09-09T18:20:00.000Z</td>\n      <td>Exibir data da última atualização do produto n...</td>\n      <td>2024-09-09T18:20:00.000Z</td>\n      <td>Cauê Ausec</td>\n      <td>...</td>\n      <td>None</td>\n      <td>None</td>\n      <td>None</td>\n      <td>None</td>\n      <td>None</td>\n      <td>None</td>\n      <td>None</td>\n      <td>None</td>\n      <td>None</td>\n      <td>None</td>\n    </tr>\n    <tr>\n      <th>2</th>\n      <td>1e15cafa-1b44-4a91-8738-28793c82ad26</td>\n      <td>PRD-1384</td>\n      <td></td>\n      <td>False</td>\n      <td>False</td>\n      <td>2024-09-04T18:03:00.000Z</td>\n      <td>2024-09-04T16:57:00.000Z</td>\n      <td>O botão “Ver detalhes” na pagina de pedidos em...</td>\n      <td>2024-09-04T16:57:00.000Z</td>\n      <td>Fernando Luppi</td>\n      <td>...</td>\n      <td>None</td>\n      <td>None</td>\n      <td>None</td>\n      <td>None</td>\n      <td>None</td>\n      <td>None</td>\n      <td>None</td>\n      <td>None</td>\n      <td>None</td>\n      <td>None</td>\n    </tr>\n    <tr>\n      <th>3</th>\n      <td>74915308-d1a4-4403-b3f9-431d2d6ec9aa</td>\n      <td>HF-1014</td>\n      <td></td>\n      <td>False</td>\n      <td>False</td>\n      <td>2024-09-10T22:07:00.000Z</td>\n      <td>2024-09-04T16:55:00.000Z</td>\n      <td>#1014 Tiny - Duplicação de Contato ao Importar...</td>\n      <td>2024-09-04T16:55:00.000Z</td>\n      <td>Laura Prass</td>\n      <td>...</td>\n      <td>None</td>\n      <td>None</td>\n      <td>2024-09-06T13:57:00.000-03:00</td>\n      <td>None</td>\n      <td>2024-09-10T17:46:00.000-03:00</td>\n      <td>None</td>\n      <td>None</td>\n      <td>2024-09-10T17:46:00.000-03:00</td>\n      <td>None</td>\n      <td>None</td>\n    </tr>\n    <tr>\n      <th>4</th>\n      <td>4f76e0c7-d2df-40da-b1df-17959f63e58f</td>\n      <td>PRD-1382</td>\n      <td>PRD-1382</td>\n      <td>False</td>\n      <td>False</td>\n      <td>2024-09-10T16:48:00.000Z</td>\n      <td>2024-09-03T16:59:00.000Z</td>\n      <td>PRD-1382 - Incluir atualização parcial de prod...</td>\n      <td>2024-09-03T16:59:00.000Z</td>\n      <td>Cauê Ausec</td>\n      <td>...</td>\n      <td>2024-09-09T15:38:00.000-03:00</td>\n      <td>2024-09-09T15:46:00.000-03:00</td>\n      <td>2024-09-03T13:59:00.000-03:00</td>\n      <td>2024-09-10T11:16:00.000-03:00</td>\n      <td>2024-09-05T13:33:00.000-03:00</td>\n      <td>None</td>\n      <td>2024-09-09T15:55:00.000-03:00</td>\n      <td>2024-09-05T13:32:00.000-03:00</td>\n      <td>2024-09-06T12:14:00.000-03:00</td>\n      <td>None</td>\n    </tr>\n    <tr>\n      <th>...</th>\n      <td>...</td>\n      <td>...</td>\n      <td>...</td>\n      <td>...</td>\n      <td>...</td>\n      <td>...</td>\n      <td>...</td>\n      <td>...</td>\n      <td>...</td>\n      <td>...</td>\n      <td>...</td>\n      <td>...</td>\n      <td>...</td>\n      <td>...</td>\n      <td>...</td>\n      <td>...</td>\n      <td>...</td>\n      <td>...</td>\n      <td>...</td>\n      <td>...</td>\n      <td>...</td>\n    </tr>\n    <tr>\n      <th>1189</th>\n      <td>d38a422c-b44d-4027-b208-d4e7d6cacf7d</td>\n      <td>HF-264</td>\n      <td></td>\n      <td>False</td>\n      <td>False</td>\n      <td>2024-05-14T13:31:00.000Z</td>\n      <td>2024-03-01T18:26:00.000Z</td>\n      <td>#264 Não está aplicando valor de desconto por ...</td>\n      <td>2024-03-01T18:26:00.000Z</td>\n      <td>Cauê Ausec</td>\n      <td>...</td>\n      <td>None</td>\n      <td>None</td>\n      <td>None</td>\n      <td>None</td>\n      <td>None</td>\n      <td>None</td>\n      <td>None</td>\n      <td>None</td>\n      <td>None</td>\n      <td>None</td>\n    </tr>\n    <tr>\n      <th>1190</th>\n      <td>dd81b65a-c1c5-4e9e-83d5-7a812132e81e</td>\n      <td>HF-352</td>\n      <td></td>\n      <td>False</td>\n      <td>False</td>\n      <td>2024-04-11T18:30:00.000Z</td>\n      <td>2024-03-01T18:26:00.000Z</td>\n      <td>#352 - Erro na importação do Bling</td>\n      <td>2024-03-01T18:26:00.000Z</td>\n      <td>Cauê Ausec</td>\n      <td>...</td>\n      <td>None</td>\n      <td>None</td>\n      <td>None</td>\n      <td>None</td>\n      <td>None</td>\n      <td>None</td>\n      <td>None</td>\n      <td>None</td>\n      <td>None</td>\n      <td>None</td>\n    </tr>\n    <tr>\n      <th>1191</th>\n      <td>e45cd20b-8bfb-4eec-9637-8231ca90dbba</td>\n      <td>HF-606</td>\n      <td></td>\n      <td>False</td>\n      <td>False</td>\n      <td>2024-04-11T18:30:00.000Z</td>\n      <td>2024-03-01T18:26:00.000Z</td>\n      <td>#606 - Problemas na importação de clientes Omie</td>\n      <td>2024-03-01T18:26:00.000Z</td>\n      <td>Cauê Ausec</td>\n      <td>...</td>\n      <td>None</td>\n      <td>None</td>\n      <td>None</td>\n      <td>None</td>\n      <td>None</td>\n      <td>None</td>\n      <td>None</td>\n      <td>None</td>\n      <td>None</td>\n      <td>None</td>\n    </tr>\n    <tr>\n      <th>1192</th>\n      <td>31a3ea18-814b-4e00-91da-02770e84df1d</td>\n      <td>HF-523</td>\n      <td></td>\n      <td>False</td>\n      <td>False</td>\n      <td>2024-04-11T18:30:00.000Z</td>\n      <td>2024-03-01T18:26:00.000Z</td>\n      <td>#523 - APP criando pedidos duplicados e subind...</td>\n      <td>2024-03-01T18:26:00.000Z</td>\n      <td>Cauê Ausec</td>\n      <td>...</td>\n      <td>None</td>\n      <td>None</td>\n      <td>None</td>\n      <td>None</td>\n      <td>None</td>\n      <td>None</td>\n      <td>None</td>\n      <td>None</td>\n      <td>None</td>\n      <td>None</td>\n    </tr>\n    <tr>\n      <th>1193</th>\n      <td>78e465de-d6df-4e3b-b0be-dde01b711ebb</td>\n      <td>HF-752</td>\n      <td>HF-752</td>\n      <td>False</td>\n      <td>False</td>\n      <td>2024-06-04T17:21:00.000Z</td>\n      <td>2024-03-01T18:26:00.000Z</td>\n      <td>#752 - Calculo de desconto apresentando diverg...</td>\n      <td>2024-03-01T18:26:00.000Z</td>\n      <td>Cauê Ausec</td>\n      <td>...</td>\n      <td>None</td>\n      <td>2024-03-14T15:30:00.000-03:00</td>\n      <td>None</td>\n      <td>None</td>\n      <td>2024-03-13T17:31:00.000-03:00</td>\n      <td>2024-03-15T16:37:00.000-03:00</td>\n      <td>2024-03-14T14:48:00.000-03:00</td>\n      <td>None</td>\n      <td>2024-03-14T14:32:00.000-03:00</td>\n      <td>None</td>\n    </tr>\n  </tbody>\n</table>\n<p>1194 rows × 43 columns</p>\n</div>"
                    },
                    "metadata": {}
                }
            ],
            "outputs_reference": "s3:deepnote-cell-outputs-production/c6de7ef3-036a-494f-affb-8caa39407d9a",
            "content_dependencies": {
                "codeHash": "34ffab1c",
                "usedVariables": [],
                "importedModules": [],
                "definedVariables": []
            }
        },
        {
            "cell_type": "code",
            "metadata": {
                "source_hash": "fdd5efd",
                "execution_start": 1726019680386,
                "execution_millis": 360,
                "deepnote_to_be_reexecuted": false,
                "deepnote_app_block_visible": true,
                "deepnote_app_is_code_hidden": true,
                "cell_id": "f3ff206c0d4944a3826a3e532124062a",
                "deepnote_cell_type": "code"
            },
            "source": "try:\n    output = writer.get_output_file_path('notion', 'ntn__utd_pages',target_layer='staging') + '.csv'\n    os.makedirs(os.path.dirname(output), exist_ok=True)\n    ntn__utd_pages.to_csv(output, index=False)\nexcept Exception as e:\n    notifier.pipeline_error(e)\n    raise e",
            "block_group": "6a62704969ce4d7eb70faf7499a5ba38",
            "execution_count": 12,
            "outputs": [],
            "outputs_reference": null,
            "content_dependencies": {
                "codeHash": "32b5983a",
                "usedVariables": [
                    "os",
                    "utd_formatted",
                    "writer",
                    "output"
                ],
                "importedModules": [],
                "definedVariables": [
                    "output"
                ]
            }
        },
        {
            "cell_type": "markdown",
            "metadata": {
                "formattedRanges": [],
                "deepnote_app_block_visible": true,
                "cell_id": "56a41fd1f692423485364b4f72a818f4",
                "deepnote_cell_type": "text-cell-h2"
            },
            "source": "## ntn_utd_users",
            "block_group": "99a5b4256d984932a6d85e4cc445e6bd"
        },
        {
            "cell_type": "markdown",
            "metadata": {
                "formattedRanges": [],
                "deepnote_app_block_visible": true,
                "cell_id": "bab349bbb04d4c5092348c215d225a36",
                "deepnote_cell_type": "text-cell-h3"
            },
            "source": "### processing",
            "block_group": "79df0597206a4c78b459ed66c3bcf59e"
        },
        {
            "cell_type": "code",
            "metadata": {
                "source_hash": "90334743",
                "execution_start": 1726019680749,
                "execution_millis": 402,
                "deepnote_to_be_reexecuted": false,
                "deepnote_app_block_visible": true,
                "deepnote_app_is_code_hidden": true,
                "cell_id": "be1d8076b3f04aad85bac632acac2225",
                "deepnote_cell_type": "code"
            },
            "source": "try:\n    file_path = Utils.get_latest_file('/work/data/raw/notion/universal_task_database', '.txt.gz')\n    if file_path:\n        records = Utils.read_records(file_path)\n    else:\n        print('No files found in the specified directory')\nexcept Exception as e:\n    notifier.pipeline_error(e)\n    raise e",
            "block_group": "8fcece834a57499da3f2ffd27860615f",
            "execution_count": 13,
            "outputs": [],
            "outputs_reference": null,
            "content_dependencies": null
        },
        {
            "cell_type": "code",
            "metadata": {
                "source_hash": "8f8d7d4b",
                "execution_start": 1726019681160,
                "execution_millis": 231,
                "deepnote_to_be_reexecuted": false,
                "deepnote_app_block_visible": true,
                "deepnote_app_is_code_hidden": true,
                "cell_id": "8079dce850dd46fbb5869b7aefdacf2a",
                "deepnote_cell_type": "code"
            },
            "source": "try:\n    ntn__utd_users = transformer._extract_users_list(records)\n    output = writer.get_output_file_path('notion', 'ntn__utd_users',target_layer='processing') + '.csv'\n    os.makedirs(os.path.dirname(output), exist_ok=True)\n    ntn__utd_users.to_csv(output, index=False)\nexcept Exception as e:\n    notifier.pipeline_error(e)\n    raise e",
            "block_group": "0ee5cbc3f36842e0b82fbd82af279254",
            "execution_count": 14,
            "outputs": [],
            "outputs_reference": null,
            "content_dependencies": {
                "codeHash": "c676d0de",
                "usedVariables": [
                    "records",
                    "output",
                    "os",
                    "extracted_users",
                    "writer",
                    "transformer"
                ],
                "importedModules": [],
                "definedVariables": [
                    "extracted_users",
                    "output"
                ]
            }
        },
        {
            "cell_type": "markdown",
            "metadata": {
                "formattedRanges": [],
                "deepnote_app_block_visible": true,
                "cell_id": "973b5dd8a2174bccb67a19d3a2c92011",
                "deepnote_cell_type": "text-cell-h3"
            },
            "source": "### staging",
            "block_group": "4d64524404e4470fa3250c933860377a"
        },
        {
            "cell_type": "code",
            "metadata": {
                "source_hash": "4bda6ba",
                "execution_start": 1726019681393,
                "execution_millis": 74,
                "deepnote_table_state": {
                    "sortBy": [],
                    "filters": [],
                    "pageSize": 5,
                    "pageIndex": 0,
                    "conditionalFilters": []
                },
                "deepnote_table_loading": false,
                "deepnote_to_be_reexecuted": false,
                "deepnote_app_block_visible": true,
                "deepnote_app_is_code_hidden": true,
                "cell_id": "1428f99821db41b792a650d876c9304e",
                "deepnote_cell_type": "code"
            },
            "source": "try:\n    # Carregar os arquivos em processing\n    ntn__utd_users = pd.read_csv(\"data/processing/notion/ntn__utd_users.csv\")\n    ntn__utd_users\nexcept Exception as e:\n    notifier.pipeline_error(e)\n    raise e",
            "block_group": "81622a7404db40b68082d402859c228c",
            "execution_count": 15,
            "outputs": [],
            "outputs_reference": null,
            "content_dependencies": null
        },
        {
            "cell_type": "code",
            "metadata": {
                "source_hash": "cd908e86",
                "execution_start": 1726019681469,
                "execution_millis": 282,
                "deepnote_to_be_reexecuted": false,
                "deepnote_app_block_visible": true,
                "deepnote_app_is_code_hidden": true,
                "cell_id": "64ded414de6c4240a0f3f7d06ac8e80a",
                "deepnote_cell_type": "code"
            },
            "source": "try:\n    # Gravar os arquivos em staging.\n    output = writer.get_output_file_path('notion', 'ntn__utd_users',target_layer='staging') + '.csv'\n    os.makedirs(os.path.dirname(output), exist_ok=True)\n    ntn__utd_users.to_csv(output, index=False)\nexcept Exception as e:\n    notifier.pipeline_error(e)\n    raise e",
            "block_group": "3a0bd67e6ee2490c854cd9513e1a7a75",
            "execution_count": 16,
            "outputs": [],
            "outputs_reference": null,
            "content_dependencies": null
        },
        {
            "cell_type": "markdown",
            "metadata": {
                "formattedRanges": [],
                "deepnote_app_block_visible": true,
                "cell_id": "ab0817794f4f4903aca424f1cd743730",
                "deepnote_cell_type": "text-cell-h1"
            },
            "source": "# Load",
            "block_group": "2f7cb13eff8941e6b3fd9cbdb283158b"
        },
        {
            "cell_type": "code",
            "metadata": {
                "source_hash": "ee433b0a",
                "execution_start": 1726019681754,
                "execution_millis": 51,
                "deepnote_to_be_reexecuted": false,
                "deepnote_app_block_visible": true,
                "deepnote_app_is_code_hidden": true,
                "cell_id": "f2e5e95803d84142ab6bdec5b190d337",
                "deepnote_cell_type": "code"
            },
            "source": "# Correcting the instantiation of the PostgresLoader by ensuring parameter names match expected signature\ntry:\n    loader = PostgresLoader(user=user, password=password, host=host, db_name=db_name)\nexcept Exception as e:\n    notifier.pipeline_error(e)\n    raise e",
            "block_group": "7566d8a601db4d0f8ad327e2a3de76cd",
            "execution_count": 17,
            "outputs": [],
            "outputs_reference": null,
            "content_dependencies": null
        },
        {
            "cell_type": "markdown",
            "metadata": {
                "formattedRanges": [],
                "deepnote_app_block_visible": true,
                "cell_id": "973db4701ebe4823b332162bdd18e2df",
                "deepnote_cell_type": "text-cell-h2"
            },
            "source": "## ntn_utd_pages",
            "block_group": "f93ab97a36aa465886b8e2a37f7f5406"
        },
        {
            "cell_type": "code",
            "metadata": {
                "source_hash": "a5675f6d",
                "execution_start": 1726019681767,
                "execution_millis": 896,
                "deepnote_table_state": {
                    "sortBy": [],
                    "filters": [],
                    "pageSize": 5,
                    "pageIndex": 0,
                    "conditionalFilters": []
                },
                "deepnote_table_loading": false,
                "deepnote_to_be_reexecuted": false,
                "deepnote_app_block_visible": true,
                "deepnote_app_is_code_hidden": true,
                "cell_id": "b705815fd5a445b4b8c8b748d9b57e30",
                "deepnote_cell_type": "code"
            },
            "source": "try:\n    ntn__utd_pages = pd.read_csv(\"data/staging/notion/ntn__utd_pages.csv\")\n    loader.load_data(dataframe=ntn__utd_pages, target_table='ntn__utd_pages', mode='replace', target_schema='public')\nexcept Exception as e:\n    notifier.pipeline_error(e)\n    raise e",
            "block_group": "f543f791f903485881e0323a4d30a4ff",
            "execution_count": 18,
            "outputs": [],
            "outputs_reference": null,
            "content_dependencies": null
        },
        {
            "cell_type": "markdown",
            "metadata": {
                "formattedRanges": [],
                "deepnote_app_block_visible": true,
                "cell_id": "fffd4fe680384b4b9092a939a93cae64",
                "deepnote_cell_type": "text-cell-h2"
            },
            "source": "## ntn_utd_users",
            "block_group": "8a9fcd454cc447e9b2aeada9ceaab0f5"
        },
        {
            "cell_type": "code",
            "metadata": {
                "source_hash": "2e66f9f1",
                "execution_start": 1726019682668,
                "execution_millis": 328,
                "deepnote_to_be_reexecuted": false,
                "deepnote_app_block_visible": true,
                "deepnote_app_is_code_hidden": true,
                "cell_id": "ec554f55b06c4db7aa37cde1e232abdc",
                "deepnote_cell_type": "code"
            },
            "source": "try:\n    # Carregar o arquivo ntn utd users em um dataframe e então enviar para o PostgreSQL.\n    ntn__utd_users = pd.read_csv(\"data/staging/notion/ntn__utd_users.csv\")\n    loader.load_data(dataframe=ntn__utd_users, target_table='ntn__utd_users', mode='replace', target_schema='public')\nexcept Exception as e:\n    notifier.pipeline_error(e)\n    raise e",
            "block_group": "0c4eb523c8cf433180e219706d3bd673",
            "execution_count": 19,
            "outputs": [],
            "outputs_reference": null,
            "content_dependencies": null
        },
        {
            "cell_type": "markdown",
            "metadata": {
                "formattedRanges": [],
                "deepnote_app_block_visible": true,
                "cell_id": "d56b0e592660448883d6a277bd8b00de",
                "deepnote_cell_type": "text-cell-h1"
            },
            "source": "# Callbacks",
            "block_group": "3ea2bff81848413b911309a81788ae0f"
        },
        {
            "cell_type": "code",
            "metadata": {
                "source_hash": "f5eb6eee",
                "execution_start": 1726019682998,
                "execution_millis": 86,
                "deepnote_to_be_reexecuted": false,
                "deepnote_app_block_visible": true,
                "deepnote_app_is_code_hidden": true,
                "cell_id": "27335b46e2e440a4baebedf8c6bde430",
                "deepnote_cell_type": "code"
            },
            "source": "notifier.pipeline_end()",
            "block_group": "187040fb53ae4333b775ada4c5c94008",
            "execution_count": 20,
            "outputs": [
                {
                    "name": "stdout",
                    "text": "Accepted\n",
                    "output_type": "stream"
                }
            ],
            "outputs_reference": "dbtable:cell_outputs/cb0c842f-5ac4-48d5-8d7d-b619649112af",
            "content_dependencies": null
        },
        {
            "cell_type": "markdown",
            "source": "<a style='text-decoration:none;line-height:16px;display:flex;color:#5B5B62;padding:10px;justify-content:end;' href='https://deepnote.com?utm_source=created-in-deepnote-cell&projectId=022588a7-e3ac-4acd-8e50-3c39b9590c40' target=\"_blank\">\n<img alt='Created in deepnote.com' style='display:inline;max-height:16px;margin:0px;margin-right:7.5px;' src='data:image/svg+xml;base64,PD94bWwgdmVyc2lvbj0iMS4wIiBlbmNvZGluZz0iVVRGLTgiPz4KPHN2ZyB3aWR0aD0iODBweCIgaGVpZ2h0PSI4MHB4IiB2aWV3Qm94PSIwIDAgODAgODAiIHZlcnNpb249IjEuMSIgeG1sbnM9Imh0dHA6Ly93d3cudzMub3JnLzIwMDAvc3ZnIiB4bWxuczp4bGluaz0iaHR0cDovL3d3dy53My5vcmcvMTk5OS94bGluayI+CiAgICA8IS0tIEdlbmVyYXRvcjogU2tldGNoIDU0LjEgKDc2NDkwKSAtIGh0dHBzOi8vc2tldGNoYXBwLmNvbSAtLT4KICAgIDx0aXRsZT5Hcm91cCAzPC90aXRsZT4KICAgIDxkZXNjPkNyZWF0ZWQgd2l0aCBTa2V0Y2guPC9kZXNjPgogICAgPGcgaWQ9IkxhbmRpbmciIHN0cm9rZT0ibm9uZSIgc3Ryb2tlLXdpZHRoPSIxIiBmaWxsPSJub25lIiBmaWxsLXJ1bGU9ImV2ZW5vZGQiPgogICAgICAgIDxnIGlkPSJBcnRib2FyZCIgdHJhbnNmb3JtPSJ0cmFuc2xhdGUoLTEyMzUuMDAwMDAwLCAtNzkuMDAwMDAwKSI+CiAgICAgICAgICAgIDxnIGlkPSJHcm91cC0zIiB0cmFuc2Zvcm09InRyYW5zbGF0ZSgxMjM1LjAwMDAwMCwgNzkuMDAwMDAwKSI+CiAgICAgICAgICAgICAgICA8cG9seWdvbiBpZD0iUGF0aC0yMCIgZmlsbD0iIzAyNjVCNCIgcG9pbnRzPSIyLjM3NjIzNzYyIDgwIDM4LjA0NzY2NjcgODAgNTcuODIxNzgyMiA3My44MDU3NTkyIDU3LjgyMTc4MjIgMzIuNzU5MjczOSAzOS4xNDAyMjc4IDMxLjY4MzE2ODMiPjwvcG9seWdvbj4KICAgICAgICAgICAgICAgIDxwYXRoIGQ9Ik0zNS4wMDc3MTgsODAgQzQyLjkwNjIwMDcsNzYuNDU0OTM1OCA0Ny41NjQ5MTY3LDcxLjU0MjI2NzEgNDguOTgzODY2LDY1LjI2MTk5MzkgQzUxLjExMjI4OTksNTUuODQxNTg0MiA0MS42NzcxNzk1LDQ5LjIxMjIyODQgMjUuNjIzOTg0Niw0OS4yMTIyMjg0IEMyNS40ODQ5Mjg5LDQ5LjEyNjg0NDggMjkuODI2MTI5Niw0My4yODM4MjQ4IDM4LjY0NzU4NjksMzEuNjgzMTY4MyBMNzIuODcxMjg3MSwzMi41NTQ0MjUgTDY1LjI4MDk3Myw2Ny42NzYzNDIxIEw1MS4xMTIyODk5LDc3LjM3NjE0NCBMMzUuMDA3NzE4LDgwIFoiIGlkPSJQYXRoLTIyIiBmaWxsPSIjMDAyODY4Ij48L3BhdGg+CiAgICAgICAgICAgICAgICA8cGF0aCBkPSJNMCwzNy43MzA0NDA1IEwyNy4xMTQ1MzcsMC4yNTcxMTE0MzYgQzYyLjM3MTUxMjMsLTEuOTkwNzE3MDEgODAsMTAuNTAwMzkyNyA4MCwzNy43MzA0NDA1IEM4MCw2NC45NjA0ODgyIDY0Ljc3NjUwMzgsNzkuMDUwMzQxNCAzNC4zMjk1MTEzLDgwIEM0Ny4wNTUzNDg5LDc3LjU2NzA4MDggNTMuNDE4MjY3Nyw3MC4zMTM2MTAzIDUzLjQxODI2NzcsNTguMjM5NTg4NSBDNTMuNDE4MjY3Nyw0MC4xMjg1NTU3IDM2LjMwMzk1NDQsMzcuNzMwNDQwNSAyNS4yMjc0MTcsMzcuNzMwNDQwNSBDMTcuODQzMDU4NiwzNy43MzA0NDA1IDkuNDMzOTE5NjYsMzcuNzMwNDQwNSAwLDM3LjczMDQ0MDUgWiIgaWQ9IlBhdGgtMTkiIGZpbGw9IiMzNzkzRUYiPjwvcGF0aD4KICAgICAgICAgICAgPC9nPgogICAgICAgIDwvZz4KICAgIDwvZz4KPC9zdmc+' > </img>\nCreated in <span style='font-weight:600;margin-left:4px;'>Deepnote</span></a>",
            "metadata": {
                "created_in_deepnote_cell": true,
                "deepnote_cell_type": "markdown"
            }
        }
    ],
    "nbformat": 4,
    "nbformat_minor": 0,
    "metadata": {
        "deepnote_full_width": true,
        "deepnote_app_clear_outputs": false,
        "deepnote_app_layout": "powerful-article",
        "deepnote_app_table_of_contents_enabled": false,
        "deepnote_app_hide_all_code_blocks_enabled": true,
        "deepnote_app_width": "full-width",
        "deepnote_app_run_on_input_enabled": false,
        "deepnote_app_reactivity_enabled": true,
        "deepnote_notebook_id": "b8023b0f04d841f5ae2cbc5a4851cdbd",
        "deepnote_execution_queue": []
    }
}