{
    "cells": [
        {
            "cell_type": "markdown",
            "metadata": {
                "formattedRanges": [],
                "deepnote_app_block_visible": true,
                "cell_id": "36c9248f03d64a0daff925e84ba9505b",
                "deepnote_cell_type": "text-cell-h1"
            },
            "source": "# Config",
            "block_group": "670bfa7796fa47f9a7ae671ac192a50d"
        },
        {
            "cell_type": "markdown",
            "metadata": {
                "formattedRanges": [],
                "deepnote_app_block_visible": true,
                "cell_id": "c5f9e8474f094a7c9cd2a6d544f38b9a",
                "deepnote_cell_type": "text-cell-callout"
            },
            "source": "> Esta seção tem configurações gerais do projeto, como importações de pacotes, carregamento de variáveis de ambiente entre outros.",
            "block_group": "9a696221eb9841f59526dc0d56c3949d"
        },
        {
            "cell_type": "code",
            "metadata": {
                "source_hash": "51dd54a4",
                "execution_start": 1726160196476,
                "execution_millis": 3255,
                "execution_context_id": "67b0e824-1105-4e07-b280-570295b17d6b",
                "deepnote_to_be_reexecuted": false,
                "deepnote_app_block_visible": true,
                "deepnote_app_is_code_hidden": true,
                "cell_id": "6f2cc2ee51724400891b86fa04bb397d",
                "deepnote_cell_type": "code"
            },
            "source": "# Importação de módulos.\nimport requests\nimport pandas as pd\nimport warnings\nimport json\nimport yaml\nimport gzip\nimport os\nimport glob\nimport importlib\nfrom datetime import datetime, timedelta\nfrom work.bdt_data_integration.src.utils import Utils, WebhookNotifier, DiscordNotifier\nfrom work.bdt_data_integration.src.writers import DataWriter\nfrom work.bdt_data_integration.src.extractors import NotionDatabaseAPIExtractor\nfrom work.bdt_data_integration.src.loaders import PostgresLoader\nfrom work.bdt_data_integration.src.transformers import NotionTransformer",
            "block_group": "0585159a25044875bf7c86a274522128",
            "execution_count": 1,
            "outputs": [
                {
                    "output_type": "error",
                    "ename": "ImportError",
                    "evalue": "cannot import name 'NotionDatabaseApiExtractor' from 'work.bdt_data_integration.src.extractors' (/work/bdt_data_integration/src/extractors.py)",
                    "traceback": [
                        "\u001b[0;31m---------------------------------------------------------------------------\u001b[0m",
                        "\u001b[0;31mImportError\u001b[0m                               Traceback (most recent call last)",
                        "Cell \u001b[0;32mIn[1], line 14\u001b[0m\n\u001b[1;32m     12\u001b[0m \u001b[38;5;28;01mfrom\u001b[39;00m \u001b[38;5;21;01mwork\u001b[39;00m\u001b[38;5;21;01m.\u001b[39;00m\u001b[38;5;21;01mbdt_data_integration\u001b[39;00m\u001b[38;5;21;01m.\u001b[39;00m\u001b[38;5;21;01msrc\u001b[39;00m\u001b[38;5;21;01m.\u001b[39;00m\u001b[38;5;21;01mutils\u001b[39;00m \u001b[38;5;28;01mimport\u001b[39;00m Utils, WebhookNotifier, DiscordNotifier\n\u001b[1;32m     13\u001b[0m \u001b[38;5;28;01mfrom\u001b[39;00m \u001b[38;5;21;01mwork\u001b[39;00m\u001b[38;5;21;01m.\u001b[39;00m\u001b[38;5;21;01mbdt_data_integration\u001b[39;00m\u001b[38;5;21;01m.\u001b[39;00m\u001b[38;5;21;01msrc\u001b[39;00m\u001b[38;5;21;01m.\u001b[39;00m\u001b[38;5;21;01mwriters\u001b[39;00m \u001b[38;5;28;01mimport\u001b[39;00m DataWriter\n\u001b[0;32m---> 14\u001b[0m \u001b[38;5;28;01mfrom\u001b[39;00m \u001b[38;5;21;01mwork\u001b[39;00m\u001b[38;5;21;01m.\u001b[39;00m\u001b[38;5;21;01mbdt_data_integration\u001b[39;00m\u001b[38;5;21;01m.\u001b[39;00m\u001b[38;5;21;01msrc\u001b[39;00m\u001b[38;5;21;01m.\u001b[39;00m\u001b[38;5;21;01mextractors\u001b[39;00m \u001b[38;5;28;01mimport\u001b[39;00m NotionDatabaseApiExtractor\n\u001b[1;32m     15\u001b[0m \u001b[38;5;28;01mfrom\u001b[39;00m \u001b[38;5;21;01mwork\u001b[39;00m\u001b[38;5;21;01m.\u001b[39;00m\u001b[38;5;21;01mbdt_data_integration\u001b[39;00m\u001b[38;5;21;01m.\u001b[39;00m\u001b[38;5;21;01msrc\u001b[39;00m\u001b[38;5;21;01m.\u001b[39;00m\u001b[38;5;21;01mloaders\u001b[39;00m \u001b[38;5;28;01mimport\u001b[39;00m PostgresLoader\n\u001b[1;32m     16\u001b[0m \u001b[38;5;28;01mfrom\u001b[39;00m \u001b[38;5;21;01mwork\u001b[39;00m\u001b[38;5;21;01m.\u001b[39;00m\u001b[38;5;21;01mbdt_data_integration\u001b[39;00m\u001b[38;5;21;01m.\u001b[39;00m\u001b[38;5;21;01msrc\u001b[39;00m\u001b[38;5;21;01m.\u001b[39;00m\u001b[38;5;21;01mtransformers\u001b[39;00m \u001b[38;5;28;01mimport\u001b[39;00m NotionTransformer\n",
                        "\u001b[0;31mImportError\u001b[0m: cannot import name 'NotionDatabaseApiExtractor' from 'work.bdt_data_integration.src.extractors' (/work/bdt_data_integration/src/extractors.py)"
                    ]
                }
            ],
            "outputs_reference": "s3:deepnote-cell-outputs-production/d032d8b1-406b-4a89-aff2-2829c87b4ae1",
            "content_dependencies": {
                "codeHash": "7c569e09",
                "usedVariables": [],
                "importedModules": [
                    "DataWriter",
                    "warnings",
                    "DataFrameToPostgres",
                    "pd",
                    "yaml",
                    "PaginatedApiStream",
                    "NotionTransformer",
                    "os",
                    "datetime",
                    "json",
                    "importlib",
                    "gzip",
                    "requests",
                    "timedelta",
                    "Utils"
                ],
                "definedVariables": []
            }
        },
        {
            "cell_type": "code",
            "metadata": {
                "source_hash": "1994cb1",
                "execution_start": 1726155010106,
                "execution_millis": 336,
                "deepnote_to_be_reexecuted": true,
                "deepnote_app_block_visible": true,
                "deepnote_app_is_code_hidden": true,
                "cell_id": "7d7e6f31e92b47d69f915f44f1a313e1",
                "deepnote_cell_type": "code"
            },
            "source": "# Carregamento do arquivo config.yaml\nconfig = Utils.load_config()\nschema = config.get(\"PRODUCTION_SCHEMA\")\n\n# Carregamento das variáveis de ambiente\napi_key = os.getenv('NOTION_APIKEY')\ndatabase_id = os.getenv('UTD_DATABASE_ID')\nhost = os.environ[\"NEON_HOST\"]\nuser =os.environ[\"NEON_ROOT_USER\"]\npassword = os.environ[\"NEON_ROOT_PASSWORD\"]\ndb_name = os.environ[\"NEON_DATABASE_NAME\"]\ndiscord_token = os.getenv('DISCORD_TOKEN')\ndiscord_channel = os.getenv('DISCORD_CHANNEL')\nnotifier_url = os.getenv('MAKE_NOTIFICATION_WEBHOOK')",
            "block_group": "a2786f738f4e4f6c92fa82204d624939",
            "execution_count": null,
            "outputs": [],
            "outputs_reference": null,
            "content_dependencies": null
        },
        {
            "cell_type": "code",
            "metadata": {
                "source_hash": null,
                "execution_start": 1726155010294,
                "execution_millis": 150,
                "deepnote_to_be_reexecuted": false,
                "deepnote_app_block_visible": true,
                "deepnote_app_is_code_hidden": true,
                "cell_id": "23f6ffa45c034768ad5732a53f8eb43d",
                "deepnote_cell_type": "code"
            },
            "source": "pipeline = 'notion_pipeline'\nsource = 'notion'\nsource_prefix = 'ntn'",
            "block_group": "9a13b32e86ea40a2b236b6e8cfac946a",
            "execution_count": null,
            "outputs": [],
            "outputs_reference": null,
            "content_dependencies": null
        },
        {
            "cell_type": "code",
            "metadata": {
                "source_hash": null,
                "execution_start": 1726155010296,
                "execution_millis": 412,
                "deepnote_to_be_reexecuted": false,
                "deepnote_app_block_visible": true,
                "deepnote_app_is_code_hidden": true,
                "cell_id": "ee733eb289dd432faf1b581f51919f99",
                "deepnote_cell_type": "code"
            },
            "source": "notifier = WebhookNotifier(url=notifier_url,pipeline=pipeline)\n# notifier.pipeline_start()",
            "block_group": "fba1b4fdd2954e5291db08cdfe684a67",
            "execution_count": null,
            "outputs": [],
            "outputs_reference": null,
            "content_dependencies": null
        },
        {
            "cell_type": "markdown",
            "metadata": {
                "formattedRanges": [],
                "deepnote_app_block_visible": true,
                "cell_id": "97f4ef42ec0e461881b44730abbafc59",
                "deepnote_cell_type": "text-cell-h1"
            },
            "source": "# ntn_utd_pages",
            "block_group": "9d205417007a47039c1e8fc0a11ce9c0"
        },
        {
            "cell_type": "code",
            "metadata": {
                "source_hash": null,
                "execution_start": 1726155010302,
                "execution_millis": 406,
                "deepnote_to_be_reexecuted": false,
                "deepnote_app_block_visible": true,
                "deepnote_app_is_code_hidden": true,
                "cell_id": "2811ff1a6a9348fbb74bdec725fafd40",
                "deepnote_cell_type": "code"
            },
            "source": "stream_name = 'universal_task_database'\nstream_table_name = f'ntn__utd_pages'",
            "block_group": "f860f40311af4c028bb637315fe32a1b",
            "execution_count": null,
            "outputs": [],
            "outputs_reference": null,
            "content_dependencies": null
        },
        {
            "cell_type": "markdown",
            "metadata": {
                "formattedRanges": [],
                "deepnote_app_block_visible": true,
                "cell_id": "935d39f7d73949c98e645abef1fe733f",
                "deepnote_cell_type": "text-cell-h2"
            },
            "source": "## Extract",
            "block_group": "3c30f997fe074e76ac0ee2149b4d76d1"
        },
        {
            "cell_type": "code",
            "metadata": {
                "source_hash": null,
                "execution_start": 1726155010347,
                "execution_millis": 361,
                "deepnote_to_be_reexecuted": false,
                "deepnote_app_block_visible": true,
                "deepnote_app_is_code_hidden": true,
                "cell_id": "ae6ebdf8b64e4e37b659f47be27e392b",
                "deepnote_cell_type": "code"
            },
            "source": "try:\n    writer = DataWriter(\n        source=source,\n        stream=stream_name, \n        compression = True,\n        config=config\n        )\nexcept Exception as e:\n    notifier.pipeline_error(e)\n    raise e",
            "block_group": "6fc4174b7f744e9188ce928f0d8faf3a",
            "execution_count": null,
            "outputs": [],
            "outputs_reference": null,
            "content_dependencies": {
                "codeHash": "2f7bc94b",
                "usedVariables": [
                    "DataWriter",
                    "config"
                ],
                "importedModules": [],
                "definedVariables": [
                    "writer"
                ]
            }
        },
        {
            "cell_type": "code",
            "metadata": {
                "source_hash": null,
                "execution_start": 1726155010347,
                "execution_millis": 362,
                "deepnote_to_be_reexecuted": false,
                "deepnote_app_block_visible": true,
                "deepnote_app_is_code_hidden": true,
                "cell_id": "d679be79ce0f4b7586d02942c21a152d",
                "deepnote_cell_type": "code"
            },
            "source": "# Instanciar Stream para a extração dos dados\ntry:\n    extractor = NotionDatabaseAPIExtractor(\n        identifier = source,\n        base_endpoint = 'https://api.notion.com/v1',\n        token = api_key,\n        auth_method = 'bearer',\n        database_id = database_id,\n        writer = writer)\nexcept Exception as e:\n    notifier.pipeline_error(e)\n    raise e",
            "block_group": "6372f4ae3f484f62bb8521f0217460a7",
            "execution_count": null,
            "outputs": [],
            "outputs_reference": null,
            "content_dependencies": {
                "codeHash": "cdef33ce",
                "usedVariables": [
                    "writer",
                    "api_key",
                    "database_id",
                    "PaginatedApiStream"
                ],
                "importedModules": [],
                "definedVariables": [
                    "stream"
                ]
            }
        },
        {
            "cell_type": "code",
            "metadata": {
                "source_hash": null,
                "execution_start": 1726155010348,
                "execution_millis": 42087,
                "deepnote_to_be_reexecuted": false,
                "deepnote_app_block_visible": true,
                "deepnote_app_is_code_hidden": true,
                "cell_id": "ee255cd22fc44814b21b6690c11650d5",
                "deepnote_cell_type": "code"
            },
            "source": "#Executar a extração dos dados\ntry:\n    records, time = extractor.run()\nexcept Exception as e:\n    notifier.pipeline_error(e)\n    raise e",
            "block_group": "e49cd5e706f64c95883607dd75c73174",
            "execution_count": null,
            "outputs": [
                {
                    "name": "stderr",
                    "text": "INFO:work.bdt_data_integration.src.extractors:Attempting scroll fetch from https://api.notion.com/v1/databases/3290a9e9f0bf4d84bc57aae53f635e7e/query\nINFO:work.bdt_data_integration.src.extractors:Gettinng data from endpoint https://api.notion.com/v1/databases/3290a9e9f0bf4d84bc57aae53f635e7e/query\nINFO:work.bdt_data_integration.src.extractors:Successfully fetched page 1\nINFO:work.bdt_data_integration.src.extractors:Gettinng data from endpoint https://api.notion.com/v1/databases/3290a9e9f0bf4d84bc57aae53f635e7e/query\nINFO:work.bdt_data_integration.src.extractors:Successfully fetched page 2\nINFO:work.bdt_data_integration.src.extractors:Gettinng data from endpoint https://api.notion.com/v1/databases/3290a9e9f0bf4d84bc57aae53f635e7e/query\nINFO:work.bdt_data_integration.src.extractors:Successfully fetched page 3\nINFO:work.bdt_data_integration.src.extractors:Gettinng data from endpoint https://api.notion.com/v1/databases/3290a9e9f0bf4d84bc57aae53f635e7e/query\nINFO:work.bdt_data_integration.src.extractors:Successfully fetched page 4\nINFO:work.bdt_data_integration.src.extractors:Gettinng data from endpoint https://api.notion.com/v1/databases/3290a9e9f0bf4d84bc57aae53f635e7e/query\nINFO:work.bdt_data_integration.src.extractors:Successfully fetched page 5\nINFO:work.bdt_data_integration.src.extractors:Gettinng data from endpoint https://api.notion.com/v1/databases/3290a9e9f0bf4d84bc57aae53f635e7e/query\nINFO:work.bdt_data_integration.src.extractors:Successfully fetched page 6\nINFO:work.bdt_data_integration.src.extractors:Gettinng data from endpoint https://api.notion.com/v1/databases/3290a9e9f0bf4d84bc57aae53f635e7e/query\nINFO:work.bdt_data_integration.src.extractors:Successfully fetched page 7\nINFO:work.bdt_data_integration.src.extractors:Gettinng data from endpoint https://api.notion.com/v1/databases/3290a9e9f0bf4d84bc57aae53f635e7e/query\nINFO:work.bdt_data_integration.src.extractors:Successfully fetched page 8\nINFO:work.bdt_data_integration.src.extractors:Gettinng data from endpoint https://api.notion.com/v1/databases/3290a9e9f0bf4d84bc57aae53f635e7e/query\nINFO:work.bdt_data_integration.src.extractors:Successfully fetched page 9\nINFO:work.bdt_data_integration.src.extractors:Gettinng data from endpoint https://api.notion.com/v1/databases/3290a9e9f0bf4d84bc57aae53f635e7e/query\nINFO:work.bdt_data_integration.src.extractors:Successfully fetched page 10\nINFO:work.bdt_data_integration.src.extractors:Gettinng data from endpoint https://api.notion.com/v1/databases/3290a9e9f0bf4d84bc57aae53f635e7e/query\nINFO:work.bdt_data_integration.src.extractors:Successfully fetched page 11\nINFO:work.bdt_data_integration.src.extractors:Gettinng data from endpoint https://api.notion.com/v1/databases/3290a9e9f0bf4d84bc57aae53f635e7e/query\nINFO:work.bdt_data_integration.src.extractors:Successfully fetched page 12\n",
                    "output_type": "stream"
                }
            ],
            "outputs_reference": "s3:deepnote-cell-outputs-production/5590e523-17a3-4ae0-aaf3-45371fd14adb",
            "content_dependencies": {
                "codeHash": "6ee98de0",
                "usedVariables": [],
                "importedModules": [],
                "definedVariables": []
            }
        },
        {
            "cell_type": "markdown",
            "metadata": {
                "is_collapsed": false,
                "formattedRanges": [],
                "deepnote_app_block_visible": true,
                "cell_id": "3e71545ffc5d4ad8b725fdd96735e51a",
                "deepnote_cell_type": "text-cell-h2"
            },
            "source": "## Transform",
            "block_group": "0301fdd4ee8f4117b56d9cfa48593b16"
        },
        {
            "cell_type": "code",
            "metadata": {
                "source_hash": null,
                "execution_start": 1726155052438,
                "execution_millis": 21,
                "deepnote_to_be_reexecuted": false,
                "deepnote_app_block_visible": true,
                "deepnote_app_is_code_hidden": true,
                "cell_id": "0d891a21c54f44ab81c371a9a1d78a71",
                "deepnote_cell_type": "code"
            },
            "source": "# Instanciar tranformador de dados\ntry:\n    transformer = NotionTransformer()\nexcept Exception as e:\n    notifier.pipeline_error(e)\n    raise e",
            "block_group": "dc1d2eab014b4a8c8b256d22796d1f0a",
            "execution_count": null,
            "outputs": [],
            "outputs_reference": null,
            "content_dependencies": {
                "codeHash": "4b335d77",
                "usedVariables": [
                    "NotionTransformer"
                ],
                "importedModules": [],
                "definedVariables": [
                    "transformer"
                ]
            }
        },
        {
            "cell_type": "markdown",
            "metadata": {
                "formattedRanges": [],
                "deepnote_app_block_visible": true,
                "cell_id": "a882806e67f54d949c5cf71a275b6c51",
                "deepnote_cell_type": "text-cell-h3"
            },
            "source": "### processing",
            "block_group": "107189188e90423fa47242e36c222ac7"
        },
        {
            "cell_type": "code",
            "metadata": {
                "source_hash": null,
                "execution_start": 1726155052440,
                "execution_millis": 8975,
                "deepnote_to_be_reexecuted": false,
                "deepnote_app_block_visible": true,
                "deepnote_app_is_code_hidden": true,
                "cell_id": "701aefa641dd4e799c20bd426f82dc48",
                "deepnote_cell_type": "code"
            },
            "source": "try:\n    file_path = Utils.get_latest_file(f'/work/data/raw/{source}/{stream_name}', '.txt.gz')\n    if file_path:\n        records = Utils.read_records(file_path)\n    else:\n        print('No files found in the specified directory')\nexcept Exception as e:\n    notifier.pipeline_error(e)\n    raise e",
            "block_group": "05ab7378984f4a4c854de04e1926617a",
            "execution_count": null,
            "outputs": [],
            "outputs_reference": null,
            "content_dependencies": {
                "codeHash": "b62210a6",
                "usedVariables": [
                    "file_path",
                    "Utils"
                ],
                "importedModules": [],
                "definedVariables": [
                    "file_path",
                    "records"
                ]
            }
        },
        {
            "cell_type": "code",
            "metadata": {
                "source_hash": null,
                "execution_start": 1726155061514,
                "execution_millis": 63,
                "deepnote_table_state": {
                    "sortBy": [],
                    "filters": [],
                    "pageSize": 5,
                    "pageIndex": 0,
                    "conditionalFilters": []
                },
                "deepnote_table_loading": false,
                "deepnote_to_be_reexecuted": false,
                "deepnote_app_block_visible": true,
                "deepnote_app_is_code_hidden": true,
                "cell_id": "acf45ddf32bf4768bc12875de936b981",
                "deepnote_cell_type": "code"
            },
            "source": "try:\n    # Obter Dataframe com propriedades extraídas\n    processed_data = transformer.extract_pages_from_records(records)\n\n    # Converter todas as colunas de lista do dataframe para strings separadas por vírgulas\n    transformer.process_list_columns(processed_data)\n\n    # Converter todas as colunas de lista do dataframe para strings separadas por vírgulas\n    processed_data['Etapa'] = processed_data['Etapa'].str[4:]\n\n    # Atualizar a coluna Task Interval com o atributo 'start' do objeto\n    processed_data['Task Interval']  = processed_data['Task Interval'].apply(lambda x: x['start'] if isinstance(x, dict) and 'start' in x else None)\n\n    # Definindo uma coluna para identificar o horário da atualização\n    processed_data['loaded_at'] = datetime.now().strftime(\"%Y-%m-%d %H:%M:%S\")\n    processed_data['extracted_at'] = time\n    processed_data\nexcept Exception as e:\n    notifier.pipeline_error(e)\n    raise e",
            "block_group": "480d295f54d943bab671705c381f72bc",
            "execution_count": null,
            "outputs": [],
            "outputs_reference": null,
            "content_dependencies": {
                "codeHash": "fab8840",
                "usedVariables": [
                    "extracted_properties_df",
                    "transformer",
                    "columns"
                ],
                "importedModules": [],
                "definedVariables": [
                    "extracted_properties_df",
                    "columns"
                ]
            }
        },
        {
            "cell_type": "code",
            "metadata": {
                "source_hash": null,
                "execution_start": 1726155061551,
                "execution_millis": 626,
                "deepnote_to_be_reexecuted": false,
                "deepnote_app_block_visible": true,
                "deepnote_app_is_code_hidden": true,
                "cell_id": "3ea1cb8d45a5468db9b89d909cd52e2a",
                "deepnote_cell_type": "code"
            },
            "source": "try:\n    output = writer.get_output_file_path(source, stream_table_name,target_layer='processing') + '.csv'\n    os.makedirs(os.path.dirname(output), exist_ok=True)\n    processed_data.to_csv(output, index=False)\nexcept Exception as e:\n    notifier.pipeline_error(e)\n    raise e",
            "block_group": "eb3bee61c8674eec89d8630c7cd0ea12",
            "execution_count": null,
            "outputs": [],
            "outputs_reference": null,
            "content_dependencies": null
        },
        {
            "cell_type": "markdown",
            "metadata": {
                "formattedRanges": [],
                "deepnote_app_block_visible": true,
                "cell_id": "d68a76dc8392439587ef3c4ee43f0b78",
                "deepnote_cell_type": "text-cell-h3"
            },
            "source": "### staging",
            "block_group": "2e8025764b21487ea881ccc4f2b7d996"
        },
        {
            "cell_type": "code",
            "metadata": {
                "source_hash": null,
                "execution_start": 1726155062179,
                "execution_millis": 1019,
                "sql_integration_id": "deepnote-dataframe-sql",
                "deepnote_table_state": {
                    "sortBy": [],
                    "filters": [],
                    "pageSize": 5,
                    "pageIndex": 0,
                    "conditionalFilters": []
                },
                "deepnote_table_loading": false,
                "deepnote_variable_name": "staged_data",
                "deepnote_to_be_reexecuted": false,
                "deepnote_app_block_visible": true,
                "deepnote_app_is_code_hidden": true,
                "cell_id": "f975d202c5d84bffa198c5b7044febb4",
                "deepnote_cell_type": "sql",
                "deepnote_sql_source": "SELECT id AS page_id,\n       \"Task ID\" as task_id,\n--       extracted_at as __deepnote_extracted_at,\n--       loaded_at as __deepnote_loaded_at,\n       Branch as branch,\n       archived,\n       in_trash,\n       last_edited_time,\n       created_time,\n       \"Título\" as titulo,\n       \"Created At\" as created_at,\n       \"Created By\" as created_by,\n       \"Updated At\" as updated_at,\n       \"Updated By\" as updated_by,\n       \"Responsável\" as responsavel,\n       \"Solicitante\" as solicitante,\n       \"Tester\" as tester,\n       \"Área\" as area,\n       \"Ambiente\" as ambiente,\n       \"Prioridade\" as prioridade,\n       \"SLA\" as sla,\n       \"Etapa\" as etapa,\n       \"Dias na Etapa\" as dias_na_etapa,\n       \"Dias até o SLA\" as dias_ate_o_sla,\n       \"Dias até o Desenvolvimento\" as dias_ate_o_desenvolvimento,\n       \"Dias de Desenvolvimento\" as dias_de_desenvolvimento,\n       \"Customer ID\" as customer_id,\n       \"Nome do Cliente\" as nome_do_cliente,\n       \"Justificativa\" as justificativa,\n       \"Sprint\" as sprint,\n       \"Bloqueando\" as bloqueando,\n       \"Bloqueado por\" as bloqueado_por,\n       \"Integração\" as integracao,\n       \"Projetos\" as projetos,\n       \"Stage Updated At\" as stage_updated_at,\n       \"Entered Approved At\" as entered_approved_at,\n       \"Entered Awaiting Version At\" as entered_awaiting_version_at,\n       \"Entered Backlog At\" as entered_backlog_at,\n       \"Entered Correction At\" as entered_correction_at,\n       \"Entered Doing At\" as entered_doing_at,\n       \"Entered Done At\" as entered_done_at,\n       \"Entered Testing At\" as entered_testing_at,\n       \"Entered To-Do At\" as entered_to_do_at,\n       \"Entered To-Test At\" as entered_to_test_at,\n       \"OKR\" as okr\nFROM processed_data;"
            },
            "source": "staged_data = (lambda: _deepnote_execute_sql('SELECT id AS page_id,\\n       \"Task ID\" as task_id,\\n--       extracted_at as __deepnote_extracted_at,\\n--       loaded_at as __deepnote_loaded_at,\\n       Branch as branch,\\n       archived,\\n       in_trash,\\n       last_edited_time,\\n       created_time,\\n       \"Título\" as titulo,\\n       \"Created At\" as created_at,\\n       \"Created By\" as created_by,\\n       \"Updated At\" as updated_at,\\n       \"Updated By\" as updated_by,\\n       \"Responsável\" as responsavel,\\n       \"Solicitante\" as solicitante,\\n       \"Tester\" as tester,\\n       \"Área\" as area,\\n       \"Ambiente\" as ambiente,\\n       \"Prioridade\" as prioridade,\\n       \"SLA\" as sla,\\n       \"Etapa\" as etapa,\\n       \"Dias na Etapa\" as dias_na_etapa,\\n       \"Dias até o SLA\" as dias_ate_o_sla,\\n       \"Dias até o Desenvolvimento\" as dias_ate_o_desenvolvimento,\\n       \"Dias de Desenvolvimento\" as dias_de_desenvolvimento,\\n       \"Customer ID\" as customer_id,\\n       \"Nome do Cliente\" as nome_do_cliente,\\n       \"Justificativa\" as justificativa,\\n       \"Sprint\" as sprint,\\n       \"Bloqueando\" as bloqueando,\\n       \"Bloqueado por\" as bloqueado_por,\\n       \"Integração\" as integracao,\\n       \"Projetos\" as projetos,\\n       \"Stage Updated At\" as stage_updated_at,\\n       \"Entered Approved At\" as entered_approved_at,\\n       \"Entered Awaiting Version At\" as entered_awaiting_version_at,\\n       \"Entered Backlog At\" as entered_backlog_at,\\n       \"Entered Correction At\" as entered_correction_at,\\n       \"Entered Doing At\" as entered_doing_at,\\n       \"Entered Done At\" as entered_done_at,\\n       \"Entered Testing At\" as entered_testing_at,\\n       \"Entered To-Do At\" as entered_to_do_at,\\n       \"Entered To-Test At\" as entered_to_test_at,\\n       \"OKR\" as okr\\nFROM processed_data;', 'SQL_DEEPNOTE_DATAFRAME_SQL', audit_sql_comment='', sql_cache_mode='cache_disabled') if '_deepnote_execute_sql' in globals() else _dntk.execute_sql('SELECT id AS page_id,\\n       \"Task ID\" as task_id,\\n--       extracted_at as __deepnote_extracted_at,\\n--       loaded_at as __deepnote_loaded_at,\\n       Branch as branch,\\n       archived,\\n       in_trash,\\n       last_edited_time,\\n       created_time,\\n       \"Título\" as titulo,\\n       \"Created At\" as created_at,\\n       \"Created By\" as created_by,\\n       \"Updated At\" as updated_at,\\n       \"Updated By\" as updated_by,\\n       \"Responsável\" as responsavel,\\n       \"Solicitante\" as solicitante,\\n       \"Tester\" as tester,\\n       \"Área\" as area,\\n       \"Ambiente\" as ambiente,\\n       \"Prioridade\" as prioridade,\\n       \"SLA\" as sla,\\n       \"Etapa\" as etapa,\\n       \"Dias na Etapa\" as dias_na_etapa,\\n       \"Dias até o SLA\" as dias_ate_o_sla,\\n       \"Dias até o Desenvolvimento\" as dias_ate_o_desenvolvimento,\\n       \"Dias de Desenvolvimento\" as dias_de_desenvolvimento,\\n       \"Customer ID\" as customer_id,\\n       \"Nome do Cliente\" as nome_do_cliente,\\n       \"Justificativa\" as justificativa,\\n       \"Sprint\" as sprint,\\n       \"Bloqueando\" as bloqueando,\\n       \"Bloqueado por\" as bloqueado_por,\\n       \"Integração\" as integracao,\\n       \"Projetos\" as projetos,\\n       \"Stage Updated At\" as stage_updated_at,\\n       \"Entered Approved At\" as entered_approved_at,\\n       \"Entered Awaiting Version At\" as entered_awaiting_version_at,\\n       \"Entered Backlog At\" as entered_backlog_at,\\n       \"Entered Correction At\" as entered_correction_at,\\n       \"Entered Doing At\" as entered_doing_at,\\n       \"Entered Done At\" as entered_done_at,\\n       \"Entered Testing At\" as entered_testing_at,\\n       \"Entered To-Do At\" as entered_to_do_at,\\n       \"Entered To-Test At\" as entered_to_test_at,\\n       \"OKR\" as okr\\nFROM processed_data;', 'SQL_DEEPNOTE_DATAFRAME_SQL', audit_sql_comment='', sql_cache_mode='cache_disabled'))()\nstaged_data",
            "block_group": "f61fee1aaffb4d1f926966e30bffc235",
            "execution_count": null,
            "outputs": [
                {
                    "output_type": "execute_result",
                    "execution_count": 13,
                    "data": {
                        "application/vnd.deepnote.dataframe.v3+json": {
                            "column_count": 43,
                            "row_count": 1197,
                            "columns": [
                                {
                                    "name": "page_id",
                                    "dtype": "object",
                                    "stats": {
                                        "unique_count": 1197,
                                        "nan_count": 0,
                                        "categories": [
                                            {
                                                "name": "714ad377-1b3a-4c0f-b6e6-8cd575be3423",
                                                "count": 1
                                            },
                                            {
                                                "name": "5cb5ad4f-001a-4b3e-91c6-2cd8b3d34390",
                                                "count": 1
                                            },
                                            {
                                                "name": "1195 others",
                                                "count": 1195
                                            }
                                        ]
                                    }
                                },
                                {
                                    "name": "task_id",
                                    "dtype": "object",
                                    "stats": {
                                        "unique_count": 1139,
                                        "nan_count": 2,
                                        "categories": [
                                            {
                                                "name": "HF-651",
                                                "count": 3
                                            },
                                            {
                                                "name": "1138 others",
                                                "count": 1192
                                            },
                                            {
                                                "name": "Missing",
                                                "count": 2
                                            }
                                        ]
                                    }
                                },
                                {
                                    "name": "branch",
                                    "dtype": "object",
                                    "stats": {
                                        "unique_count": 151,
                                        "nan_count": 0,
                                        "categories": [
                                            {
                                                "name": "",
                                                "count": 1024
                                            },
                                            {
                                                "name": "INO-Sankhya",
                                                "count": 9
                                            },
                                            {
                                                "name": "149 others",
                                                "count": 164
                                            }
                                        ]
                                    }
                                },
                                {
                                    "name": "archived",
                                    "dtype": "bool",
                                    "stats": {
                                        "unique_count": 1,
                                        "nan_count": 0,
                                        "categories": [
                                            {
                                                "name": "False",
                                                "count": 1197
                                            }
                                        ]
                                    }
                                },
                                {
                                    "name": "in_trash",
                                    "dtype": "bool",
                                    "stats": {
                                        "unique_count": 1,
                                        "nan_count": 0,
                                        "categories": [
                                            {
                                                "name": "False",
                                                "count": 1197
                                            }
                                        ]
                                    }
                                },
                                {
                                    "name": "last_edited_time",
                                    "dtype": "object",
                                    "stats": {
                                        "unique_count": 232,
                                        "nan_count": 0,
                                        "categories": [
                                            {
                                                "name": "2024-04-11T18:30:00.000Z",
                                                "count": 259
                                            },
                                            {
                                                "name": "2024-05-29T18:53:00.000Z",
                                                "count": 203
                                            },
                                            {
                                                "name": "230 others",
                                                "count": 735
                                            }
                                        ]
                                    }
                                },
                                {
                                    "name": "created_time",
                                    "dtype": "object",
                                    "stats": {
                                        "unique_count": 405,
                                        "nan_count": 0,
                                        "categories": [
                                            {
                                                "name": "2024-03-01T18:26:00.000Z",
                                                "count": 781
                                            },
                                            {
                                                "name": "2024-07-24T19:05:00.000Z",
                                                "count": 4
                                            },
                                            {
                                                "name": "403 others",
                                                "count": 412
                                            }
                                        ]
                                    }
                                },
                                {
                                    "name": "titulo",
                                    "dtype": "object",
                                    "stats": {
                                        "unique_count": 1192,
                                        "nan_count": 0,
                                        "categories": [
                                            {
                                                "name": "PRD-980 - Incluir critério de produto na configuração de dependências de características",
                                                "count": 2
                                            },
                                            {
                                                "name": "PRD-1120 - Criar critério de tabela de preço na política comercial de comissão por ítem",
                                                "count": 2
                                            },
                                            {
                                                "name": "1190 others",
                                                "count": 1193
                                            }
                                        ]
                                    }
                                },
                                {
                                    "name": "created_at",
                                    "dtype": "object",
                                    "stats": {
                                        "unique_count": 405,
                                        "nan_count": 0,
                                        "categories": [
                                            {
                                                "name": "2024-03-01T18:26:00.000Z",
                                                "count": 781
                                            },
                                            {
                                                "name": "2024-07-24T19:05:00.000Z",
                                                "count": 4
                                            },
                                            {
                                                "name": "403 others",
                                                "count": 412
                                            }
                                        ]
                                    }
                                },
                                {
                                    "name": "created_by",
                                    "dtype": "object",
                                    "stats": {
                                        "unique_count": 15,
                                        "nan_count": 0,
                                        "categories": [
                                            {
                                                "name": "Cauê Ausec",
                                                "count": 948
                                            },
                                            {
                                                "name": "Vitória Martins",
                                                "count": 78
                                            },
                                            {
                                                "name": "13 others",
                                                "count": 171
                                            }
                                        ]
                                    }
                                },
                                {
                                    "name": "updated_at",
                                    "dtype": "object",
                                    "stats": {
                                        "unique_count": 232,
                                        "nan_count": 0,
                                        "categories": [
                                            {
                                                "name": "2024-04-11T18:30:00.000Z",
                                                "count": 259
                                            },
                                            {
                                                "name": "2024-05-29T18:53:00.000Z",
                                                "count": 203
                                            },
                                            {
                                                "name": "230 others",
                                                "count": 735
                                            }
                                        ]
                                    }
                                },
                                {
                                    "name": "updated_by",
                                    "dtype": "object",
                                    "stats": {
                                        "unique_count": 16,
                                        "nan_count": 0,
                                        "categories": [
                                            {
                                                "name": "Cauê Ausec",
                                                "count": 1019
                                            },
                                            {
                                                "name": "",
                                                "count": 129
                                            },
                                            {
                                                "name": "14 others",
                                                "count": 49
                                            }
                                        ]
                                    }
                                },
                                {
                                    "name": "responsavel",
                                    "dtype": "object",
                                    "stats": {
                                        "unique_count": 79,
                                        "nan_count": 0,
                                        "categories": [
                                            {
                                                "name": "",
                                                "count": 365
                                            },
                                            {
                                                "name": "Vitor Lehmkuhl",
                                                "count": 298
                                            },
                                            {
                                                "name": "77 others",
                                                "count": 534
                                            }
                                        ]
                                    }
                                },
                                {
                                    "name": "solicitante",
                                    "dtype": "object",
                                    "stats": {
                                        "unique_count": 45,
                                        "nan_count": 0,
                                        "categories": [
                                            {
                                                "name": "",
                                                "count": 369
                                            },
                                            {
                                                "name": "Vitória Martins",
                                                "count": 268
                                            },
                                            {
                                                "name": "43 others",
                                                "count": 560
                                            }
                                        ]
                                    }
                                },
                                {
                                    "name": "tester",
                                    "dtype": "object",
                                    "stats": {
                                        "unique_count": 14,
                                        "nan_count": 0,
                                        "categories": [
                                            {
                                                "name": "",
                                                "count": 814
                                            },
                                            {
                                                "name": "Fernando Luppi",
                                                "count": 263
                                            },
                                            {
                                                "name": "12 others",
                                                "count": 120
                                            }
                                        ]
                                    }
                                },
                                {
                                    "name": "area",
                                    "dtype": "object",
                                    "stats": {
                                        "unique_count": 3,
                                        "nan_count": 2,
                                        "categories": [
                                            {
                                                "name": "Suporte",
                                                "count": 1011
                                            },
                                            {
                                                "name": "2 others",
                                                "count": 184
                                            },
                                            {
                                                "name": "Missing",
                                                "count": 2
                                            }
                                        ]
                                    }
                                },
                                {
                                    "name": "ambiente",
                                    "dtype": "object",
                                    "stats": {
                                        "unique_count": 45,
                                        "nan_count": 0,
                                        "categories": [
                                            {
                                                "name": "",
                                                "count": 462
                                            },
                                            {
                                                "name": "Mobile",
                                                "count": 269
                                            },
                                            {
                                                "name": "43 others",
                                                "count": 466
                                            }
                                        ]
                                    }
                                },
                                {
                                    "name": "prioridade",
                                    "dtype": "object",
                                    "stats": {
                                        "unique_count": 4,
                                        "nan_count": 11,
                                        "categories": [
                                            {
                                                "name": "Alta",
                                                "count": 380
                                            },
                                            {
                                                "name": "3 others",
                                                "count": 806
                                            },
                                            {
                                                "name": "Missing",
                                                "count": 11
                                            }
                                        ]
                                    }
                                },
                                {
                                    "name": "sla",
                                    "dtype": "object",
                                    "stats": {
                                        "unique_count": 54,
                                        "nan_count": 771,
                                        "categories": [
                                            {
                                                "name": "",
                                                "count": 186
                                            },
                                            {
                                                "name": "53 others",
                                                "count": 240
                                            },
                                            {
                                                "name": "Missing",
                                                "count": 771
                                            }
                                        ]
                                    }
                                },
                                {
                                    "name": "etapa",
                                    "dtype": "object",
                                    "stats": {
                                        "unique_count": 9,
                                        "nan_count": 3,
                                        "categories": [
                                            {
                                                "name": "Finalizado",
                                                "count": 1126
                                            },
                                            {
                                                "name": "8 others",
                                                "count": 68
                                            },
                                            {
                                                "name": "Missing",
                                                "count": 3
                                            }
                                        ]
                                    }
                                },
                                {
                                    "name": "dias_na_etapa",
                                    "dtype": "float64",
                                    "stats": {
                                        "unique_count": 100,
                                        "nan_count": 14,
                                        "min": "1.0",
                                        "max": "169.0",
                                        "histogram": [
                                            {
                                                "bin_start": 1,
                                                "bin_end": 17.8,
                                                "count": 44
                                            },
                                            {
                                                "bin_start": 17.8,
                                                "bin_end": 34.6,
                                                "count": 30
                                            },
                                            {
                                                "bin_start": 34.6,
                                                "bin_end": 51.400000000000006,
                                                "count": 55
                                            },
                                            {
                                                "bin_start": 51.400000000000006,
                                                "bin_end": 68.2,
                                                "count": 34
                                            },
                                            {
                                                "bin_start": 68.2,
                                                "bin_end": 85,
                                                "count": 28
                                            },
                                            {
                                                "bin_start": 85,
                                                "bin_end": 101.80000000000001,
                                                "count": 52
                                            },
                                            {
                                                "bin_start": 101.80000000000001,
                                                "bin_end": 118.60000000000001,
                                                "count": 21
                                            },
                                            {
                                                "bin_start": 118.60000000000001,
                                                "bin_end": 135.4,
                                                "count": 34
                                            },
                                            {
                                                "bin_start": 135.4,
                                                "bin_end": 152.20000000000002,
                                                "count": 38
                                            },
                                            {
                                                "bin_start": 152.20000000000002,
                                                "bin_end": 169,
                                                "count": 847
                                            }
                                        ]
                                    }
                                },
                                {
                                    "name": "dias_ate_o_sla",
                                    "dtype": "float64",
                                    "stats": {
                                        "unique_count": 53,
                                        "nan_count": 805,
                                        "min": "-72.0",
                                        "max": "99.0",
                                        "histogram": [
                                            {
                                                "bin_start": -72,
                                                "bin_end": -54.9,
                                                "count": 4
                                            },
                                            {
                                                "bin_start": -54.9,
                                                "bin_end": -37.8,
                                                "count": 2
                                            },
                                            {
                                                "bin_start": -37.8,
                                                "bin_end": -20.699999999999996,
                                                "count": 12
                                            },
                                            {
                                                "bin_start": -20.699999999999996,
                                                "bin_end": -3.5999999999999943,
                                                "count": 63
                                            },
                                            {
                                                "bin_start": -3.5999999999999943,
                                                "bin_end": 13.5,
                                                "count": 112
                                            },
                                            {
                                                "bin_start": 13.5,
                                                "bin_end": 30.60000000000001,
                                                "count": 13
                                            },
                                            {
                                                "bin_start": 30.60000000000001,
                                                "bin_end": 47.70000000000002,
                                                "count": 0
                                            },
                                            {
                                                "bin_start": 47.70000000000002,
                                                "bin_end": 64.80000000000001,
                                                "count": 0
                                            },
                                            {
                                                "bin_start": 64.80000000000001,
                                                "bin_end": 81.9,
                                                "count": 0
                                            },
                                            {
                                                "bin_start": 81.9,
                                                "bin_end": 99,
                                                "count": 186
                                            }
                                        ]
                                    }
                                },
                                {
                                    "name": "dias_ate_o_desenvolvimento",
                                    "dtype": "float64",
                                    "stats": {
                                        "unique_count": 58,
                                        "nan_count": 961,
                                        "min": "-80.0",
                                        "max": "160.0",
                                        "histogram": [
                                            {
                                                "bin_start": -80,
                                                "bin_end": -56,
                                                "count": 1
                                            },
                                            {
                                                "bin_start": -56,
                                                "bin_end": -32,
                                                "count": 0
                                            },
                                            {
                                                "bin_start": -32,
                                                "bin_end": -8,
                                                "count": 1
                                            },
                                            {
                                                "bin_start": -8,
                                                "bin_end": 16,
                                                "count": 156
                                            },
                                            {
                                                "bin_start": 16,
                                                "bin_end": 40,
                                                "count": 55
                                            },
                                            {
                                                "bin_start": 40,
                                                "bin_end": 64,
                                                "count": 7
                                            },
                                            {
                                                "bin_start": 64,
                                                "bin_end": 88,
                                                "count": 8
                                            },
                                            {
                                                "bin_start": 88,
                                                "bin_end": 112,
                                                "count": 4
                                            },
                                            {
                                                "bin_start": 112,
                                                "bin_end": 136,
                                                "count": 3
                                            },
                                            {
                                                "bin_start": 136,
                                                "bin_end": 160,
                                                "count": 1
                                            }
                                        ]
                                    }
                                },
                                {
                                    "name": "dias_de_desenvolvimento",
                                    "dtype": "float64",
                                    "stats": {
                                        "unique_count": 33,
                                        "nan_count": 1048,
                                        "min": "-7.0",
                                        "max": "89.0",
                                        "histogram": [
                                            {
                                                "bin_start": -7,
                                                "bin_end": 2.5999999999999996,
                                                "count": 45
                                            },
                                            {
                                                "bin_start": 2.5999999999999996,
                                                "bin_end": 12.2,
                                                "count": 70
                                            },
                                            {
                                                "bin_start": 12.2,
                                                "bin_end": 21.799999999999997,
                                                "count": 19
                                            },
                                            {
                                                "bin_start": 21.799999999999997,
                                                "bin_end": 31.4,
                                                "count": 11
                                            },
                                            {
                                                "bin_start": 31.4,
                                                "bin_end": 41,
                                                "count": 2
                                            },
                                            {
                                                "bin_start": 41,
                                                "bin_end": 50.599999999999994,
                                                "count": 0
                                            },
                                            {
                                                "bin_start": 50.599999999999994,
                                                "bin_end": 60.2,
                                                "count": 0
                                            },
                                            {
                                                "bin_start": 60.2,
                                                "bin_end": 69.8,
                                                "count": 0
                                            },
                                            {
                                                "bin_start": 69.8,
                                                "bin_end": 79.39999999999999,
                                                "count": 0
                                            },
                                            {
                                                "bin_start": 79.39999999999999,
                                                "bin_end": 89,
                                                "count": 2
                                            }
                                        ]
                                    }
                                },
                                {
                                    "name": "customer_id",
                                    "dtype": "object",
                                    "stats": {
                                        "unique_count": 318,
                                        "nan_count": 0,
                                        "categories": [
                                            {
                                                "name": "",
                                                "count": 256
                                            },
                                            {
                                                "name": "134",
                                                "count": 32
                                            },
                                            {
                                                "name": "316 others",
                                                "count": 909
                                            }
                                        ]
                                    }
                                },
                                {
                                    "name": "nome_do_cliente",
                                    "dtype": "object",
                                    "stats": {
                                        "unique_count": 340,
                                        "nan_count": 0,
                                        "categories": [
                                            {
                                                "name": "",
                                                "count": 384
                                            },
                                            {
                                                "name": "Futebol e Magia",
                                                "count": 23
                                            },
                                            {
                                                "name": "338 others",
                                                "count": 790
                                            }
                                        ]
                                    }
                                },
                                {
                                    "name": "justificativa",
                                    "dtype": "object",
                                    "stats": {
                                        "unique_count": 7,
                                        "nan_count": 1134,
                                        "categories": [
                                            {
                                                "name": "Duplicada",
                                                "count": 19
                                            },
                                            {
                                                "name": "6 others",
                                                "count": 44
                                            },
                                            {
                                                "name": "Missing",
                                                "count": 1134
                                            }
                                        ]
                                    }
                                },
                                {
                                    "name": "sprint",
                                    "dtype": "object",
                                    "stats": {
                                        "unique_count": 24,
                                        "nan_count": 0,
                                        "categories": [
                                            {
                                                "name": "",
                                                "count": 1090
                                            },
                                            {
                                                "name": "79",
                                                "count": 18
                                            },
                                            {
                                                "name": "22 others",
                                                "count": 89
                                            }
                                        ]
                                    }
                                },
                                {
                                    "name": "bloqueando",
                                    "dtype": "object",
                                    "stats": {
                                        "unique_count": 10,
                                        "nan_count": 0,
                                        "categories": [
                                            {
                                                "name": "",
                                                "count": 1184
                                            },
                                            {
                                                "name": "525402a4-7757-48a0-b1eb-bf1279cacbdb",
                                                "count": 4
                                            },
                                            {
                                                "name": "8 others",
                                                "count": 9
                                            }
                                        ]
                                    }
                                },
                                {
                                    "name": "bloqueado_por",
                                    "dtype": "object",
                                    "stats": {
                                        "unique_count": 10,
                                        "nan_count": 0,
                                        "categories": [
                                            {
                                                "name": "",
                                                "count": 1181
                                            },
                                            {
                                                "name": "57698c50-fbb8-4df9-b489-fb5d3333dfa5",
                                                "count": 6
                                            },
                                            {
                                                "name": "8 others",
                                                "count": 10
                                            }
                                        ]
                                    }
                                },
                                {
                                    "name": "integracao",
                                    "dtype": "object",
                                    "stats": {
                                        "unique_count": 8,
                                        "nan_count": 0,
                                        "categories": [
                                            {
                                                "name": "",
                                                "count": 1080
                                            },
                                            {
                                                "name": "Bling",
                                                "count": 41
                                            },
                                            {
                                                "name": "6 others",
                                                "count": 76
                                            }
                                        ]
                                    }
                                },
                                {
                                    "name": "projetos",
                                    "dtype": "object",
                                    "stats": {
                                        "unique_count": 1,
                                        "nan_count": 0,
                                        "categories": [
                                            {
                                                "name": "",
                                                "count": 1197
                                            }
                                        ]
                                    }
                                },
                                {
                                    "name": "stage_updated_at",
                                    "dtype": "object",
                                    "stats": {
                                        "unique_count": 239,
                                        "nan_count": 1,
                                        "categories": [
                                            {
                                                "name": "2024-03-27T12:02:00.000-03:00",
                                                "count": 826
                                            },
                                            {
                                                "name": "238 others",
                                                "count": 370
                                            },
                                            {
                                                "name": "Missing",
                                                "count": 1
                                            }
                                        ]
                                    }
                                },
                                {
                                    "name": "entered_approved_at",
                                    "dtype": "object",
                                    "stats": {
                                        "unique_count": 191,
                                        "nan_count": 1001,
                                        "categories": [
                                            {
                                                "name": "2024-07-29T14:45:00.000-03:00",
                                                "count": 3
                                            },
                                            {
                                                "name": "190 others",
                                                "count": 193
                                            },
                                            {
                                                "name": "Missing",
                                                "count": 1001
                                            }
                                        ]
                                    }
                                },
                                {
                                    "name": "entered_awaiting_version_at",
                                    "dtype": "object",
                                    "stats": {
                                        "unique_count": 212,
                                        "nan_count": 965,
                                        "categories": [
                                            {
                                                "name": "2024-07-02T17:34:00.000-03:00",
                                                "count": 4
                                            },
                                            {
                                                "name": "211 others",
                                                "count": 228
                                            },
                                            {
                                                "name": "Missing",
                                                "count": 965
                                            }
                                        ]
                                    }
                                },
                                {
                                    "name": "entered_backlog_at",
                                    "dtype": "object",
                                    "stats": {
                                        "unique_count": 199,
                                        "nan_count": 973,
                                        "categories": [
                                            {
                                                "name": "2024-03-25T20:54:00.000-03:00",
                                                "count": 4
                                            },
                                            {
                                                "name": "198 others",
                                                "count": 220
                                            },
                                            {
                                                "name": "Missing",
                                                "count": 973
                                            }
                                        ]
                                    }
                                },
                                {
                                    "name": "entered_correction_at",
                                    "dtype": "object",
                                    "stats": {
                                        "unique_count": 93,
                                        "nan_count": 1102,
                                        "categories": [
                                            {
                                                "name": "2024-06-11T11:52:00.000-03:00",
                                                "count": 3
                                            },
                                            {
                                                "name": "92 others",
                                                "count": 92
                                            },
                                            {
                                                "name": "Missing",
                                                "count": 1102
                                            }
                                        ]
                                    }
                                },
                                {
                                    "name": "entered_doing_at",
                                    "dtype": "object",
                                    "stats": {
                                        "unique_count": 272,
                                        "nan_count": 918,
                                        "categories": [
                                            {
                                                "name": "2024-06-19T16:15:00.000-03:00",
                                                "count": 3
                                            },
                                            {
                                                "name": "271 others",
                                                "count": 276
                                            },
                                            {
                                                "name": "Missing",
                                                "count": 918
                                            }
                                        ]
                                    }
                                },
                                {
                                    "name": "entered_done_at",
                                    "dtype": "object",
                                    "stats": {
                                        "unique_count": 205,
                                        "nan_count": 862,
                                        "categories": [
                                            {
                                                "name": "2024-04-18T17:18:00.000-03:00",
                                                "count": 10
                                            },
                                            {
                                                "name": "204 others",
                                                "count": 325
                                            },
                                            {
                                                "name": "Missing",
                                                "count": 862
                                            }
                                        ]
                                    }
                                },
                                {
                                    "name": "entered_testing_at",
                                    "dtype": "object",
                                    "stats": {
                                        "unique_count": 228,
                                        "nan_count": 961,
                                        "categories": [
                                            {
                                                "name": "2024-06-11T10:47:00.000-03:00",
                                                "count": 3
                                            },
                                            {
                                                "name": "227 others",
                                                "count": 233
                                            },
                                            {
                                                "name": "Missing",
                                                "count": 961
                                            }
                                        ]
                                    }
                                },
                                {
                                    "name": "entered_to_do_at",
                                    "dtype": "object",
                                    "stats": {
                                        "unique_count": 218,
                                        "nan_count": 950,
                                        "categories": [
                                            {
                                                "name": "2024-06-18T11:08:00.000-03:00",
                                                "count": 5
                                            },
                                            {
                                                "name": "217 others",
                                                "count": 242
                                            },
                                            {
                                                "name": "Missing",
                                                "count": 950
                                            }
                                        ]
                                    }
                                },
                                {
                                    "name": "entered_to_test_at",
                                    "dtype": "object",
                                    "stats": {
                                        "unique_count": 243,
                                        "nan_count": 948,
                                        "categories": [
                                            {
                                                "name": "2024-06-11T10:11:00.000-03:00",
                                                "count": 3
                                            },
                                            {
                                                "name": "242 others",
                                                "count": 246
                                            },
                                            {
                                                "name": "Missing",
                                                "count": 948
                                            }
                                        ]
                                    }
                                },
                                {
                                    "name": "okr",
                                    "dtype": "object",
                                    "stats": {
                                        "unique_count": 2,
                                        "nan_count": 1178,
                                        "categories": [
                                            {
                                                "name": "Entregar acima de 90% do roadmap de melhorias para o Configurador de produtos",
                                                "count": 17
                                            },
                                            {
                                                "name": "Entregar acima de 50% da primeira versão do roadmap focado no segmento AB",
                                                "count": 2
                                            },
                                            {
                                                "name": "Missing",
                                                "count": 1178
                                            }
                                        ]
                                    }
                                },
                                {
                                    "name": "_deepnote_index_column",
                                    "dtype": "int64"
                                }
                            ],
                            "rows": [
                                {
                                    "page_id": "714ad377-1b3a-4c0f-b6e6-8cd575be3423",
                                    "task_id": "HF-1016",
                                    "branch": "",
                                    "archived": "False",
                                    "in_trash": "False",
                                    "last_edited_time": "2024-09-12T13:33:00.000Z",
                                    "created_time": "2024-09-12T13:31:00.000Z",
                                    "titulo": "#1016 - Correções no estoque de variações da grade",
                                    "created_at": "2024-09-12T13:31:00.000Z",
                                    "created_by": "Cauê Ausec",
                                    "updated_at": "2024-09-12T13:33:00.000Z",
                                    "updated_by": "Cauê Ausec",
                                    "responsavel": "Cauê Ausec",
                                    "solicitante": "Fernando Luppi",
                                    "tester": "",
                                    "area": "Suporte",
                                    "ambiente": "Web, Mobile",
                                    "prioridade": "Baixa",
                                    "sla": "⌛️ 30 dias restantes",
                                    "etapa": "Entrada",
                                    "dias_na_etapa": "nan",
                                    "dias_ate_o_sla": 30,
                                    "dias_ate_o_desenvolvimento": "nan",
                                    "dias_de_desenvolvimento": "nan",
                                    "customer_id": "",
                                    "nome_do_cliente": "",
                                    "justificativa": "None",
                                    "sprint": "",
                                    "bloqueando": "",
                                    "bloqueado_por": "",
                                    "integracao": "",
                                    "projetos": "",
                                    "stage_updated_at": "2024-09-12T10:31:00.000-03:00",
                                    "entered_approved_at": "None",
                                    "entered_awaiting_version_at": "None",
                                    "entered_backlog_at": "None",
                                    "entered_correction_at": "None",
                                    "entered_doing_at": "None",
                                    "entered_done_at": "None",
                                    "entered_testing_at": "None",
                                    "entered_to_do_at": "None",
                                    "entered_to_test_at": "None",
                                    "okr": "None",
                                    "_deepnote_index_column": 0
                                },
                                {
                                    "page_id": "5cb5ad4f-001a-4b3e-91c6-2cd8b3d34390",
                                    "task_id": "PRD-1393",
                                    "branch": "",
                                    "archived": "False",
                                    "in_trash": "False",
                                    "last_edited_time": "2024-09-11T20:04:00.000Z",
                                    "created_time": "2024-09-11T19:50:00.000Z",
                                    "titulo": "Refatoração: Algumas melhorias na usabilidade do ecommerce",
                                    "created_at": "2024-09-11T19:50:00.000Z",
                                    "created_by": "Evelin Szymanski",
                                    "updated_at": "2024-09-11T20:04:00.000Z",
                                    "updated_by": "Evelin Szymanski",
                                    "responsavel": "Evelin Szymanski",
                                    "solicitante": "Evelin Szymanski",
                                    "tester": "",
                                    "area": "Produto",
                                    "ambiente": "",
                                    "prioridade": "Baixa",
                                    "sla": "",
                                    "etapa": "Fazendo",
                                    "dias_na_etapa": "nan",
                                    "dias_ate_o_sla": 99,
                                    "dias_ate_o_desenvolvimento": "nan",
                                    "dias_de_desenvolvimento": "nan",
                                    "customer_id": "",
                                    "nome_do_cliente": "",
                                    "justificativa": "None",
                                    "sprint": "",
                                    "bloqueando": "",
                                    "bloqueado_por": "",
                                    "integracao": "",
                                    "projetos": "",
                                    "stage_updated_at": "2024-09-11T16:50:00.000-03:00",
                                    "entered_approved_at": "None",
                                    "entered_awaiting_version_at": "None",
                                    "entered_backlog_at": "None",
                                    "entered_correction_at": "None",
                                    "entered_doing_at": "2024-09-11T16:50:00.000-03:00",
                                    "entered_done_at": "None",
                                    "entered_testing_at": "None",
                                    "entered_to_do_at": "None",
                                    "entered_to_test_at": "None",
                                    "okr": "None",
                                    "_deepnote_index_column": 1
                                },
                                {
                                    "page_id": "b9cb5a46-f182-46b4-a733-386d0f9618d7",
                                    "task_id": "PRD-1391",
                                    "branch": "PRD-1391",
                                    "archived": "False",
                                    "in_trash": "False",
                                    "last_edited_time": "2024-09-11T15:56:00.000Z",
                                    "created_time": "2024-09-11T15:46:00.000Z",
                                    "titulo": "Implementar filtro por tag na importação de produtos da Tiny",
                                    "created_at": "2024-09-11T15:46:00.000Z",
                                    "created_by": "Cauê Ausec",
                                    "updated_at": "2024-09-11T15:56:00.000Z",
                                    "updated_by": "Cauê Ausec",
                                    "responsavel": "Daniel Mergen",
                                    "solicitante": "Cauê Ausec",
                                    "tester": "",
                                    "area": "Produto",
                                    "ambiente": "Integrações",
                                    "prioridade": "Média",
                                    "sla": "",
                                    "etapa": "A Fazer",
                                    "dias_na_etapa": "nan",
                                    "dias_ate_o_sla": 99,
                                    "dias_ate_o_desenvolvimento": "nan",
                                    "dias_de_desenvolvimento": "nan",
                                    "customer_id": "529",
                                    "nome_do_cliente": "Comercial Elgro",
                                    "justificativa": "None",
                                    "sprint": "86",
                                    "bloqueando": "",
                                    "bloqueado_por": "",
                                    "integracao": "Tiny",
                                    "projetos": "",
                                    "stage_updated_at": "2024-09-11T12:46:00.000-03:00",
                                    "entered_approved_at": "None",
                                    "entered_awaiting_version_at": "None",
                                    "entered_backlog_at": "None",
                                    "entered_correction_at": "None",
                                    "entered_doing_at": "None",
                                    "entered_done_at": "None",
                                    "entered_testing_at": "None",
                                    "entered_to_do_at": "2024-09-11T12:46:00.000-03:00",
                                    "entered_to_test_at": "None",
                                    "okr": "None",
                                    "_deepnote_index_column": 2
                                },
                                {
                                    "page_id": "1ab43c66-5a91-40be-a44a-4078192cb42b",
                                    "task_id": "PRD-1390",
                                    "branch": "PRD-1390",
                                    "archived": "False",
                                    "in_trash": "False",
                                    "last_edited_time": "2024-09-11T15:53:00.000Z",
                                    "created_time": "2024-09-11T15:44:00.000Z",
                                    "titulo": "Exibir data da última atualização do produto na listagem de produtos web",
                                    "created_at": "2024-09-11T15:44:00.000Z",
                                    "created_by": "Cauê Ausec",
                                    "updated_at": "2024-09-11T15:53:00.000Z",
                                    "updated_by": "Cauê Ausec",
                                    "responsavel": "",
                                    "solicitante": "Cauê Ausec",
                                    "tester": "",
                                    "area": "Produto",
                                    "ambiente": "Web",
                                    "prioridade": "Média",
                                    "sla": "",
                                    "etapa": "Backlog",
                                    "dias_na_etapa": "nan",
                                    "dias_ate_o_sla": 99,
                                    "dias_ate_o_desenvolvimento": "nan",
                                    "dias_de_desenvolvimento": "nan",
                                    "customer_id": "529",
                                    "nome_do_cliente": "Comercial Elgro",
                                    "justificativa": "None",
                                    "sprint": "86",
                                    "bloqueando": "",
                                    "bloqueado_por": "",
                                    "integracao": "",
                                    "projetos": "",
                                    "stage_updated_at": "2024-09-11T12:52:00.000-03:00",
                                    "entered_approved_at": "None",
                                    "entered_awaiting_version_at": "None",
                                    "entered_backlog_at": "2024-09-11T12:52:00.000-03:00",
                                    "entered_correction_at": "None",
                                    "entered_doing_at": "None",
                                    "entered_done_at": "None",
                                    "entered_testing_at": "None",
                                    "entered_to_do_at": "2024-09-11T12:45:00.000-03:00",
                                    "entered_to_test_at": "None",
                                    "okr": "None",
                                    "_deepnote_index_column": 3
                                },
                                {
                                    "page_id": "df559ffe-26f0-464d-9891-b9b7fea94190",
                                    "task_id": "HF-1015",
                                    "branch": "",
                                    "archived": "False",
                                    "in_trash": "False",
                                    "last_edited_time": "2024-09-12T13:19:00.000Z",
                                    "created_time": "2024-09-09T18:54:00.000Z",
                                    "titulo": "#1015 - Loading infinito APP",
                                    "created_at": "2024-09-09T18:54:00.000Z",
                                    "created_by": "Cristian Kestring",
                                    "updated_at": "2024-09-12T13:19:00.000Z",
                                    "updated_by": "Cristian Kestring",
                                    "responsavel": "Cauê Ausec",
                                    "solicitante": "Cristian Kestring",
                                    "tester": "",
                                    "area": "Suporte",
                                    "ambiente": "Mobile",
                                    "prioridade": "Média",
                                    "sla": "⌛️ 12 dias restantes",
                                    "etapa": "Entrada",
                                    "dias_na_etapa": 2,
                                    "dias_ate_o_sla": 12,
                                    "dias_ate_o_desenvolvimento": "nan",
                                    "dias_de_desenvolvimento": "nan",
                                    "customer_id": "712",
                                    "nome_do_cliente": "Rosim",
                                    "justificativa": "None",
                                    "sprint": "",
                                    "bloqueando": "",
                                    "bloqueado_por": "",
                                    "integracao": "",
                                    "projetos": "",
                                    "stage_updated_at": "2024-09-09T15:54:00.000-03:00",
                                    "entered_approved_at": "None",
                                    "entered_awaiting_version_at": "None",
                                    "entered_backlog_at": "None",
                                    "entered_correction_at": "None",
                                    "entered_doing_at": "None",
                                    "entered_done_at": "None",
                                    "entered_testing_at": "None",
                                    "entered_to_do_at": "None",
                                    "entered_to_test_at": "None",
                                    "okr": "None",
                                    "_deepnote_index_column": 4
                                }
                            ]
                        },
                        "text/plain": "                                   page_id   task_id    branch  archived  \\\n0     714ad377-1b3a-4c0f-b6e6-8cd575be3423   HF-1016               False   \n1     5cb5ad4f-001a-4b3e-91c6-2cd8b3d34390  PRD-1393               False   \n2     b9cb5a46-f182-46b4-a733-386d0f9618d7  PRD-1391  PRD-1391     False   \n3     1ab43c66-5a91-40be-a44a-4078192cb42b  PRD-1390  PRD-1390     False   \n4     df559ffe-26f0-464d-9891-b9b7fea94190   HF-1015               False   \n...                                    ...       ...       ...       ...   \n1192  d38a422c-b44d-4027-b208-d4e7d6cacf7d    HF-264               False   \n1193  dd81b65a-c1c5-4e9e-83d5-7a812132e81e    HF-352               False   \n1194  e45cd20b-8bfb-4eec-9637-8231ca90dbba    HF-606               False   \n1195  31a3ea18-814b-4e00-91da-02770e84df1d    HF-523               False   \n1196  78e465de-d6df-4e3b-b0be-dde01b711ebb    HF-752    HF-752     False   \n\n      in_trash          last_edited_time              created_time  \\\n0        False  2024-09-12T13:33:00.000Z  2024-09-12T13:31:00.000Z   \n1        False  2024-09-11T20:04:00.000Z  2024-09-11T19:50:00.000Z   \n2        False  2024-09-11T15:56:00.000Z  2024-09-11T15:46:00.000Z   \n3        False  2024-09-11T15:53:00.000Z  2024-09-11T15:44:00.000Z   \n4        False  2024-09-12T13:19:00.000Z  2024-09-09T18:54:00.000Z   \n...        ...                       ...                       ...   \n1192     False  2024-05-14T13:31:00.000Z  2024-03-01T18:26:00.000Z   \n1193     False  2024-04-11T18:30:00.000Z  2024-03-01T18:26:00.000Z   \n1194     False  2024-04-11T18:30:00.000Z  2024-03-01T18:26:00.000Z   \n1195     False  2024-04-11T18:30:00.000Z  2024-03-01T18:26:00.000Z   \n1196     False  2024-06-04T17:21:00.000Z  2024-03-01T18:26:00.000Z   \n\n                                                 titulo  \\\n0     #1016 - Correções no estoque de variações da g...   \n1     Refatoração: Algumas melhorias na usabilidade ...   \n2     Implementar filtro por tag na importação de pr...   \n3     Exibir data da última atualização do produto n...   \n4                          #1015 - Loading infinito APP   \n...                                                 ...   \n1192  #264 Não está aplicando valor de desconto por ...   \n1193                #352 - Erro na importação do Bling    \n1194    #606 - Problemas na importação de clientes Omie   \n1195  #523 - APP criando pedidos duplicados e subind...   \n1196  #752 - Calculo de desconto apresentando diverg...   \n\n                    created_at         created_by  ... entered_approved_at  \\\n0     2024-09-12T13:31:00.000Z         Cauê Ausec  ...                None   \n1     2024-09-11T19:50:00.000Z   Evelin Szymanski  ...                None   \n2     2024-09-11T15:46:00.000Z         Cauê Ausec  ...                None   \n3     2024-09-11T15:44:00.000Z         Cauê Ausec  ...                None   \n4     2024-09-09T18:54:00.000Z  Cristian Kestring  ...                None   \n...                        ...                ...  ...                 ...   \n1192  2024-03-01T18:26:00.000Z         Cauê Ausec  ...                None   \n1193  2024-03-01T18:26:00.000Z         Cauê Ausec  ...                None   \n1194  2024-03-01T18:26:00.000Z         Cauê Ausec  ...                None   \n1195  2024-03-01T18:26:00.000Z         Cauê Ausec  ...                None   \n1196  2024-03-01T18:26:00.000Z         Cauê Ausec  ...                None   \n\n        entered_awaiting_version_at             entered_backlog_at  \\\n0                              None                           None   \n1                              None                           None   \n2                              None                           None   \n3                              None  2024-09-11T12:52:00.000-03:00   \n4                              None                           None   \n...                             ...                            ...   \n1192                           None                           None   \n1193                           None                           None   \n1194                           None                           None   \n1195                           None                           None   \n1196  2024-03-14T15:30:00.000-03:00                           None   \n\n     entered_correction_at               entered_doing_at  \\\n0                     None                           None   \n1                     None  2024-09-11T16:50:00.000-03:00   \n2                     None                           None   \n3                     None                           None   \n4                     None                           None   \n...                    ...                            ...   \n1192                  None                           None   \n1193                  None                           None   \n1194                  None                           None   \n1195                  None                           None   \n1196                  None  2024-03-13T17:31:00.000-03:00   \n\n                    entered_done_at             entered_testing_at  \\\n0                              None                           None   \n1                              None                           None   \n2                              None                           None   \n3                              None                           None   \n4                              None                           None   \n...                             ...                            ...   \n1192                           None                           None   \n1193                           None                           None   \n1194                           None                           None   \n1195                           None                           None   \n1196  2024-03-15T16:37:00.000-03:00  2024-03-14T14:48:00.000-03:00   \n\n                   entered_to_do_at             entered_to_test_at   okr  \n0                              None                           None  None  \n1                              None                           None  None  \n2     2024-09-11T12:46:00.000-03:00                           None  None  \n3     2024-09-11T12:45:00.000-03:00                           None  None  \n4                              None                           None  None  \n...                             ...                            ...   ...  \n1192                           None                           None  None  \n1193                           None                           None  None  \n1194                           None                           None  None  \n1195                           None                           None  None  \n1196                           None  2024-03-14T14:32:00.000-03:00  None  \n\n[1197 rows x 43 columns]",
                        "text/html": "<div>\n<style scoped>\n    .dataframe tbody tr th:only-of-type {\n        vertical-align: middle;\n    }\n\n    .dataframe tbody tr th {\n        vertical-align: top;\n    }\n\n    .dataframe thead th {\n        text-align: right;\n    }\n</style>\n<table border=\"1\" class=\"dataframe\">\n  <thead>\n    <tr style=\"text-align: right;\">\n      <th></th>\n      <th>page_id</th>\n      <th>task_id</th>\n      <th>branch</th>\n      <th>archived</th>\n      <th>in_trash</th>\n      <th>last_edited_time</th>\n      <th>created_time</th>\n      <th>titulo</th>\n      <th>created_at</th>\n      <th>created_by</th>\n      <th>...</th>\n      <th>entered_approved_at</th>\n      <th>entered_awaiting_version_at</th>\n      <th>entered_backlog_at</th>\n      <th>entered_correction_at</th>\n      <th>entered_doing_at</th>\n      <th>entered_done_at</th>\n      <th>entered_testing_at</th>\n      <th>entered_to_do_at</th>\n      <th>entered_to_test_at</th>\n      <th>okr</th>\n    </tr>\n  </thead>\n  <tbody>\n    <tr>\n      <th>0</th>\n      <td>714ad377-1b3a-4c0f-b6e6-8cd575be3423</td>\n      <td>HF-1016</td>\n      <td></td>\n      <td>False</td>\n      <td>False</td>\n      <td>2024-09-12T13:33:00.000Z</td>\n      <td>2024-09-12T13:31:00.000Z</td>\n      <td>#1016 - Correções no estoque de variações da g...</td>\n      <td>2024-09-12T13:31:00.000Z</td>\n      <td>Cauê Ausec</td>\n      <td>...</td>\n      <td>None</td>\n      <td>None</td>\n      <td>None</td>\n      <td>None</td>\n      <td>None</td>\n      <td>None</td>\n      <td>None</td>\n      <td>None</td>\n      <td>None</td>\n      <td>None</td>\n    </tr>\n    <tr>\n      <th>1</th>\n      <td>5cb5ad4f-001a-4b3e-91c6-2cd8b3d34390</td>\n      <td>PRD-1393</td>\n      <td></td>\n      <td>False</td>\n      <td>False</td>\n      <td>2024-09-11T20:04:00.000Z</td>\n      <td>2024-09-11T19:50:00.000Z</td>\n      <td>Refatoração: Algumas melhorias na usabilidade ...</td>\n      <td>2024-09-11T19:50:00.000Z</td>\n      <td>Evelin Szymanski</td>\n      <td>...</td>\n      <td>None</td>\n      <td>None</td>\n      <td>None</td>\n      <td>None</td>\n      <td>2024-09-11T16:50:00.000-03:00</td>\n      <td>None</td>\n      <td>None</td>\n      <td>None</td>\n      <td>None</td>\n      <td>None</td>\n    </tr>\n    <tr>\n      <th>2</th>\n      <td>b9cb5a46-f182-46b4-a733-386d0f9618d7</td>\n      <td>PRD-1391</td>\n      <td>PRD-1391</td>\n      <td>False</td>\n      <td>False</td>\n      <td>2024-09-11T15:56:00.000Z</td>\n      <td>2024-09-11T15:46:00.000Z</td>\n      <td>Implementar filtro por tag na importação de pr...</td>\n      <td>2024-09-11T15:46:00.000Z</td>\n      <td>Cauê Ausec</td>\n      <td>...</td>\n      <td>None</td>\n      <td>None</td>\n      <td>None</td>\n      <td>None</td>\n      <td>None</td>\n      <td>None</td>\n      <td>None</td>\n      <td>2024-09-11T12:46:00.000-03:00</td>\n      <td>None</td>\n      <td>None</td>\n    </tr>\n    <tr>\n      <th>3</th>\n      <td>1ab43c66-5a91-40be-a44a-4078192cb42b</td>\n      <td>PRD-1390</td>\n      <td>PRD-1390</td>\n      <td>False</td>\n      <td>False</td>\n      <td>2024-09-11T15:53:00.000Z</td>\n      <td>2024-09-11T15:44:00.000Z</td>\n      <td>Exibir data da última atualização do produto n...</td>\n      <td>2024-09-11T15:44:00.000Z</td>\n      <td>Cauê Ausec</td>\n      <td>...</td>\n      <td>None</td>\n      <td>None</td>\n      <td>2024-09-11T12:52:00.000-03:00</td>\n      <td>None</td>\n      <td>None</td>\n      <td>None</td>\n      <td>None</td>\n      <td>2024-09-11T12:45:00.000-03:00</td>\n      <td>None</td>\n      <td>None</td>\n    </tr>\n    <tr>\n      <th>4</th>\n      <td>df559ffe-26f0-464d-9891-b9b7fea94190</td>\n      <td>HF-1015</td>\n      <td></td>\n      <td>False</td>\n      <td>False</td>\n      <td>2024-09-12T13:19:00.000Z</td>\n      <td>2024-09-09T18:54:00.000Z</td>\n      <td>#1015 - Loading infinito APP</td>\n      <td>2024-09-09T18:54:00.000Z</td>\n      <td>Cristian Kestring</td>\n      <td>...</td>\n      <td>None</td>\n      <td>None</td>\n      <td>None</td>\n      <td>None</td>\n      <td>None</td>\n      <td>None</td>\n      <td>None</td>\n      <td>None</td>\n      <td>None</td>\n      <td>None</td>\n    </tr>\n    <tr>\n      <th>...</th>\n      <td>...</td>\n      <td>...</td>\n      <td>...</td>\n      <td>...</td>\n      <td>...</td>\n      <td>...</td>\n      <td>...</td>\n      <td>...</td>\n      <td>...</td>\n      <td>...</td>\n      <td>...</td>\n      <td>...</td>\n      <td>...</td>\n      <td>...</td>\n      <td>...</td>\n      <td>...</td>\n      <td>...</td>\n      <td>...</td>\n      <td>...</td>\n      <td>...</td>\n      <td>...</td>\n    </tr>\n    <tr>\n      <th>1192</th>\n      <td>d38a422c-b44d-4027-b208-d4e7d6cacf7d</td>\n      <td>HF-264</td>\n      <td></td>\n      <td>False</td>\n      <td>False</td>\n      <td>2024-05-14T13:31:00.000Z</td>\n      <td>2024-03-01T18:26:00.000Z</td>\n      <td>#264 Não está aplicando valor de desconto por ...</td>\n      <td>2024-03-01T18:26:00.000Z</td>\n      <td>Cauê Ausec</td>\n      <td>...</td>\n      <td>None</td>\n      <td>None</td>\n      <td>None</td>\n      <td>None</td>\n      <td>None</td>\n      <td>None</td>\n      <td>None</td>\n      <td>None</td>\n      <td>None</td>\n      <td>None</td>\n    </tr>\n    <tr>\n      <th>1193</th>\n      <td>dd81b65a-c1c5-4e9e-83d5-7a812132e81e</td>\n      <td>HF-352</td>\n      <td></td>\n      <td>False</td>\n      <td>False</td>\n      <td>2024-04-11T18:30:00.000Z</td>\n      <td>2024-03-01T18:26:00.000Z</td>\n      <td>#352 - Erro na importação do Bling</td>\n      <td>2024-03-01T18:26:00.000Z</td>\n      <td>Cauê Ausec</td>\n      <td>...</td>\n      <td>None</td>\n      <td>None</td>\n      <td>None</td>\n      <td>None</td>\n      <td>None</td>\n      <td>None</td>\n      <td>None</td>\n      <td>None</td>\n      <td>None</td>\n      <td>None</td>\n    </tr>\n    <tr>\n      <th>1194</th>\n      <td>e45cd20b-8bfb-4eec-9637-8231ca90dbba</td>\n      <td>HF-606</td>\n      <td></td>\n      <td>False</td>\n      <td>False</td>\n      <td>2024-04-11T18:30:00.000Z</td>\n      <td>2024-03-01T18:26:00.000Z</td>\n      <td>#606 - Problemas na importação de clientes Omie</td>\n      <td>2024-03-01T18:26:00.000Z</td>\n      <td>Cauê Ausec</td>\n      <td>...</td>\n      <td>None</td>\n      <td>None</td>\n      <td>None</td>\n      <td>None</td>\n      <td>None</td>\n      <td>None</td>\n      <td>None</td>\n      <td>None</td>\n      <td>None</td>\n      <td>None</td>\n    </tr>\n    <tr>\n      <th>1195</th>\n      <td>31a3ea18-814b-4e00-91da-02770e84df1d</td>\n      <td>HF-523</td>\n      <td></td>\n      <td>False</td>\n      <td>False</td>\n      <td>2024-04-11T18:30:00.000Z</td>\n      <td>2024-03-01T18:26:00.000Z</td>\n      <td>#523 - APP criando pedidos duplicados e subind...</td>\n      <td>2024-03-01T18:26:00.000Z</td>\n      <td>Cauê Ausec</td>\n      <td>...</td>\n      <td>None</td>\n      <td>None</td>\n      <td>None</td>\n      <td>None</td>\n      <td>None</td>\n      <td>None</td>\n      <td>None</td>\n      <td>None</td>\n      <td>None</td>\n      <td>None</td>\n    </tr>\n    <tr>\n      <th>1196</th>\n      <td>78e465de-d6df-4e3b-b0be-dde01b711ebb</td>\n      <td>HF-752</td>\n      <td>HF-752</td>\n      <td>False</td>\n      <td>False</td>\n      <td>2024-06-04T17:21:00.000Z</td>\n      <td>2024-03-01T18:26:00.000Z</td>\n      <td>#752 - Calculo de desconto apresentando diverg...</td>\n      <td>2024-03-01T18:26:00.000Z</td>\n      <td>Cauê Ausec</td>\n      <td>...</td>\n      <td>None</td>\n      <td>2024-03-14T15:30:00.000-03:00</td>\n      <td>None</td>\n      <td>None</td>\n      <td>2024-03-13T17:31:00.000-03:00</td>\n      <td>2024-03-15T16:37:00.000-03:00</td>\n      <td>2024-03-14T14:48:00.000-03:00</td>\n      <td>None</td>\n      <td>2024-03-14T14:32:00.000-03:00</td>\n      <td>None</td>\n    </tr>\n  </tbody>\n</table>\n<p>1197 rows × 43 columns</p>\n</div>"
                    },
                    "metadata": {}
                }
            ],
            "outputs_reference": "s3:deepnote-cell-outputs-production/eeda47f9-5de2-4b71-af79-3a89593ff353",
            "content_dependencies": {
                "codeHash": "34ffab1c",
                "usedVariables": [],
                "importedModules": [],
                "definedVariables": []
            }
        },
        {
            "cell_type": "code",
            "metadata": {
                "source_hash": null,
                "execution_start": 1726155063201,
                "execution_millis": 525,
                "deepnote_to_be_reexecuted": false,
                "deepnote_app_block_visible": true,
                "deepnote_app_is_code_hidden": true,
                "cell_id": "f3ff206c0d4944a3826a3e532124062a",
                "deepnote_cell_type": "code"
            },
            "source": "try:\n    output = writer.get_output_file_path(source, stream_table_name,target_layer='staging') + '.csv'\n    os.makedirs(os.path.dirname(output), exist_ok=True)\n    staged_data.to_csv(output, index=False)\nexcept Exception as e:\n    notifier.pipeline_error(e)\n    raise e",
            "block_group": "6a62704969ce4d7eb70faf7499a5ba38",
            "execution_count": null,
            "outputs": [],
            "outputs_reference": null,
            "content_dependencies": {
                "codeHash": "32b5983a",
                "usedVariables": [
                    "os",
                    "utd_formatted",
                    "writer",
                    "output"
                ],
                "importedModules": [],
                "definedVariables": [
                    "output"
                ]
            }
        },
        {
            "cell_type": "markdown",
            "metadata": {
                "is_collapsed": false,
                "formattedRanges": [],
                "deepnote_app_block_visible": true,
                "cell_id": "ab0817794f4f4903aca424f1cd743730",
                "deepnote_cell_type": "text-cell-h2"
            },
            "source": "## Load",
            "block_group": "67aa9f8db9d1498abcdaf1cd585b6deb"
        },
        {
            "cell_type": "code",
            "metadata": {
                "source_hash": null,
                "execution_start": 1726155063728,
                "execution_millis": 51,
                "deepnote_to_be_reexecuted": false,
                "deepnote_app_block_visible": true,
                "deepnote_app_is_code_hidden": true,
                "cell_id": "f2e5e95803d84142ab6bdec5b190d337",
                "deepnote_cell_type": "code"
            },
            "source": "# Correcting the instantiation of the PostgresLoader by ensuring parameter names match expected signature\ntry:\n    loader = PostgresLoader(user=user, password=password, host=host, db_name=db_name)\nexcept Exception as e:\n    notifier.pipeline_error(e)\n    raise e",
            "block_group": "3880229cbaeb435f93d0ad01ef18f0dd",
            "execution_count": null,
            "outputs": [],
            "outputs_reference": null,
            "content_dependencies": null
        },
        {
            "cell_type": "code",
            "metadata": {
                "source_hash": null,
                "execution_start": 1726155063783,
                "execution_millis": 806,
                "deepnote_table_state": {
                    "sortBy": [],
                    "filters": [],
                    "pageSize": 5,
                    "pageIndex": 0,
                    "conditionalFilters": []
                },
                "deepnote_table_loading": false,
                "deepnote_to_be_reexecuted": false,
                "deepnote_app_block_visible": true,
                "deepnote_app_is_code_hidden": true,
                "cell_id": "b705815fd5a445b4b8c8b748d9b57e30",
                "deepnote_cell_type": "code"
            },
            "source": "try:\n    staged_data_path = writer.get_output_file_path(source, stream_table_name, target_layer='staging') + '.csv'\n    staged_data = pd.read_csv(staged_data_path)\n    loader.load_data(dataframe=staged_data, target_table=stream_table_name, mode='replace', target_schema=schema)\nexcept Exception as e:\n    notifier.pipeline_error(e)\n    raise e",
            "block_group": "5818d03627db4e8995b1cf02a9f091f6",
            "execution_count": null,
            "outputs": [],
            "outputs_reference": null,
            "content_dependencies": null
        },
        {
            "cell_type": "markdown",
            "metadata": {
                "is_collapsed": false,
                "formattedRanges": [],
                "deepnote_app_block_visible": true,
                "cell_id": "56a41fd1f692423485364b4f72a818f4",
                "deepnote_cell_type": "text-cell-h1"
            },
            "source": "# ntn_utd_users",
            "block_group": "99a5b4256d984932a6d85e4cc445e6bd"
        },
        {
            "cell_type": "code",
            "metadata": {
                "source_hash": null,
                "execution_start": 1726155064591,
                "execution_millis": 92,
                "deepnote_to_be_reexecuted": false,
                "deepnote_app_block_visible": true,
                "deepnote_app_is_code_hidden": true,
                "cell_id": "d201c9d60fd34dd7b7c059ecba33acb0",
                "deepnote_cell_type": "code"
            },
            "source": "stream_name = 'utd_users'\nstream_table_name = f'ntn__utd_users'",
            "block_group": "9dea0f02ae3d4f19be5c71ff9142e9ca",
            "execution_count": null,
            "outputs": [],
            "outputs_reference": null,
            "content_dependencies": null
        },
        {
            "cell_type": "markdown",
            "metadata": {
                "formattedRanges": [],
                "deepnote_app_block_visible": true,
                "cell_id": "bab349bbb04d4c5092348c215d225a36",
                "deepnote_cell_type": "text-cell-h3"
            },
            "source": "### processing",
            "block_group": "79df0597206a4c78b459ed66c3bcf59e"
        },
        {
            "cell_type": "code",
            "metadata": {
                "source_hash": null,
                "execution_start": 1726155064606,
                "execution_millis": 122,
                "deepnote_to_be_reexecuted": false,
                "deepnote_app_block_visible": true,
                "deepnote_app_is_code_hidden": true,
                "cell_id": "be1d8076b3f04aad85bac632acac2225",
                "deepnote_cell_type": "code"
            },
            "source": "try:\n    file_path = Utils.get_latest_file(f'/work/data/raw/{source}/{stream_name}', '.txt.gz')\n    if file_path:\n        records = Utils.read_records(file_path)\n    else:\n        print('No files found in the specified directory')\nexcept Exception as e:\n    notifier.pipeline_error(e)\n    raise e",
            "block_group": "8fcece834a57499da3f2ffd27860615f",
            "execution_count": null,
            "outputs": [
                {
                    "name": "stdout",
                    "text": "No files found in the specified directory\n",
                    "output_type": "stream"
                }
            ],
            "outputs_reference": "dbtable:cell_outputs/f5ef5ef0-3770-4e26-a160-4ab0831d0419",
            "content_dependencies": null
        },
        {
            "cell_type": "code",
            "metadata": {
                "source_hash": null,
                "execution_start": 1726155064657,
                "execution_millis": 303,
                "deepnote_to_be_reexecuted": false,
                "deepnote_app_block_visible": true,
                "deepnote_app_is_code_hidden": true,
                "cell_id": "8079dce850dd46fbb5869b7aefdacf2a",
                "deepnote_cell_type": "code"
            },
            "source": "try:\n    processed_data = transformer._extract_users_list(records)\n    processed_data_path = writer.get_output_file_path(source, stream_name,target_layer='processing') + '.csv'\n    os.makedirs(os.path.dirname(processed_data_path), exist_ok=True)\n    processed_data.to_csv(processed_data_path, index=False)\nexcept Exception as e:\n    notifier.pipeline_error(e)\n    raise e",
            "block_group": "0ee5cbc3f36842e0b82fbd82af279254",
            "execution_count": null,
            "outputs": [],
            "outputs_reference": null,
            "content_dependencies": {
                "codeHash": "c676d0de",
                "usedVariables": [
                    "records",
                    "output",
                    "os",
                    "extracted_users",
                    "writer",
                    "transformer"
                ],
                "importedModules": [],
                "definedVariables": [
                    "extracted_users",
                    "output"
                ]
            }
        },
        {
            "cell_type": "markdown",
            "metadata": {
                "formattedRanges": [],
                "deepnote_app_block_visible": true,
                "cell_id": "973b5dd8a2174bccb67a19d3a2c92011",
                "deepnote_cell_type": "text-cell-h3"
            },
            "source": "### staging",
            "block_group": "fa4efa40d93c42d19f203ea45a73ec65"
        },
        {
            "cell_type": "code",
            "metadata": {
                "source_hash": null,
                "execution_start": 1726155064965,
                "execution_millis": 70,
                "deepnote_table_state": {
                    "sortBy": [],
                    "filters": [],
                    "pageSize": 5,
                    "pageIndex": 0,
                    "conditionalFilters": []
                },
                "deepnote_table_loading": false,
                "deepnote_to_be_reexecuted": false,
                "deepnote_app_block_visible": true,
                "deepnote_app_is_code_hidden": true,
                "cell_id": "1428f99821db41b792a650d876c9304e",
                "deepnote_cell_type": "code"
            },
            "source": "try:\n    # Carregar os arquivos em processing\n    processed_data_path = writer.get_output_file_path(source, stream_name,target_layer='processing') + '.csv'\n    processed_data = pd.read_csv(processed_data_path)\n    processed_data\nexcept Exception as e:\n    notifier.pipeline_error(e)\n    raise e",
            "block_group": "81622a7404db40b68082d402859c228c",
            "execution_count": null,
            "outputs": [],
            "outputs_reference": null,
            "content_dependencies": null
        },
        {
            "cell_type": "code",
            "metadata": {
                "source_hash": null,
                "execution_start": 1726155065041,
                "execution_millis": 225,
                "deepnote_to_be_reexecuted": false,
                "deepnote_app_block_visible": true,
                "deepnote_app_is_code_hidden": true,
                "cell_id": "64ded414de6c4240a0f3f7d06ac8e80a",
                "deepnote_cell_type": "code"
            },
            "source": "try:\n    # Gravar os arquivos em staging.\n    staging_data_path = writer.get_output_file_path(source, stream_table_name, target_layer='staging') + '.csv'\n    os.makedirs(os.path.dirname(staging_data_path), exist_ok=True)\n    processed_data.to_csv(output, index=False)\nexcept Exception as e:\n    notifier.pipeline_error(e)\n    raise e",
            "block_group": "3a0bd67e6ee2490c854cd9513e1a7a75",
            "execution_count": null,
            "outputs": [],
            "outputs_reference": null,
            "content_dependencies": null
        },
        {
            "cell_type": "markdown",
            "metadata": {
                "formattedRanges": [],
                "deepnote_app_block_visible": true,
                "cell_id": "fffd4fe680384b4b9092a939a93cae64",
                "deepnote_cell_type": "text-cell-h2"
            },
            "source": "## load",
            "block_group": "8a9fcd454cc447e9b2aeada9ceaab0f5"
        },
        {
            "cell_type": "code",
            "metadata": {
                "source_hash": null,
                "execution_start": 1726155065268,
                "execution_millis": 203,
                "deepnote_to_be_reexecuted": false,
                "deepnote_app_block_visible": true,
                "deepnote_app_is_code_hidden": true,
                "cell_id": "c1977f30311a4a30ae88d010224ae28b",
                "deepnote_cell_type": "code"
            },
            "source": "try:\n    # Carregar os arquivos em processing\n    staged_data_path = writer.get_output_file_path(source, stream_table_name, target_layer='staging') + '.csv'\n    staged_data = pd.read_csv(staged_data_path)\n    staged_data\nexcept Exception as e:\n    notifier.pipeline_error(e)\n    raise e",
            "block_group": "29c15e63e74248d7a4fa1d1c0d539dee",
            "execution_count": null,
            "outputs": [],
            "outputs_reference": null,
            "content_dependencies": null
        },
        {
            "cell_type": "code",
            "metadata": {
                "source_hash": null,
                "execution_start": 1726155065474,
                "execution_millis": 294,
                "deepnote_to_be_reexecuted": false,
                "deepnote_app_block_visible": true,
                "deepnote_app_is_code_hidden": true,
                "cell_id": "ec554f55b06c4db7aa37cde1e232abdc",
                "deepnote_cell_type": "code"
            },
            "source": "try:\n    # Carregar o arquivo ntn utd users em um dataframe e então enviar para o PostgreSQL.\n    staged_data_path = writer.get_output_file_path(source, stream_table_name, target_layer='staging') + '.csv'\n    staged_data = pd.read_csv(staged_data_path)\n    loader.load_data(dataframe=staged_data, target_table=stream_table_name, mode='replace', target_schema=schema)\nexcept Exception as e:\n    notifier.pipeline_error(e)\n    raise e",
            "block_group": "0c4eb523c8cf433180e219706d3bd673",
            "execution_count": null,
            "outputs": [],
            "outputs_reference": null,
            "content_dependencies": null
        },
        {
            "cell_type": "markdown",
            "metadata": {
                "formattedRanges": [],
                "deepnote_app_block_visible": true,
                "cell_id": "d56b0e592660448883d6a277bd8b00de",
                "deepnote_cell_type": "text-cell-h1"
            },
            "source": "# Callbacks",
            "block_group": "3ea2bff81848413b911309a81788ae0f"
        },
        {
            "cell_type": "code",
            "metadata": {
                "source_hash": null,
                "execution_start": 1726155065771,
                "execution_millis": 69,
                "deepnote_to_be_reexecuted": false,
                "deepnote_app_block_visible": true,
                "deepnote_app_is_code_hidden": true,
                "cell_id": "27335b46e2e440a4baebedf8c6bde430",
                "deepnote_cell_type": "code"
            },
            "source": "notifier.pipeline_end()",
            "block_group": "187040fb53ae4333b775ada4c5c94008",
            "execution_count": null,
            "outputs": [
                {
                    "name": "stdout",
                    "text": "Accepted\n",
                    "output_type": "stream"
                }
            ],
            "outputs_reference": "dbtable:cell_outputs/96d1b69d-163e-4107-8324-17e5fd61bf1e",
            "content_dependencies": null
        },
        {
            "cell_type": "markdown",
            "source": "<a style='text-decoration:none;line-height:16px;display:flex;color:#5B5B62;padding:10px;justify-content:end;' href='https://deepnote.com?utm_source=created-in-deepnote-cell&projectId=022588a7-e3ac-4acd-8e50-3c39b9590c40' target=\"_blank\">\n<img alt='Created in deepnote.com' style='display:inline;max-height:16px;margin:0px;margin-right:7.5px;' src='data:image/svg+xml;base64,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' > </img>\nCreated in <span style='font-weight:600;margin-left:4px;'>Deepnote</span></a>",
            "metadata": {
                "created_in_deepnote_cell": true,
                "deepnote_cell_type": "markdown"
            }
        }
    ],
    "nbformat": 4,
    "nbformat_minor": 0,
    "metadata": {
        "deepnote_full_width": true,
        "deepnote_app_clear_outputs": false,
        "deepnote_app_layout": "powerful-article",
        "deepnote_app_table_of_contents_enabled": false,
        "deepnote_app_hide_all_code_blocks_enabled": true,
        "deepnote_app_width": "full-width",
        "deepnote_app_run_on_input_enabled": false,
        "deepnote_app_reactivity_enabled": true,
        "deepnote_notebook_id": "b8023b0f04d841f5ae2cbc5a4851cdbd",
        "deepnote_execution_queue": []
    }
}