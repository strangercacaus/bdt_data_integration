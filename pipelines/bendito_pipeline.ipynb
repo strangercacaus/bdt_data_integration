{
    "cells": [
        {
            "cell_type": "markdown",
            "metadata": {
                "formattedRanges": [],
                "deepnote_app_block_visible": true,
                "cell_id": "efb3c16bd1d842ca8ad446a9eb8d9fc4",
                "deepnote_cell_type": "text-cell-h1"
            },
            "source": "# Config",
            "block_group": "670bfa7796fa47f9a7ae671ac192a50d"
        },
        {
            "cell_type": "markdown",
            "metadata": {
                "formattedRanges": [],
                "deepnote_app_block_visible": true,
                "cell_id": "349b89d6aca74511bd50b78f04b32ab7",
                "deepnote_cell_type": "text-cell-callout"
            },
            "source": "> Esta seção tem configurações gerais do projeto, como importações de pacotes, carregamento de variáveis de ambiente entre outros.",
            "block_group": "9a696221eb9841f59526dc0d56c3949d"
        },
        {
            "cell_type": "code",
            "metadata": {
                "source_hash": "e15eb826",
                "execution_start": 1726160710423,
                "execution_millis": 2131,
                "execution_context_id": "67b0e824-1105-4e07-b280-570295b17d6b",
                "deepnote_to_be_reexecuted": false,
                "deepnote_app_block_visible": true,
                "deepnote_app_is_code_hidden": true,
                "cell_id": "fd4a1778bcf04ff9be707e52e5d1236e",
                "deepnote_cell_type": "code"
            },
            "source": "# Importação de módulos.\nimport requests\nimport pandas as pd\nimport warnings\nimport json\nimport yaml\nimport gzip\nimport os\nimport glob\nimport importlib\n#from sqlalchemy import create_engine, inspect, text\n#from sqlalchemy import create_engine\nfrom datetime import datetime, timedelta\nfrom work.bdt_data_integration.src.utils import Utils, WebhookNotifier\nfrom work.bdt_data_integration.src.writers import DataWriter\nfrom work.bdt_data_integration.src.extractors import BenditoAPIExtractor\nfrom work.bdt_data_integration.src.loaders import PostgresLoader\nfrom work.bdt_data_integration.src.transformers import NotionTransformer",
            "block_group": "0585159a25044875bf7c86a274522128",
            "execution_count": 1,
            "outputs": [],
            "outputs_reference": null,
            "content_dependencies": null
        },
        {
            "cell_type": "code",
            "metadata": {
                "source_hash": "e590cc99",
                "execution_start": 1726160712557,
                "execution_millis": 170,
                "deepnote_to_be_reexecuted": false,
                "deepnote_app_block_visible": true,
                "deepnote_app_is_code_hidden": true,
                "cell_id": "071582eab58f4313a7b8cc0b1317bb95",
                "deepnote_cell_type": "code"
            },
            "source": "# Carregamento do arquivo config.yaml\nconfig = Utils.load_config()\nschema = config.get(\"PRODUCTION_SCHEMA\")\n\n# Carregamento das variáveis de ambiente\ntoken = os.environ['BENDITO_BI_TOKEN']\nhost = os.environ[\"NEON_HOST\"]\nuser =os.environ[\"NEON_ROOT_USER\"]\npassword = os.environ[\"NEON_ROOT_PASSWORD\"]\ndb_name = os.environ[\"NEON_DATABASE_NAME\"]\nnotifier_url = os.environ['MAKE_NOTIFICATION_WEBHOOK']",
            "block_group": "a2786f738f4e4f6c92fa82204d624939",
            "execution_count": 2,
            "outputs": [],
            "outputs_reference": null,
            "content_dependencies": null
        },
        {
            "cell_type": "code",
            "metadata": {
                "source_hash": "5890abf6",
                "execution_start": 1726160713462,
                "execution_millis": 25,
                "deepnote_to_be_reexecuted": false,
                "deepnote_app_block_visible": true,
                "deepnote_app_is_code_hidden": true,
                "cell_id": "bbc27a11129844468865c44a5bdda839",
                "deepnote_cell_type": "code"
            },
            "source": "pipeline = 'bendito_pipeline'\nsource = 'bendito'",
            "block_group": "15de5080e4d6474898f616b3f01d664a",
            "execution_count": 3,
            "outputs": [],
            "outputs_reference": null,
            "content_dependencies": null
        },
        {
            "cell_type": "code",
            "metadata": {
                "source_hash": "347da8ae",
                "execution_start": 1726160714972,
                "execution_millis": 66,
                "deepnote_to_be_reexecuted": false,
                "deepnote_app_block_visible": true,
                "deepnote_app_is_code_hidden": true,
                "cell_id": "f709ef413fca4754a3463bd2aa82a7d1",
                "deepnote_cell_type": "code"
            },
            "source": "notifier = WebhookNotifier(url=notifier_url,pipeline=pipeline)\n# notifier.pipeline_start()",
            "block_group": "9a13b32e86ea40a2b236b6e8cfac946a",
            "execution_count": 4,
            "outputs": [],
            "outputs_reference": null,
            "content_dependencies": null
        },
        {
            "cell_type": "markdown",
            "metadata": {
                "formattedRanges": [],
                "deepnote_app_block_visible": true,
                "cell_id": "5b7f48a80503489986bd3624533e85f0",
                "deepnote_cell_type": "text-cell-h1"
            },
            "source": "# Integration_job_info",
            "block_group": "0d036e61f7ab4799ac4760f25e9aa2ab"
        },
        {
            "cell_type": "code",
            "metadata": {
                "source_hash": "e9754574",
                "execution_start": 1726160716544,
                "execution_millis": 77,
                "deepnote_to_be_reexecuted": false,
                "deepnote_app_block_visible": true,
                "deepnote_app_is_code_hidden": true,
                "cell_id": "c70f21d46a7748668a3e1746a669295e",
                "deepnote_cell_type": "code"
            },
            "source": "stream_name = 'integration_job_info'\nstream_table_name = f'bdt__integration_job_info'",
            "block_group": "db24762964224aeeb5a31e7713966ec4",
            "execution_count": 5,
            "outputs": [],
            "outputs_reference": null,
            "content_dependencies": null
        },
        {
            "cell_type": "markdown",
            "metadata": {
                "formattedRanges": [],
                "deepnote_app_block_visible": true,
                "cell_id": "d62d41f6c5ca4873bd6583420713c01e",
                "deepnote_cell_type": "text-cell-h2"
            },
            "source": "## Extract",
            "block_group": "0738b84b58584f69b90180a2582296a3"
        },
        {
            "cell_type": "code",
            "metadata": {
                "source_hash": "2e3f0001",
                "execution_start": 1726160717836,
                "execution_millis": 85,
                "deepnote_to_be_reexecuted": false,
                "deepnote_app_block_visible": true,
                "deepnote_app_is_code_hidden": true,
                "cell_id": "ca9c4509ca0d4c9690ed342777414fb1",
                "deepnote_cell_type": "code"
            },
            "source": "try:\n    writer = DataWriter(\n        source=source,\n        stream=stream_name, \n        config=config\n        )\nexcept Exception as e:\n    notifier.pipeline_error(e)\n    raise e",
            "block_group": "6fc4174b7f744e9188ce928f0d8faf3a",
            "execution_count": 6,
            "outputs": [],
            "outputs_reference": null,
            "content_dependencies": null
        },
        {
            "cell_type": "code",
            "metadata": {
                "source_hash": "38a9978f",
                "execution_start": 1726160719829,
                "execution_millis": 82,
                "deepnote_to_be_reexecuted": false,
                "deepnote_app_block_visible": true,
                "deepnote_app_is_code_hidden": true,
                "cell_id": "3f14e7dc736e4b0eaf4e1bb9da0b013e",
                "deepnote_cell_type": "code"
            },
            "source": "# Instanciar Stream para a extração dos dados\ntry:\n    extractor = BenditoAPIExtractor(\n        identifier = source,\n        token = token,\n        writer = writer)\nexcept Exception as e:\n    notifier.pipeline_error(e)\n    raise e",
            "block_group": "6372f4ae3f484f62bb8521f0217460a7",
            "execution_count": 7,
            "outputs": [],
            "outputs_reference": null,
            "content_dependencies": null
        },
        {
            "cell_type": "code",
            "metadata": {
                "source_hash": "1f39a6b4",
                "execution_start": 1726160727729,
                "execution_millis": 5874,
                "deepnote_to_be_reexecuted": false,
                "deepnote_app_block_visible": true,
                "deepnote_app_is_code_hidden": true,
                "cell_id": "8b3893446d6f4cf5b744f0eef08611b4",
                "deepnote_cell_type": "code"
            },
            "source": "#Executar a extração dos dados\ntry:\n    query = \"select * from integration_job_info\"\n    page_size = 200\n    separator = \";\"\n    records = extractor.run(query=query, page_size=page_size, separator=separator)\nexcept Exception as e:\n    notifier.pipeline_error(e)\n    raise e",
            "block_group": "e49cd5e706f64c95883607dd75c73174",
            "execution_count": 9,
            "outputs": [],
            "outputs_reference": null,
            "content_dependencies": null
        },
        {
            "cell_type": "code",
            "metadata": {
                "source_hash": "251e3a45",
                "execution_start": 1726160737252,
                "execution_millis": 711,
                "deepnote_to_be_reexecuted": false,
                "deepnote_app_block_visible": true,
                "deepnote_app_is_code_hidden": true,
                "cell_id": "88a9bea366d942498915ba1a579e29d6",
                "deepnote_cell_type": "code"
            },
            "source": "output = writer.get_output_file_path(source, stream_name,target_layer='raw') + '.csv'\nos.makedirs(os.path.dirname(output), exist_ok=True)\nrecords.to_csv(output, index=False)",
            "block_group": "47b0b7ca71ff4482a7f83e8c77c8f968",
            "execution_count": 10,
            "outputs": [],
            "outputs_reference": null,
            "content_dependencies": null
        },
        {
            "cell_type": "markdown",
            "metadata": {
                "is_collapsed": false,
                "formattedRanges": [],
                "deepnote_app_block_visible": true,
                "cell_id": "f65154bcd83b4ae8abe3c2fd5aacbbe1",
                "deepnote_cell_type": "text-cell-h2"
            },
            "source": "## Transform",
            "block_group": "0301fdd4ee8f4117b56d9cfa48593b16"
        },
        {
            "cell_type": "markdown",
            "metadata": {
                "formattedRanges": [],
                "deepnote_app_block_visible": true,
                "cell_id": "5be169a375e04f98be73890bbead73db",
                "deepnote_cell_type": "text-cell-h3"
            },
            "source": "### processing",
            "block_group": "9e509a75aac94dc3854e660d65305069"
        },
        {
            "cell_type": "code",
            "metadata": {
                "source_hash": "24921f2f",
                "execution_start": 1726160737965,
                "execution_millis": 962,
                "deepnote_to_be_reexecuted": false,
                "deepnote_app_block_visible": true,
                "deepnote_app_is_code_hidden": true,
                "cell_id": "2488190ccd8d4cccb35812d94f8a1a5c",
                "deepnote_cell_type": "code"
            },
            "source": "try:\n    output = writer.get_output_file_path(source, stream_name, target_layer='processing') + '.csv'\n    os.makedirs(os.path.dirname(output), exist_ok=True)\n    records.to_csv(output, index=False)\nexcept Exception as e:\n    notifier.pipeline_error(e)\n    raise e",
            "block_group": "eb3bee61c8674eec89d8630c7cd0ea12",
            "execution_count": 11,
            "outputs": [],
            "outputs_reference": null,
            "content_dependencies": null
        },
        {
            "cell_type": "markdown",
            "metadata": {
                "formattedRanges": [],
                "deepnote_app_block_visible": true,
                "cell_id": "c9af232095ae48bba7aa98fae31c844f",
                "deepnote_cell_type": "text-cell-h3"
            },
            "source": "### staging",
            "block_group": "2e8025764b21487ea881ccc4f2b7d996"
        },
        {
            "cell_type": "code",
            "metadata": {
                "source_hash": "86f11426",
                "execution_start": 1726160738928,
                "execution_millis": 97,
                "deepnote_table_state": {
                    "sortBy": [],
                    "filters": [],
                    "pageSize": 5,
                    "pageIndex": 0,
                    "conditionalFilters": []
                },
                "deepnote_table_loading": false,
                "deepnote_to_be_reexecuted": false,
                "deepnote_app_block_visible": true,
                "deepnote_app_is_code_hidden": true,
                "cell_id": "cfaa4a03543e4073ab91e8e6e726d3d0",
                "deepnote_cell_type": "code"
            },
            "source": "try:\n    # Carregar os arquivos em processing\n    processed_data_path = writer.get_output_file_path(source, stream_name, target_layer='processing') + '.csv'\n    processed_data = pd.read_csv(processed_data_path)\n    processed_data\nexcept Exception as e:\n    notifier.pipeline_error(e)\n    raise e",
            "block_group": "3a6bf1e0d3a14e3fb4a3c449ec492e52",
            "execution_count": 12,
            "outputs": [],
            "outputs_reference": null,
            "content_dependencies": null
        },
        {
            "cell_type": "code",
            "metadata": {
                "source_hash": "856371d0",
                "execution_start": 1726160739027,
                "execution_millis": 265,
                "sql_integration_id": "deepnote-dataframe-sql",
                "deepnote_variable_name": "staged_data",
                "deepnote_to_be_reexecuted": false,
                "deepnote_app_block_visible": true,
                "deepnote_app_is_code_hidden": true,
                "cell_id": "8db2135342a547aa8f436064a7b4961a",
                "deepnote_cell_type": "sql",
                "deepnote_sql_source": "select id_job,\n       id_customer,\n       integration_type,\n       customer_name,\n       status_id as id_status,\n       status_name as status,\n       job_type,\n       created_at,\n       updated_at,\n       records_to_process,\n       records_processed,\n       duration,\n       duration_pretty,\n       avg_process_time\nfrom processed_data"
            },
            "source": "staged_data = (lambda: _deepnote_execute_sql('select id_job,\\n       id_customer,\\n       integration_type,\\n       customer_name,\\n       status_id as id_status,\\n       status_name as status,\\n       job_type,\\n       created_at,\\n       updated_at,\\n       records_to_process,\\n       records_processed,\\n       duration,\\n       duration_pretty,\\n       avg_process_time\\nfrom processed_data', 'SQL_DEEPNOTE_DATAFRAME_SQL', audit_sql_comment='', sql_cache_mode='cache_disabled') if '_deepnote_execute_sql' in globals() else _dntk.execute_sql('select id_job,\\n       id_customer,\\n       integration_type,\\n       customer_name,\\n       status_id as id_status,\\n       status_name as status,\\n       job_type,\\n       created_at,\\n       updated_at,\\n       records_to_process,\\n       records_processed,\\n       duration,\\n       duration_pretty,\\n       avg_process_time\\nfrom processed_data', 'SQL_DEEPNOTE_DATAFRAME_SQL', audit_sql_comment='', sql_cache_mode='cache_disabled'))()\nstaged_data",
            "block_group": "4cdc21a0862d4e4ea887a7cdc331c0fd",
            "execution_count": 13,
            "outputs": [
                {
                    "output_type": "execute_result",
                    "execution_count": 13,
                    "data": {
                        "application/vnd.deepnote.dataframe.v3+json": {
                            "column_count": 14,
                            "row_count": 8991,
                            "columns": [
                                {
                                    "name": "id_job",
                                    "dtype": "int64",
                                    "stats": {
                                        "unique_count": 8991,
                                        "nan_count": 0,
                                        "min": "7",
                                        "max": "34603",
                                        "histogram": [
                                            {
                                                "bin_start": 7,
                                                "bin_end": 3466.6,
                                                "count": 1420
                                            },
                                            {
                                                "bin_start": 3466.6,
                                                "bin_end": 6926.2,
                                                "count": 569
                                            },
                                            {
                                                "bin_start": 6926.2,
                                                "bin_end": 10385.8,
                                                "count": 740
                                            },
                                            {
                                                "bin_start": 10385.8,
                                                "bin_end": 13845.4,
                                                "count": 757
                                            },
                                            {
                                                "bin_start": 13845.4,
                                                "bin_end": 17305,
                                                "count": 842
                                            },
                                            {
                                                "bin_start": 17305,
                                                "bin_end": 20764.6,
                                                "count": 493
                                            },
                                            {
                                                "bin_start": 20764.6,
                                                "bin_end": 24224.2,
                                                "count": 393
                                            },
                                            {
                                                "bin_start": 24224.2,
                                                "bin_end": 27683.8,
                                                "count": 291
                                            },
                                            {
                                                "bin_start": 27683.8,
                                                "bin_end": 31143.399999999998,
                                                "count": 570
                                            },
                                            {
                                                "bin_start": 31143.399999999998,
                                                "bin_end": 34603,
                                                "count": 2916
                                            }
                                        ]
                                    }
                                },
                                {
                                    "name": "id_customer",
                                    "dtype": "int64",
                                    "stats": {
                                        "unique_count": 318,
                                        "nan_count": 0,
                                        "min": "3",
                                        "max": "743",
                                        "histogram": [
                                            {
                                                "bin_start": 3,
                                                "bin_end": 77,
                                                "count": 1232
                                            },
                                            {
                                                "bin_start": 77,
                                                "bin_end": 151,
                                                "count": 1738
                                            },
                                            {
                                                "bin_start": 151,
                                                "bin_end": 225,
                                                "count": 760
                                            },
                                            {
                                                "bin_start": 225,
                                                "bin_end": 299,
                                                "count": 972
                                            },
                                            {
                                                "bin_start": 299,
                                                "bin_end": 373,
                                                "count": 311
                                            },
                                            {
                                                "bin_start": 373,
                                                "bin_end": 447,
                                                "count": 666
                                            },
                                            {
                                                "bin_start": 447,
                                                "bin_end": 521,
                                                "count": 533
                                            },
                                            {
                                                "bin_start": 521,
                                                "bin_end": 595,
                                                "count": 1281
                                            },
                                            {
                                                "bin_start": 595,
                                                "bin_end": 669,
                                                "count": 987
                                            },
                                            {
                                                "bin_start": 669,
                                                "bin_end": 743,
                                                "count": 511
                                            }
                                        ]
                                    }
                                },
                                {
                                    "name": "integration_type",
                                    "dtype": "object",
                                    "stats": {
                                        "unique_count": 7,
                                        "nan_count": 235,
                                        "categories": [
                                            {
                                                "name": "Omie",
                                                "count": 7004
                                            },
                                            {
                                                "name": "6 others",
                                                "count": 1752
                                            },
                                            {
                                                "name": "Missing",
                                                "count": 235
                                            }
                                        ]
                                    }
                                },
                                {
                                    "name": "customer_name",
                                    "dtype": "object",
                                    "stats": {
                                        "unique_count": 282,
                                        "nan_count": 184,
                                        "categories": [
                                            {
                                                "name": "DISMAR REFRIGERACAO",
                                                "count": 673
                                            },
                                            {
                                                "name": "281 others",
                                                "count": 8134
                                            },
                                            {
                                                "name": "Missing",
                                                "count": 184
                                            }
                                        ]
                                    }
                                },
                                {
                                    "name": "id_status",
                                    "dtype": "int64",
                                    "stats": {
                                        "unique_count": 5,
                                        "nan_count": 0,
                                        "min": "1",
                                        "max": "5",
                                        "histogram": [
                                            {
                                                "bin_start": 1,
                                                "bin_end": 1.4,
                                                "count": 16
                                            },
                                            {
                                                "bin_start": 1.4,
                                                "bin_end": 1.8,
                                                "count": 0
                                            },
                                            {
                                                "bin_start": 1.8,
                                                "bin_end": 2.2,
                                                "count": 1
                                            },
                                            {
                                                "bin_start": 2.2,
                                                "bin_end": 2.6,
                                                "count": 0
                                            },
                                            {
                                                "bin_start": 2.6,
                                                "bin_end": 3,
                                                "count": 0
                                            },
                                            {
                                                "bin_start": 3,
                                                "bin_end": 3.4000000000000004,
                                                "count": 8372
                                            },
                                            {
                                                "bin_start": 3.4000000000000004,
                                                "bin_end": 3.8000000000000003,
                                                "count": 0
                                            },
                                            {
                                                "bin_start": 3.8000000000000003,
                                                "bin_end": 4.2,
                                                "count": 438
                                            },
                                            {
                                                "bin_start": 4.2,
                                                "bin_end": 4.6,
                                                "count": 0
                                            },
                                            {
                                                "bin_start": 4.6,
                                                "bin_end": 5,
                                                "count": 164
                                            }
                                        ]
                                    }
                                },
                                {
                                    "name": "status",
                                    "dtype": "object",
                                    "stats": {
                                        "unique_count": 5,
                                        "nan_count": 0,
                                        "categories": [
                                            {
                                                "name": "Finalizado",
                                                "count": 8372
                                            },
                                            {
                                                "name": "Erro",
                                                "count": 438
                                            },
                                            {
                                                "name": "3 others",
                                                "count": 181
                                            }
                                        ]
                                    }
                                },
                                {
                                    "name": "job_type",
                                    "dtype": "object",
                                    "stats": {
                                        "unique_count": 4,
                                        "nan_count": 0,
                                        "categories": [
                                            {
                                                "name": "ImportClient",
                                                "count": 3626
                                            },
                                            {
                                                "name": "ImportProduct",
                                                "count": 2836
                                            },
                                            {
                                                "name": "2 others",
                                                "count": 2529
                                            }
                                        ]
                                    }
                                },
                                {
                                    "name": "created_at",
                                    "dtype": "object",
                                    "stats": {
                                        "unique_count": 8967,
                                        "nan_count": 0,
                                        "categories": [
                                            {
                                                "name": "2024-08-01 18:38:33",
                                                "count": 2
                                            },
                                            {
                                                "name": "2024-07-30 13:57:22",
                                                "count": 2
                                            },
                                            {
                                                "name": "8965 others",
                                                "count": 8987
                                            }
                                        ]
                                    }
                                },
                                {
                                    "name": "updated_at",
                                    "dtype": "object",
                                    "stats": {
                                        "unique_count": 8871,
                                        "nan_count": 103,
                                        "categories": [
                                            {
                                                "name": "2024-07-01 20:22:05",
                                                "count": 3
                                            },
                                            {
                                                "name": "8870 others",
                                                "count": 8885
                                            },
                                            {
                                                "name": "Missing",
                                                "count": 103
                                            }
                                        ]
                                    }
                                },
                                {
                                    "name": "records_to_process",
                                    "dtype": "int64",
                                    "stats": {
                                        "unique_count": 1397,
                                        "nan_count": 0,
                                        "min": "0",
                                        "max": "58513",
                                        "histogram": [
                                            {
                                                "bin_start": 0,
                                                "bin_end": 5851.3,
                                                "count": 8793
                                            },
                                            {
                                                "bin_start": 5851.3,
                                                "bin_end": 11702.6,
                                                "count": 77
                                            },
                                            {
                                                "bin_start": 11702.6,
                                                "bin_end": 17553.9,
                                                "count": 115
                                            },
                                            {
                                                "bin_start": 17553.9,
                                                "bin_end": 23405.2,
                                                "count": 4
                                            },
                                            {
                                                "bin_start": 23405.2,
                                                "bin_end": 29256.5,
                                                "count": 0
                                            },
                                            {
                                                "bin_start": 29256.5,
                                                "bin_end": 35107.8,
                                                "count": 1
                                            },
                                            {
                                                "bin_start": 35107.8,
                                                "bin_end": 40959.1,
                                                "count": 0
                                            },
                                            {
                                                "bin_start": 40959.1,
                                                "bin_end": 46810.4,
                                                "count": 0
                                            },
                                            {
                                                "bin_start": 46810.4,
                                                "bin_end": 52661.700000000004,
                                                "count": 0
                                            },
                                            {
                                                "bin_start": 52661.700000000004,
                                                "bin_end": 58513,
                                                "count": 1
                                            }
                                        ]
                                    }
                                },
                                {
                                    "name": "records_processed",
                                    "dtype": "int64",
                                    "stats": {
                                        "unique_count": 1383,
                                        "nan_count": 0,
                                        "min": "0",
                                        "max": "31734",
                                        "histogram": [
                                            {
                                                "bin_start": 0,
                                                "bin_end": 3173.4,
                                                "count": 8728
                                            },
                                            {
                                                "bin_start": 3173.4,
                                                "bin_end": 6346.8,
                                                "count": 99
                                            },
                                            {
                                                "bin_start": 6346.8,
                                                "bin_end": 9520.2,
                                                "count": 39
                                            },
                                            {
                                                "bin_start": 9520.2,
                                                "bin_end": 12693.6,
                                                "count": 9
                                            },
                                            {
                                                "bin_start": 12693.6,
                                                "bin_end": 15867,
                                                "count": 88
                                            },
                                            {
                                                "bin_start": 15867,
                                                "bin_end": 19040.4,
                                                "count": 26
                                            },
                                            {
                                                "bin_start": 19040.4,
                                                "bin_end": 22213.8,
                                                "count": 1
                                            },
                                            {
                                                "bin_start": 22213.8,
                                                "bin_end": 25387.2,
                                                "count": 0
                                            },
                                            {
                                                "bin_start": 25387.2,
                                                "bin_end": 28560.600000000002,
                                                "count": 0
                                            },
                                            {
                                                "bin_start": 28560.600000000002,
                                                "bin_end": 31734,
                                                "count": 1
                                            }
                                        ]
                                    }
                                },
                                {
                                    "name": "duration",
                                    "dtype": "int64"
                                },
                                {
                                    "name": "duration_pretty",
                                    "dtype": "object"
                                },
                                {
                                    "name": "avg_process_time",
                                    "dtype": "float64"
                                },
                                {
                                    "name": "_deepnote_index_column",
                                    "dtype": "int64"
                                }
                            ],
                            "rows": [
                                {
                                    "id_job": 34603,
                                    "id_customer": 13,
                                    "integration_type": "Tiny",
                                    "customer_name": "Teste Tiny",
                                    "id_status": 3,
                                    "status": "Finalizado",
                                    "job_type": "ImportClient",
                                    "created_at": "2024-09-12 14:51:22",
                                    "updated_at": "2024-09-12 14:53:12",
                                    "records_to_process": 38,
                                    "records_processed": 38,
                                    "duration": 109,
                                    "duration_pretty": "00 days 00 hours 01 minutes 49 seconds",
                                    "avg_process_time": 2.87,
                                    "_deepnote_index_column": 0
                                },
                                {
                                    "id_job": 34602,
                                    "id_customer": 13,
                                    "integration_type": "Tiny",
                                    "customer_name": "Teste Tiny",
                                    "id_status": 3,
                                    "status": "Finalizado",
                                    "job_type": "ImportClient",
                                    "created_at": "2024-09-12 14:49:31",
                                    "updated_at": "2024-09-12 14:51:13",
                                    "records_to_process": 38,
                                    "records_processed": 38,
                                    "duration": 101,
                                    "duration_pretty": "00 days 00 hours 01 minutes 41 seconds",
                                    "avg_process_time": 2.66,
                                    "_deepnote_index_column": 1
                                },
                                {
                                    "id_job": 34601,
                                    "id_customer": 13,
                                    "integration_type": "Tiny",
                                    "customer_name": "Teste Tiny",
                                    "id_status": 3,
                                    "status": "Finalizado",
                                    "job_type": "ImportClient",
                                    "created_at": "2024-09-12 14:35:31",
                                    "updated_at": "2024-09-12 14:37:22",
                                    "records_to_process": 38,
                                    "records_processed": 38,
                                    "duration": 111,
                                    "duration_pretty": "00 days 00 hours 01 minutes 51 seconds",
                                    "avg_process_time": 2.92,
                                    "_deepnote_index_column": 2
                                },
                                {
                                    "id_job": 34599,
                                    "id_customer": 13,
                                    "integration_type": "Tiny",
                                    "customer_name": "Teste Tiny",
                                    "id_status": 3,
                                    "status": "Finalizado",
                                    "job_type": "ImportClient",
                                    "created_at": "2024-09-12 13:47:30",
                                    "updated_at": "2024-09-12 13:51:05",
                                    "records_to_process": 62,
                                    "records_processed": 62,
                                    "duration": 214,
                                    "duration_pretty": "00 days 00 hours 03 minutes 34 seconds",
                                    "avg_process_time": 3.45,
                                    "_deepnote_index_column": 3
                                },
                                {
                                    "id_job": 34596,
                                    "id_customer": 481,
                                    "integration_type": "Deltacon",
                                    "customer_name": "MIX COMERCIO DE SUPRIMENTOS E UTENSILIOS LTDA",
                                    "id_status": 3,
                                    "status": "Finalizado",
                                    "job_type": "ImportProduct",
                                    "created_at": "2024-09-10 13:14:24",
                                    "updated_at": "2024-09-10 13:34:37",
                                    "records_to_process": 206,
                                    "records_processed": 206,
                                    "duration": 1213,
                                    "duration_pretty": "00 days 00 hours 20 minutes 13 seconds",
                                    "avg_process_time": 5.89,
                                    "_deepnote_index_column": 4
                                }
                            ]
                        },
                        "text/plain": "      id_job  id_customer integration_type  \\\n0      34603           13             Tiny   \n1      34602           13             Tiny   \n2      34601           13             Tiny   \n3      34599           13             Tiny   \n4      34596          481         Deltacon   \n...      ...          ...              ...   \n8986      65           21             Omie   \n8987      20           25             Omie   \n8988      18           21             Omie   \n8989      11           21             Omie   \n8990       7           21             Omie   \n\n                                      customer_name  id_status      status  \\\n0                                        Teste Tiny          3  Finalizado   \n1                                        Teste Tiny          3  Finalizado   \n2                                        Teste Tiny          3  Finalizado   \n3                                        Teste Tiny          3  Finalizado   \n4     MIX COMERCIO DE SUPRIMENTOS E UTENSILIOS LTDA          3  Finalizado   \n...                                             ...        ...         ...   \n8986                                      CONFEITAR          3  Finalizado   \n8987                                      IKASALIMP          3  Finalizado   \n8988                                      CONFEITAR          3  Finalizado   \n8989                                      CONFEITAR          3  Finalizado   \n8990                                      CONFEITAR          3  Finalizado   \n\n           job_type           created_at           updated_at  \\\n0      ImportClient  2024-09-12 14:51:22  2024-09-12 14:53:12   \n1      ImportClient  2024-09-12 14:49:31  2024-09-12 14:51:13   \n2      ImportClient  2024-09-12 14:35:31  2024-09-12 14:37:22   \n3      ImportClient  2024-09-12 13:47:30  2024-09-12 13:51:05   \n4     ImportProduct  2024-09-10 13:14:24  2024-09-10 13:34:37   \n...             ...                  ...                  ...   \n8986   ImportClient  2020-06-03 03:04:15  2020-06-03 03:20:17   \n8987  ImportProduct  2020-05-29 18:32:34  2020-05-29 19:36:57   \n8988  ImportProduct  2020-05-28 21:15:10  2020-05-28 21:15:22   \n8989  ImportProduct  2020-05-28 16:37:27  2020-05-28 18:04:05   \n8990  ImportProduct  2020-05-28 01:20:13  2020-05-28 02:45:12   \n\n      records_to_process  records_processed  duration  \\\n0                     38                 38       109   \n1                     38                 38       101   \n2                     38                 38       111   \n3                     62                 62       214   \n4                    206                206      1213   \n...                  ...                ...       ...   \n8986                2149               2149       961   \n8987                4917               4919      3862   \n8988                   2                  2        12   \n8989                5392               5392      5197   \n8990                5392               5392      5099   \n\n                             duration_pretty  avg_process_time  \n0     00 days 00 hours 01 minutes 49 seconds              2.87  \n1     00 days 00 hours 01 minutes 41 seconds              2.66  \n2     00 days 00 hours 01 minutes 51 seconds              2.92  \n3     00 days 00 hours 03 minutes 34 seconds              3.45  \n4     00 days 00 hours 20 minutes 13 seconds              5.89  \n...                                      ...               ...  \n8986  00 days 00 hours 16 minutes 01 seconds              0.45  \n8987  00 days 01 hours 04 minutes 22 seconds              0.79  \n8988  00 days 00 hours 00 minutes 12 seconds              6.00  \n8989  00 days 01 hours 26 minutes 37 seconds              0.96  \n8990  00 days 01 hours 24 minutes 59 seconds              0.95  \n\n[8991 rows x 14 columns]",
                        "text/html": "<div>\n<style scoped>\n    .dataframe tbody tr th:only-of-type {\n        vertical-align: middle;\n    }\n\n    .dataframe tbody tr th {\n        vertical-align: top;\n    }\n\n    .dataframe thead th {\n        text-align: right;\n    }\n</style>\n<table border=\"1\" class=\"dataframe\">\n  <thead>\n    <tr style=\"text-align: right;\">\n      <th></th>\n      <th>id_job</th>\n      <th>id_customer</th>\n      <th>integration_type</th>\n      <th>customer_name</th>\n      <th>id_status</th>\n      <th>status</th>\n      <th>job_type</th>\n      <th>created_at</th>\n      <th>updated_at</th>\n      <th>records_to_process</th>\n      <th>records_processed</th>\n      <th>duration</th>\n      <th>duration_pretty</th>\n      <th>avg_process_time</th>\n    </tr>\n  </thead>\n  <tbody>\n    <tr>\n      <th>0</th>\n      <td>34603</td>\n      <td>13</td>\n      <td>Tiny</td>\n      <td>Teste Tiny</td>\n      <td>3</td>\n      <td>Finalizado</td>\n      <td>ImportClient</td>\n      <td>2024-09-12 14:51:22</td>\n      <td>2024-09-12 14:53:12</td>\n      <td>38</td>\n      <td>38</td>\n      <td>109</td>\n      <td>00 days 00 hours 01 minutes 49 seconds</td>\n      <td>2.87</td>\n    </tr>\n    <tr>\n      <th>1</th>\n      <td>34602</td>\n      <td>13</td>\n      <td>Tiny</td>\n      <td>Teste Tiny</td>\n      <td>3</td>\n      <td>Finalizado</td>\n      <td>ImportClient</td>\n      <td>2024-09-12 14:49:31</td>\n      <td>2024-09-12 14:51:13</td>\n      <td>38</td>\n      <td>38</td>\n      <td>101</td>\n      <td>00 days 00 hours 01 minutes 41 seconds</td>\n      <td>2.66</td>\n    </tr>\n    <tr>\n      <th>2</th>\n      <td>34601</td>\n      <td>13</td>\n      <td>Tiny</td>\n      <td>Teste Tiny</td>\n      <td>3</td>\n      <td>Finalizado</td>\n      <td>ImportClient</td>\n      <td>2024-09-12 14:35:31</td>\n      <td>2024-09-12 14:37:22</td>\n      <td>38</td>\n      <td>38</td>\n      <td>111</td>\n      <td>00 days 00 hours 01 minutes 51 seconds</td>\n      <td>2.92</td>\n    </tr>\n    <tr>\n      <th>3</th>\n      <td>34599</td>\n      <td>13</td>\n      <td>Tiny</td>\n      <td>Teste Tiny</td>\n      <td>3</td>\n      <td>Finalizado</td>\n      <td>ImportClient</td>\n      <td>2024-09-12 13:47:30</td>\n      <td>2024-09-12 13:51:05</td>\n      <td>62</td>\n      <td>62</td>\n      <td>214</td>\n      <td>00 days 00 hours 03 minutes 34 seconds</td>\n      <td>3.45</td>\n    </tr>\n    <tr>\n      <th>4</th>\n      <td>34596</td>\n      <td>481</td>\n      <td>Deltacon</td>\n      <td>MIX COMERCIO DE SUPRIMENTOS E UTENSILIOS LTDA</td>\n      <td>3</td>\n      <td>Finalizado</td>\n      <td>ImportProduct</td>\n      <td>2024-09-10 13:14:24</td>\n      <td>2024-09-10 13:34:37</td>\n      <td>206</td>\n      <td>206</td>\n      <td>1213</td>\n      <td>00 days 00 hours 20 minutes 13 seconds</td>\n      <td>5.89</td>\n    </tr>\n    <tr>\n      <th>...</th>\n      <td>...</td>\n      <td>...</td>\n      <td>...</td>\n      <td>...</td>\n      <td>...</td>\n      <td>...</td>\n      <td>...</td>\n      <td>...</td>\n      <td>...</td>\n      <td>...</td>\n      <td>...</td>\n      <td>...</td>\n      <td>...</td>\n      <td>...</td>\n    </tr>\n    <tr>\n      <th>8986</th>\n      <td>65</td>\n      <td>21</td>\n      <td>Omie</td>\n      <td>CONFEITAR</td>\n      <td>3</td>\n      <td>Finalizado</td>\n      <td>ImportClient</td>\n      <td>2020-06-03 03:04:15</td>\n      <td>2020-06-03 03:20:17</td>\n      <td>2149</td>\n      <td>2149</td>\n      <td>961</td>\n      <td>00 days 00 hours 16 minutes 01 seconds</td>\n      <td>0.45</td>\n    </tr>\n    <tr>\n      <th>8987</th>\n      <td>20</td>\n      <td>25</td>\n      <td>Omie</td>\n      <td>IKASALIMP</td>\n      <td>3</td>\n      <td>Finalizado</td>\n      <td>ImportProduct</td>\n      <td>2020-05-29 18:32:34</td>\n      <td>2020-05-29 19:36:57</td>\n      <td>4917</td>\n      <td>4919</td>\n      <td>3862</td>\n      <td>00 days 01 hours 04 minutes 22 seconds</td>\n      <td>0.79</td>\n    </tr>\n    <tr>\n      <th>8988</th>\n      <td>18</td>\n      <td>21</td>\n      <td>Omie</td>\n      <td>CONFEITAR</td>\n      <td>3</td>\n      <td>Finalizado</td>\n      <td>ImportProduct</td>\n      <td>2020-05-28 21:15:10</td>\n      <td>2020-05-28 21:15:22</td>\n      <td>2</td>\n      <td>2</td>\n      <td>12</td>\n      <td>00 days 00 hours 00 minutes 12 seconds</td>\n      <td>6.00</td>\n    </tr>\n    <tr>\n      <th>8989</th>\n      <td>11</td>\n      <td>21</td>\n      <td>Omie</td>\n      <td>CONFEITAR</td>\n      <td>3</td>\n      <td>Finalizado</td>\n      <td>ImportProduct</td>\n      <td>2020-05-28 16:37:27</td>\n      <td>2020-05-28 18:04:05</td>\n      <td>5392</td>\n      <td>5392</td>\n      <td>5197</td>\n      <td>00 days 01 hours 26 minutes 37 seconds</td>\n      <td>0.96</td>\n    </tr>\n    <tr>\n      <th>8990</th>\n      <td>7</td>\n      <td>21</td>\n      <td>Omie</td>\n      <td>CONFEITAR</td>\n      <td>3</td>\n      <td>Finalizado</td>\n      <td>ImportProduct</td>\n      <td>2020-05-28 01:20:13</td>\n      <td>2020-05-28 02:45:12</td>\n      <td>5392</td>\n      <td>5392</td>\n      <td>5099</td>\n      <td>00 days 01 hours 24 minutes 59 seconds</td>\n      <td>0.95</td>\n    </tr>\n  </tbody>\n</table>\n<p>8991 rows × 14 columns</p>\n</div>"
                    },
                    "metadata": {}
                }
            ],
            "outputs_reference": "s3:deepnote-cell-outputs-production/48c60b77-6ba3-4ecc-963b-ca978dfc504f",
            "content_dependencies": null
        },
        {
            "cell_type": "code",
            "metadata": {
                "source_hash": "3d68971d",
                "execution_start": 1726160739293,
                "execution_millis": 893,
                "deepnote_to_be_reexecuted": false,
                "deepnote_app_block_visible": true,
                "deepnote_app_is_code_hidden": true,
                "cell_id": "7f2d9c287f0d49749c02e9779a056648",
                "deepnote_cell_type": "code"
            },
            "source": "try:\n    output = writer.get_output_file_path(source, stream_table_name ,target_layer='staging') + '.csv'\n    os.makedirs(os.path.dirname(output), exist_ok=True)\n    staged_data.to_csv(output, index=False)\nexcept Exception as e:\n    notifier.pipeline_error(e)\n    raise e",
            "block_group": "6a62704969ce4d7eb70faf7499a5ba38",
            "execution_count": 14,
            "outputs": [],
            "outputs_reference": null,
            "content_dependencies": null
        },
        {
            "cell_type": "markdown",
            "metadata": {
                "is_collapsed": false,
                "formattedRanges": [],
                "deepnote_app_block_visible": true,
                "cell_id": "527d6c3578cc4e5e86ae07660fcbea35",
                "deepnote_cell_type": "text-cell-h2"
            },
            "source": "## Load",
            "block_group": "2f7cb13eff8941e6b3fd9cbdb283158b"
        },
        {
            "cell_type": "code",
            "metadata": {
                "source_hash": "ee433b0a",
                "execution_start": 1726160740233,
                "execution_millis": 90,
                "deepnote_to_be_reexecuted": false,
                "deepnote_app_block_visible": true,
                "deepnote_app_is_code_hidden": true,
                "cell_id": "b4f0dc51df724d6ab06b21b44328c59c",
                "deepnote_cell_type": "code"
            },
            "source": "# Correcting the instantiation of the PostgresLoader by ensuring parameter names match expected signature\ntry:\n    loader = PostgresLoader(user=user, password=password, host=host, db_name=db_name)\nexcept Exception as e:\n    notifier.pipeline_error(e)\n    raise e",
            "block_group": "7566d8a601db4d0f8ad327e2a3de76cd",
            "execution_count": 15,
            "outputs": [],
            "outputs_reference": null,
            "content_dependencies": null
        },
        {
            "cell_type": "code",
            "metadata": {
                "source_hash": "1bd89651",
                "execution_start": 1726160740234,
                "execution_millis": 1742,
                "deepnote_table_state": {
                    "sortBy": [],
                    "filters": [],
                    "pageSize": 5,
                    "pageIndex": 0,
                    "conditionalFilters": []
                },
                "deepnote_table_loading": false,
                "deepnote_to_be_reexecuted": false,
                "deepnote_app_block_visible": true,
                "deepnote_app_is_code_hidden": true,
                "cell_id": "7e253c72a2f748cf8afd030241796e2c",
                "deepnote_cell_type": "code"
            },
            "source": "try:\n    staged_data_path = writer.get_output_file_path(source, stream_table_name ,target_layer='staging') + '.csv'\n    staged_data = pd.read_csv(staged_data_path)\n    loader.load_data(dataframe=staged_data, target_table=stream_table_name, mode='replace', target_schema=schema)\nexcept Exception as e:\n    notifier.pipeline_error(e)\n    raise e",
            "block_group": "f543f791f903485881e0323a4d30a4ff",
            "execution_count": 16,
            "outputs": [],
            "outputs_reference": null,
            "content_dependencies": null
        },
        {
            "cell_type": "markdown",
            "metadata": {
                "formattedRanges": [],
                "deepnote_app_block_visible": true,
                "cell_id": "0fa79c3b4b8c4cc4b1f4675b9ad089c9",
                "deepnote_cell_type": "text-cell-h1"
            },
            "source": "# customer_stats",
            "block_group": "8cfe0d6f88d44f4193dd835244eecd52"
        },
        {
            "cell_type": "code",
            "metadata": {
                "source_hash": "5d06c48c",
                "execution_start": 1726160741978,
                "execution_millis": 55,
                "deepnote_to_be_reexecuted": false,
                "deepnote_app_block_visible": true,
                "deepnote_app_is_code_hidden": true,
                "cell_id": "f49eac21f93a4f2f8f006216bebbee97",
                "deepnote_cell_type": "code"
            },
            "source": "stream_name = 'customer_stats'\nstream_table_name = f'bdt__customer_stats'",
            "block_group": "9ed2502afd5e4d4f91596cde7f57b7e4",
            "execution_count": 17,
            "outputs": [],
            "outputs_reference": null,
            "content_dependencies": null
        },
        {
            "cell_type": "markdown",
            "metadata": {
                "formattedRanges": [],
                "deepnote_app_block_visible": true,
                "cell_id": "ce230446a0d24be785ea6905cb3726fe",
                "deepnote_cell_type": "text-cell-h2"
            },
            "source": "## Extract",
            "block_group": "dec76aba70734689a3c98eae3cd161d1"
        },
        {
            "cell_type": "code",
            "metadata": {
                "source_hash": "2e3f0001",
                "execution_start": 1726160741981,
                "execution_millis": 69,
                "deepnote_to_be_reexecuted": false,
                "deepnote_app_block_visible": true,
                "deepnote_app_is_code_hidden": true,
                "cell_id": "8d917d03e3704e6cb233f694baca5f9d",
                "deepnote_cell_type": "code"
            },
            "source": "try:\n    writer = DataWriter(\n        source=source,\n        stream=stream_name, \n        config=config\n        )\nexcept Exception as e:\n    notifier.pipeline_error(e)\n    raise e",
            "block_group": "67f1b4489cc5409b9cecd273f0b976c4",
            "execution_count": 18,
            "outputs": [],
            "outputs_reference": null,
            "content_dependencies": null
        },
        {
            "cell_type": "code",
            "metadata": {
                "source_hash": "20ba6c2b",
                "execution_start": 1726160742027,
                "execution_millis": 163,
                "deepnote_to_be_reexecuted": false,
                "deepnote_app_block_visible": true,
                "deepnote_app_is_code_hidden": true,
                "cell_id": "c6ce4b318c0045068ffe9bcebb6ea99e",
                "deepnote_cell_type": "code"
            },
            "source": "# Instanciar Stream para a extração dos dados\ntry:\n    stream = BenditoAPIStream(\n        identifier = source,\n        token = token,\n        writer = writer)\nexcept Exception as e:\n    notifier.pipeline_error(e)\n    raise e",
            "block_group": "3dba6d8ad11240b0b87395aaac932e22",
            "execution_count": 19,
            "outputs": [
                {
                    "name": "stdout",
                    "text": "Accepted\n",
                    "output_type": "stream"
                },
                {
                    "output_type": "error",
                    "ename": "NameError",
                    "evalue": "name 'BenditoAPIStream' is not defined",
                    "traceback": [
                        "\u001b[0;31m---------------------------------------------------------------------------\u001b[0m",
                        "\u001b[0;31mNameError\u001b[0m                                 Traceback (most recent call last)",
                        "Cell \u001b[0;32mIn[19], line 9\u001b[0m\n\u001b[1;32m      7\u001b[0m \u001b[38;5;28;01mexcept\u001b[39;00m \u001b[38;5;167;01mException\u001b[39;00m \u001b[38;5;28;01mas\u001b[39;00m e:\n\u001b[1;32m      8\u001b[0m     notifier\u001b[38;5;241m.\u001b[39mpipeline_error(e)\n\u001b[0;32m----> 9\u001b[0m     \u001b[38;5;28;01mraise\u001b[39;00m e\n",
                        "Cell \u001b[0;32mIn[19], line 3\u001b[0m\n\u001b[1;32m      1\u001b[0m \u001b[38;5;66;03m# Instanciar Stream para a extração dos dados\u001b[39;00m\n\u001b[1;32m      2\u001b[0m \u001b[38;5;28;01mtry\u001b[39;00m:\n\u001b[0;32m----> 3\u001b[0m     stream \u001b[38;5;241m=\u001b[39m \u001b[43mBenditoAPIStream\u001b[49m(\n\u001b[1;32m      4\u001b[0m         identifier \u001b[38;5;241m=\u001b[39m source,\n\u001b[1;32m      5\u001b[0m         token \u001b[38;5;241m=\u001b[39m token,\n\u001b[1;32m      6\u001b[0m         writer \u001b[38;5;241m=\u001b[39m writer)\n\u001b[1;32m      7\u001b[0m \u001b[38;5;28;01mexcept\u001b[39;00m \u001b[38;5;167;01mException\u001b[39;00m \u001b[38;5;28;01mas\u001b[39;00m e:\n\u001b[1;32m      8\u001b[0m     notifier\u001b[38;5;241m.\u001b[39mpipeline_error(e)\n",
                        "\u001b[0;31mNameError\u001b[0m: name 'BenditoAPIStream' is not defined"
                    ]
                }
            ],
            "outputs_reference": "s3:deepnote-cell-outputs-production/024ca2e1-4990-4746-9e0a-7aa5ba0d373c",
            "content_dependencies": null
        },
        {
            "cell_type": "code",
            "metadata": {
                "source_hash": "fbe8248f",
                "execution_start": 1726142029336,
                "execution_millis": 57319,
                "deepnote_to_be_reexecuted": true,
                "deepnote_app_block_visible": true,
                "deepnote_app_is_code_hidden": true,
                "cell_id": "5333f7a7651a4b57acc4d766ede42361",
                "deepnote_cell_type": "code"
            },
            "source": "#Executar a extração dos dados\ntry:\n    query = \"select * from v_customer_stats\"\n    page_size = 200\n    separator = \";\"\n    records = stream.run(query=query, page_size=page_size, separator=separator)\nexcept Exception as e:\n    notifier.pipeline_error(e)\n    raise e",
            "block_group": "445975c13f14479485b8b8a3ce64baa6",
            "execution_count": null,
            "outputs": [],
            "outputs_reference": null,
            "content_dependencies": null
        },
        {
            "cell_type": "code",
            "metadata": {
                "source_hash": "251e3a45",
                "execution_start": 1726142086656,
                "execution_millis": 371,
                "deepnote_to_be_reexecuted": true,
                "deepnote_app_block_visible": true,
                "deepnote_app_is_code_hidden": true,
                "cell_id": "7556d2d7136040fa8427ff60a1293fcf",
                "deepnote_cell_type": "code"
            },
            "source": "output = writer.get_output_file_path(source, stream_name,target_layer='raw') + '.csv'\nos.makedirs(os.path.dirname(output), exist_ok=True)\nrecords.to_csv(output, index=False)",
            "block_group": "56f5d782d56a487dabe7308e1c79fb46",
            "execution_count": null,
            "outputs": [],
            "outputs_reference": null,
            "content_dependencies": null
        },
        {
            "cell_type": "markdown",
            "metadata": {
                "is_collapsed": false,
                "formattedRanges": [],
                "deepnote_app_block_visible": true,
                "cell_id": "d7fc5fe3741149449ded4008ff2cfe21",
                "deepnote_cell_type": "text-cell-h2"
            },
            "source": "## Transform",
            "block_group": "e512282c57d548bf9fae0c228e77f30b"
        },
        {
            "cell_type": "markdown",
            "metadata": {
                "formattedRanges": [],
                "deepnote_app_block_visible": true,
                "cell_id": "4a25e167bc0a40d789af94e7803ba0b9",
                "deepnote_cell_type": "text-cell-h3"
            },
            "source": "### processing",
            "block_group": "f724aa5c062a4d62abeaa3bf54170a72"
        },
        {
            "cell_type": "code",
            "metadata": {
                "source_hash": "2a8a1113",
                "execution_start": 1726142087028,
                "execution_millis": 306,
                "deepnote_to_be_reexecuted": true,
                "deepnote_app_block_visible": true,
                "deepnote_app_is_code_hidden": true,
                "cell_id": "c812e21db5634308b9f4e73cd04ae721",
                "deepnote_cell_type": "code"
            },
            "source": "try:\n    output = writer.get_output_file_path(source, stream_name,target_layer='processing') + '.csv'\n    os.makedirs(os.path.dirname(output), exist_ok=True)\n    records.to_csv(output, index=False)\nexcept Exception as e:\n    notifier.pipeline_error(e)\n    raise e",
            "block_group": "b6a585dd7d10410cb3e8b1d7e38aad6f",
            "execution_count": null,
            "outputs": [],
            "outputs_reference": null,
            "content_dependencies": null
        },
        {
            "cell_type": "markdown",
            "metadata": {
                "formattedRanges": [],
                "deepnote_app_block_visible": true,
                "cell_id": "a26de5f4575f4dc48f6669a4654afb68",
                "deepnote_cell_type": "text-cell-h3"
            },
            "source": "### staging",
            "block_group": "ae540838ccde43e2a75819d0d68e7ced"
        },
        {
            "cell_type": "code",
            "metadata": {
                "source_hash": "db074dc2",
                "execution_start": 1726142087338,
                "execution_millis": 417,
                "deepnote_to_be_reexecuted": true,
                "deepnote_app_block_visible": true,
                "deepnote_app_is_code_hidden": true,
                "cell_id": "8bfdbafa0f104de69c24d101136103d9",
                "deepnote_cell_type": "code"
            },
            "source": "try:\n    # Carregar os arquivos em processing\n    processed_data_path = writer.get_output_file_path(source, stream_table_name,target_layer='processing') + '.csv'\n    processed_data = pd.read_csv(processed_data_path)\n    processed_data\nexcept Exception as e:\n    notifier.pipeline_error(e)\n    raise e",
            "block_group": "9ee2a6211e4140128502d7a0045d7c75",
            "execution_count": null,
            "outputs": [],
            "outputs_reference": null,
            "content_dependencies": null
        },
        {
            "cell_type": "code",
            "metadata": {
                "source_hash": "72eb0020",
                "execution_start": 1726142087759,
                "execution_millis": 224,
                "sql_integration_id": "deepnote-dataframe-sql",
                "deepnote_variable_name": "staged_data",
                "deepnote_to_be_reexecuted": true,
                "deepnote_app_block_visible": true,
                "deepnote_app_is_code_hidden": true,
                "cell_id": "2dcaa7d767a6438c907653186bfa6a76",
                "deepnote_cell_type": "sql",
                "deepnote_sql_source": "SELECT\n    id_customer,\n    razao_social,\n    nome_fantasia,\n    customer_interno,\n    status,\n    criado_em,\n    encerrado_em,\n    valor_plano,\n    qtd_invoices,\n    qtd_pedidos_venda_confirmados,\n    vr_pedidos_venda_confirmados,\n    qtd_clientes,\n    qtd_produtos,\n    qtd_tabelas_preco,\n    qtd_politicas_comerciais,\n    usuarios_contratados,\n    usuarios_cadastrados,\n    usuarios_ativos,\n    usuarios_inativos,\n    qtd_usuarios_excedentes,\n    vr_usuarios_excedentes\nFROM\n    processed_data"
            },
            "source": "staged_data = (lambda: _deepnote_execute_sql('SELECT\\n    id_customer,\\n    razao_social,\\n    nome_fantasia,\\n    customer_interno,\\n    status,\\n    criado_em,\\n    encerrado_em,\\n    valor_plano,\\n    qtd_invoices,\\n    qtd_pedidos_venda_confirmados,\\n    vr_pedidos_venda_confirmados,\\n    qtd_clientes,\\n    qtd_produtos,\\n    qtd_tabelas_preco,\\n    qtd_politicas_comerciais,\\n    usuarios_contratados,\\n    usuarios_cadastrados,\\n    usuarios_ativos,\\n    usuarios_inativos,\\n    qtd_usuarios_excedentes,\\n    vr_usuarios_excedentes\\nFROM\\n    processed_data', 'SQL_DEEPNOTE_DATAFRAME_SQL', audit_sql_comment='', sql_cache_mode='cache_disabled') if '_deepnote_execute_sql' in globals() else _dntk.execute_sql('SELECT\\n    id_customer,\\n    razao_social,\\n    nome_fantasia,\\n    customer_interno,\\n    status,\\n    criado_em,\\n    encerrado_em,\\n    valor_plano,\\n    qtd_invoices,\\n    qtd_pedidos_venda_confirmados,\\n    vr_pedidos_venda_confirmados,\\n    qtd_clientes,\\n    qtd_produtos,\\n    qtd_tabelas_preco,\\n    qtd_politicas_comerciais,\\n    usuarios_contratados,\\n    usuarios_cadastrados,\\n    usuarios_ativos,\\n    usuarios_inativos,\\n    qtd_usuarios_excedentes,\\n    vr_usuarios_excedentes\\nFROM\\n    processed_data', 'SQL_DEEPNOTE_DATAFRAME_SQL', audit_sql_comment='', sql_cache_mode='cache_disabled'))()\nstaged_data",
            "block_group": "aa78acf13c9240f4be15d7ed14438271",
            "execution_count": null,
            "outputs": [
                {
                    "output_type": "execute_result",
                    "execution_count": 23,
                    "data": {
                        "application/vnd.deepnote.dataframe.v3+json": {
                            "column_count": 21,
                            "row_count": 664,
                            "columns": [
                                {
                                    "name": "id_customer",
                                    "dtype": "int64",
                                    "stats": {
                                        "unique_count": 664,
                                        "nan_count": 0,
                                        "min": "1",
                                        "max": "745",
                                        "histogram": [
                                            {
                                                "bin_start": 1,
                                                "bin_end": 75.4,
                                                "count": 74
                                            },
                                            {
                                                "bin_start": 75.4,
                                                "bin_end": 149.8,
                                                "count": 74
                                            },
                                            {
                                                "bin_start": 149.8,
                                                "bin_end": 224.20000000000002,
                                                "count": 75
                                            },
                                            {
                                                "bin_start": 224.20000000000002,
                                                "bin_end": 298.6,
                                                "count": 67
                                            },
                                            {
                                                "bin_start": 298.6,
                                                "bin_end": 373,
                                                "count": 72
                                            },
                                            {
                                                "bin_start": 373,
                                                "bin_end": 447.40000000000003,
                                                "count": 65
                                            },
                                            {
                                                "bin_start": 447.40000000000003,
                                                "bin_end": 521.8000000000001,
                                                "count": 67
                                            },
                                            {
                                                "bin_start": 521.8000000000001,
                                                "bin_end": 596.2,
                                                "count": 56
                                            },
                                            {
                                                "bin_start": 596.2,
                                                "bin_end": 670.6,
                                                "count": 54
                                            },
                                            {
                                                "bin_start": 670.6,
                                                "bin_end": 745,
                                                "count": 60
                                            }
                                        ]
                                    }
                                },
                                {
                                    "name": "razao_social",
                                    "dtype": "object",
                                    "stats": {
                                        "unique_count": 655,
                                        "nan_count": 0,
                                        "categories": [
                                            {
                                                "name": "JIGGER DISTRIBUIDORA DE BEBIDAS LTDA",
                                                "count": 3
                                            },
                                            {
                                                "name": "POLITEK CAMPINAS LTDA",
                                                "count": 3
                                            },
                                            {
                                                "name": "653 others",
                                                "count": 658
                                            }
                                        ]
                                    }
                                },
                                {
                                    "name": "nome_fantasia",
                                    "dtype": "object",
                                    "stats": {
                                        "unique_count": 538,
                                        "nan_count": 120,
                                        "categories": [
                                            {
                                                "name": "ACIJS",
                                                "count": 2
                                            },
                                            {
                                                "name": "537 others",
                                                "count": 542
                                            },
                                            {
                                                "name": "Missing",
                                                "count": 120
                                            }
                                        ]
                                    }
                                },
                                {
                                    "name": "customer_interno",
                                    "dtype": "bool",
                                    "stats": {
                                        "unique_count": 2,
                                        "nan_count": 0,
                                        "categories": [
                                            {
                                                "name": "False",
                                                "count": 659
                                            },
                                            {
                                                "name": "True",
                                                "count": 5
                                            }
                                        ]
                                    }
                                },
                                {
                                    "name": "status",
                                    "dtype": "object",
                                    "stats": {
                                        "unique_count": 6,
                                        "nan_count": 0,
                                        "categories": [
                                            {
                                                "name": "Inativo",
                                                "count": 262
                                            },
                                            {
                                                "name": "Ignorar",
                                                "count": 196
                                            },
                                            {
                                                "name": "4 others",
                                                "count": 206
                                            }
                                        ]
                                    }
                                },
                                {
                                    "name": "criado_em",
                                    "dtype": "object",
                                    "stats": {
                                        "unique_count": 652,
                                        "nan_count": 3,
                                        "categories": [
                                            {
                                                "name": "05/26/2020 18:08:40",
                                                "count": 4
                                            },
                                            {
                                                "name": "651 others",
                                                "count": 657
                                            },
                                            {
                                                "name": "Missing",
                                                "count": 3
                                            }
                                        ]
                                    }
                                },
                                {
                                    "name": "encerrado_em",
                                    "dtype": "object",
                                    "stats": {
                                        "unique_count": 215,
                                        "nan_count": 414,
                                        "categories": [
                                            {
                                                "name": "02/01/2021 20:00:00",
                                                "count": 5
                                            },
                                            {
                                                "name": "214 others",
                                                "count": 245
                                            },
                                            {
                                                "name": "Missing",
                                                "count": 414
                                            }
                                        ]
                                    }
                                },
                                {
                                    "name": "valor_plano",
                                    "dtype": "float64",
                                    "stats": {
                                        "unique_count": 234,
                                        "nan_count": 0,
                                        "min": "0.0",
                                        "max": "20526.0",
                                        "histogram": [
                                            {
                                                "bin_start": 0,
                                                "bin_end": 2052.6,
                                                "count": 650
                                            },
                                            {
                                                "bin_start": 2052.6,
                                                "bin_end": 4105.2,
                                                "count": 8
                                            },
                                            {
                                                "bin_start": 4105.2,
                                                "bin_end": 6157.799999999999,
                                                "count": 2
                                            },
                                            {
                                                "bin_start": 6157.799999999999,
                                                "bin_end": 8210.4,
                                                "count": 1
                                            },
                                            {
                                                "bin_start": 8210.4,
                                                "bin_end": 10263,
                                                "count": 0
                                            },
                                            {
                                                "bin_start": 10263,
                                                "bin_end": 12315.599999999999,
                                                "count": 0
                                            },
                                            {
                                                "bin_start": 12315.599999999999,
                                                "bin_end": 14368.199999999999,
                                                "count": 0
                                            },
                                            {
                                                "bin_start": 14368.199999999999,
                                                "bin_end": 16420.8,
                                                "count": 1
                                            },
                                            {
                                                "bin_start": 16420.8,
                                                "bin_end": 18473.399999999998,
                                                "count": 0
                                            },
                                            {
                                                "bin_start": 18473.399999999998,
                                                "bin_end": 20526,
                                                "count": 2
                                            }
                                        ]
                                    }
                                },
                                {
                                    "name": "qtd_invoices",
                                    "dtype": "int64",
                                    "stats": {
                                        "unique_count": 208,
                                        "nan_count": 0,
                                        "min": "0",
                                        "max": "34992",
                                        "histogram": [
                                            {
                                                "bin_start": 0,
                                                "bin_end": 3499.2,
                                                "count": 647
                                            },
                                            {
                                                "bin_start": 3499.2,
                                                "bin_end": 6998.4,
                                                "count": 12
                                            },
                                            {
                                                "bin_start": 6998.4,
                                                "bin_end": 10497.599999999999,
                                                "count": 3
                                            },
                                            {
                                                "bin_start": 10497.599999999999,
                                                "bin_end": 13996.8,
                                                "count": 0
                                            },
                                            {
                                                "bin_start": 13996.8,
                                                "bin_end": 17496,
                                                "count": 1
                                            },
                                            {
                                                "bin_start": 17496,
                                                "bin_end": 20995.199999999997,
                                                "count": 0
                                            },
                                            {
                                                "bin_start": 20995.199999999997,
                                                "bin_end": 24494.399999999998,
                                                "count": 0
                                            },
                                            {
                                                "bin_start": 24494.399999999998,
                                                "bin_end": 27993.6,
                                                "count": 0
                                            },
                                            {
                                                "bin_start": 27993.6,
                                                "bin_end": 31492.8,
                                                "count": 0
                                            },
                                            {
                                                "bin_start": 31492.8,
                                                "bin_end": 34992,
                                                "count": 1
                                            }
                                        ]
                                    }
                                },
                                {
                                    "name": "qtd_pedidos_venda_confirmados",
                                    "dtype": "int64",
                                    "stats": {
                                        "unique_count": 188,
                                        "nan_count": 0,
                                        "min": "0",
                                        "max": "34832",
                                        "histogram": [
                                            {
                                                "bin_start": 0,
                                                "bin_end": 3483.2,
                                                "count": 650
                                            },
                                            {
                                                "bin_start": 3483.2,
                                                "bin_end": 6966.4,
                                                "count": 10
                                            },
                                            {
                                                "bin_start": 6966.4,
                                                "bin_end": 10449.599999999999,
                                                "count": 2
                                            },
                                            {
                                                "bin_start": 10449.599999999999,
                                                "bin_end": 13932.8,
                                                "count": 0
                                            },
                                            {
                                                "bin_start": 13932.8,
                                                "bin_end": 17416,
                                                "count": 1
                                            },
                                            {
                                                "bin_start": 17416,
                                                "bin_end": 20899.199999999997,
                                                "count": 0
                                            },
                                            {
                                                "bin_start": 20899.199999999997,
                                                "bin_end": 24382.399999999998,
                                                "count": 0
                                            },
                                            {
                                                "bin_start": 24382.399999999998,
                                                "bin_end": 27865.6,
                                                "count": 0
                                            },
                                            {
                                                "bin_start": 27865.6,
                                                "bin_end": 31348.8,
                                                "count": 0
                                            },
                                            {
                                                "bin_start": 31348.8,
                                                "bin_end": 34832,
                                                "count": 1
                                            }
                                        ]
                                    }
                                },
                                {
                                    "name": "vr_pedidos_venda_confirmados",
                                    "dtype": "float64",
                                    "stats": {
                                        "unique_count": 326,
                                        "nan_count": 0,
                                        "min": "-1263361.51",
                                        "max": "43022702.89",
                                        "histogram": [
                                            {
                                                "bin_start": -1263361.51,
                                                "bin_end": 3165244.9299999997,
                                                "count": 625
                                            },
                                            {
                                                "bin_start": 3165244.9299999997,
                                                "bin_end": 7593851.369999999,
                                                "count": 23
                                            },
                                            {
                                                "bin_start": 7593851.369999999,
                                                "bin_end": 12022457.809999999,
                                                "count": 7
                                            },
                                            {
                                                "bin_start": 12022457.809999999,
                                                "bin_end": 16451064.249999998,
                                                "count": 3
                                            },
                                            {
                                                "bin_start": 16451064.249999998,
                                                "bin_end": 20879670.689999994,
                                                "count": 3
                                            },
                                            {
                                                "bin_start": 20879670.689999994,
                                                "bin_end": 25308277.129999995,
                                                "count": 0
                                            },
                                            {
                                                "bin_start": 25308277.129999995,
                                                "bin_end": 29736883.569999997,
                                                "count": 0
                                            },
                                            {
                                                "bin_start": 29736883.569999997,
                                                "bin_end": 34165490.01,
                                                "count": 2
                                            },
                                            {
                                                "bin_start": 34165490.01,
                                                "bin_end": 38594096.449999996,
                                                "count": 0
                                            },
                                            {
                                                "bin_start": 38594096.449999996,
                                                "bin_end": 43022702.89,
                                                "count": 1
                                            }
                                        ]
                                    }
                                },
                                {
                                    "name": "qtd_clientes",
                                    "dtype": "int64",
                                    "stats": {
                                        "unique_count": 344,
                                        "nan_count": 0,
                                        "min": "0",
                                        "max": "59810",
                                        "histogram": [
                                            {
                                                "bin_start": 0,
                                                "bin_end": 5981,
                                                "count": 647
                                            },
                                            {
                                                "bin_start": 5981,
                                                "bin_end": 11962,
                                                "count": 13
                                            },
                                            {
                                                "bin_start": 11962,
                                                "bin_end": 17943,
                                                "count": 3
                                            },
                                            {
                                                "bin_start": 17943,
                                                "bin_end": 23924,
                                                "count": 0
                                            },
                                            {
                                                "bin_start": 23924,
                                                "bin_end": 29905,
                                                "count": 0
                                            },
                                            {
                                                "bin_start": 29905,
                                                "bin_end": 35886,
                                                "count": 0
                                            },
                                            {
                                                "bin_start": 35886,
                                                "bin_end": 41867,
                                                "count": 0
                                            },
                                            {
                                                "bin_start": 41867,
                                                "bin_end": 47848,
                                                "count": 0
                                            },
                                            {
                                                "bin_start": 47848,
                                                "bin_end": 53829,
                                                "count": 0
                                            },
                                            {
                                                "bin_start": 53829,
                                                "bin_end": 59810,
                                                "count": 1
                                            }
                                        ]
                                    }
                                },
                                {
                                    "name": "qtd_produtos",
                                    "dtype": "int64",
                                    "stats": {
                                        "unique_count": 319,
                                        "nan_count": 0,
                                        "min": "0",
                                        "max": "19414",
                                        "histogram": [
                                            {
                                                "bin_start": 0,
                                                "bin_end": 1941.4,
                                                "count": 621
                                            },
                                            {
                                                "bin_start": 1941.4,
                                                "bin_end": 3882.8,
                                                "count": 21
                                            },
                                            {
                                                "bin_start": 3882.8,
                                                "bin_end": 5824.200000000001,
                                                "count": 12
                                            },
                                            {
                                                "bin_start": 5824.200000000001,
                                                "bin_end": 7765.6,
                                                "count": 1
                                            },
                                            {
                                                "bin_start": 7765.6,
                                                "bin_end": 9707,
                                                "count": 4
                                            },
                                            {
                                                "bin_start": 9707,
                                                "bin_end": 11648.400000000001,
                                                "count": 1
                                            },
                                            {
                                                "bin_start": 11648.400000000001,
                                                "bin_end": 13589.800000000001,
                                                "count": 0
                                            },
                                            {
                                                "bin_start": 13589.800000000001,
                                                "bin_end": 15531.2,
                                                "count": 2
                                            },
                                            {
                                                "bin_start": 15531.2,
                                                "bin_end": 17472.600000000002,
                                                "count": 0
                                            },
                                            {
                                                "bin_start": 17472.600000000002,
                                                "bin_end": 19414,
                                                "count": 2
                                            }
                                        ]
                                    }
                                },
                                {
                                    "name": "qtd_tabelas_preco",
                                    "dtype": "int64",
                                    "stats": {
                                        "unique_count": 35,
                                        "nan_count": 0,
                                        "min": "0",
                                        "max": "321",
                                        "histogram": [
                                            {
                                                "bin_start": 0,
                                                "bin_end": 32.1,
                                                "count": 652
                                            },
                                            {
                                                "bin_start": 32.1,
                                                "bin_end": 64.2,
                                                "count": 8
                                            },
                                            {
                                                "bin_start": 64.2,
                                                "bin_end": 96.30000000000001,
                                                "count": 2
                                            },
                                            {
                                                "bin_start": 96.30000000000001,
                                                "bin_end": 128.4,
                                                "count": 1
                                            },
                                            {
                                                "bin_start": 128.4,
                                                "bin_end": 160.5,
                                                "count": 0
                                            },
                                            {
                                                "bin_start": 160.5,
                                                "bin_end": 192.60000000000002,
                                                "count": 0
                                            },
                                            {
                                                "bin_start": 192.60000000000002,
                                                "bin_end": 224.70000000000002,
                                                "count": 0
                                            },
                                            {
                                                "bin_start": 224.70000000000002,
                                                "bin_end": 256.8,
                                                "count": 0
                                            },
                                            {
                                                "bin_start": 256.8,
                                                "bin_end": 288.90000000000003,
                                                "count": 0
                                            },
                                            {
                                                "bin_start": 288.90000000000003,
                                                "bin_end": 321,
                                                "count": 1
                                            }
                                        ]
                                    }
                                },
                                {
                                    "name": "qtd_politicas_comerciais",
                                    "dtype": "int64",
                                    "stats": {
                                        "unique_count": 33,
                                        "nan_count": 0,
                                        "min": "0",
                                        "max": "71",
                                        "histogram": [
                                            {
                                                "bin_start": 0,
                                                "bin_end": 7.1,
                                                "count": 611
                                            },
                                            {
                                                "bin_start": 7.1,
                                                "bin_end": 14.2,
                                                "count": 27
                                            },
                                            {
                                                "bin_start": 14.2,
                                                "bin_end": 21.299999999999997,
                                                "count": 12
                                            },
                                            {
                                                "bin_start": 21.299999999999997,
                                                "bin_end": 28.4,
                                                "count": 5
                                            },
                                            {
                                                "bin_start": 28.4,
                                                "bin_end": 35.5,
                                                "count": 3
                                            },
                                            {
                                                "bin_start": 35.5,
                                                "bin_end": 42.599999999999994,
                                                "count": 2
                                            },
                                            {
                                                "bin_start": 42.599999999999994,
                                                "bin_end": 49.699999999999996,
                                                "count": 0
                                            },
                                            {
                                                "bin_start": 49.699999999999996,
                                                "bin_end": 56.8,
                                                "count": 2
                                            },
                                            {
                                                "bin_start": 56.8,
                                                "bin_end": 63.9,
                                                "count": 1
                                            },
                                            {
                                                "bin_start": 63.9,
                                                "bin_end": 71,
                                                "count": 1
                                            }
                                        ]
                                    }
                                },
                                {
                                    "name": "usuarios_contratados",
                                    "dtype": "int64",
                                    "stats": {
                                        "unique_count": 47,
                                        "nan_count": 0,
                                        "min": "0",
                                        "max": "210",
                                        "histogram": [
                                            {
                                                "bin_start": 0,
                                                "bin_end": 21,
                                                "count": 614
                                            },
                                            {
                                                "bin_start": 21,
                                                "bin_end": 42,
                                                "count": 12
                                            },
                                            {
                                                "bin_start": 42,
                                                "bin_end": 63,
                                                "count": 7
                                            },
                                            {
                                                "bin_start": 63,
                                                "bin_end": 84,
                                                "count": 0
                                            },
                                            {
                                                "bin_start": 84,
                                                "bin_end": 105,
                                                "count": 17
                                            },
                                            {
                                                "bin_start": 105,
                                                "bin_end": 126,
                                                "count": 8
                                            },
                                            {
                                                "bin_start": 126,
                                                "bin_end": 147,
                                                "count": 1
                                            },
                                            {
                                                "bin_start": 147,
                                                "bin_end": 168,
                                                "count": 2
                                            },
                                            {
                                                "bin_start": 168,
                                                "bin_end": 189,
                                                "count": 1
                                            },
                                            {
                                                "bin_start": 189,
                                                "bin_end": 210,
                                                "count": 2
                                            }
                                        ]
                                    }
                                },
                                {
                                    "name": "usuarios_cadastrados",
                                    "dtype": "int64",
                                    "stats": {
                                        "unique_count": 53,
                                        "nan_count": 0,
                                        "min": "0",
                                        "max": "100",
                                        "histogram": [
                                            {
                                                "bin_start": 0,
                                                "bin_end": 10,
                                                "count": 507
                                            },
                                            {
                                                "bin_start": 10,
                                                "bin_end": 20,
                                                "count": 97
                                            },
                                            {
                                                "bin_start": 20,
                                                "bin_end": 30,
                                                "count": 33
                                            },
                                            {
                                                "bin_start": 30,
                                                "bin_end": 40,
                                                "count": 6
                                            },
                                            {
                                                "bin_start": 40,
                                                "bin_end": 50,
                                                "count": 8
                                            },
                                            {
                                                "bin_start": 50,
                                                "bin_end": 60,
                                                "count": 5
                                            },
                                            {
                                                "bin_start": 60,
                                                "bin_end": 70,
                                                "count": 3
                                            },
                                            {
                                                "bin_start": 70,
                                                "bin_end": 80,
                                                "count": 4
                                            },
                                            {
                                                "bin_start": 80,
                                                "bin_end": 90,
                                                "count": 0
                                            },
                                            {
                                                "bin_start": 90,
                                                "bin_end": 100,
                                                "count": 1
                                            }
                                        ]
                                    }
                                },
                                {
                                    "name": "usuarios_ativos",
                                    "dtype": "int64",
                                    "stats": {
                                        "unique_count": 36,
                                        "nan_count": 0,
                                        "min": "0",
                                        "max": "84",
                                        "histogram": [
                                            {
                                                "bin_start": 0,
                                                "bin_end": 8.4,
                                                "count": 536
                                            },
                                            {
                                                "bin_start": 8.4,
                                                "bin_end": 16.8,
                                                "count": 94
                                            },
                                            {
                                                "bin_start": 16.8,
                                                "bin_end": 25.200000000000003,
                                                "count": 20
                                            },
                                            {
                                                "bin_start": 25.200000000000003,
                                                "bin_end": 33.6,
                                                "count": 4
                                            },
                                            {
                                                "bin_start": 33.6,
                                                "bin_end": 42,
                                                "count": 5
                                            },
                                            {
                                                "bin_start": 42,
                                                "bin_end": 50.400000000000006,
                                                "count": 1
                                            },
                                            {
                                                "bin_start": 50.400000000000006,
                                                "bin_end": 58.800000000000004,
                                                "count": 1
                                            },
                                            {
                                                "bin_start": 58.800000000000004,
                                                "bin_end": 67.2,
                                                "count": 1
                                            },
                                            {
                                                "bin_start": 67.2,
                                                "bin_end": 75.60000000000001,
                                                "count": 1
                                            },
                                            {
                                                "bin_start": 75.60000000000001,
                                                "bin_end": 84,
                                                "count": 1
                                            }
                                        ]
                                    }
                                },
                                {
                                    "name": "usuarios_inativos",
                                    "dtype": "int64",
                                    "stats": {
                                        "unique_count": 35,
                                        "nan_count": 0,
                                        "min": "0",
                                        "max": "66",
                                        "histogram": [
                                            {
                                                "bin_start": 0,
                                                "bin_end": 6.6,
                                                "count": 609
                                            },
                                            {
                                                "bin_start": 6.6,
                                                "bin_end": 13.2,
                                                "count": 26
                                            },
                                            {
                                                "bin_start": 13.2,
                                                "bin_end": 19.799999999999997,
                                                "count": 9
                                            },
                                            {
                                                "bin_start": 19.799999999999997,
                                                "bin_end": 26.4,
                                                "count": 10
                                            },
                                            {
                                                "bin_start": 26.4,
                                                "bin_end": 33,
                                                "count": 0
                                            },
                                            {
                                                "bin_start": 33,
                                                "bin_end": 39.599999999999994,
                                                "count": 4
                                            },
                                            {
                                                "bin_start": 39.599999999999994,
                                                "bin_end": 46.199999999999996,
                                                "count": 2
                                            },
                                            {
                                                "bin_start": 46.199999999999996,
                                                "bin_end": 52.8,
                                                "count": 1
                                            },
                                            {
                                                "bin_start": 52.8,
                                                "bin_end": 59.4,
                                                "count": 2
                                            },
                                            {
                                                "bin_start": 59.4,
                                                "bin_end": 66,
                                                "count": 1
                                            }
                                        ]
                                    }
                                },
                                {
                                    "name": "qtd_usuarios_excedentes",
                                    "dtype": "int64",
                                    "stats": {
                                        "unique_count": 37,
                                        "nan_count": 0,
                                        "min": "0",
                                        "max": "100",
                                        "histogram": [
                                            {
                                                "bin_start": 0,
                                                "bin_end": 10,
                                                "count": 601
                                            },
                                            {
                                                "bin_start": 10,
                                                "bin_end": 20,
                                                "count": 41
                                            },
                                            {
                                                "bin_start": 20,
                                                "bin_end": 30,
                                                "count": 9
                                            },
                                            {
                                                "bin_start": 30,
                                                "bin_end": 40,
                                                "count": 4
                                            },
                                            {
                                                "bin_start": 40,
                                                "bin_end": 50,
                                                "count": 4
                                            },
                                            {
                                                "bin_start": 50,
                                                "bin_end": 60,
                                                "count": 3
                                            },
                                            {
                                                "bin_start": 60,
                                                "bin_end": 70,
                                                "count": 1
                                            },
                                            {
                                                "bin_start": 70,
                                                "bin_end": 80,
                                                "count": 0
                                            },
                                            {
                                                "bin_start": 80,
                                                "bin_end": 90,
                                                "count": 0
                                            },
                                            {
                                                "bin_start": 90,
                                                "bin_end": 100,
                                                "count": 1
                                            }
                                        ]
                                    }
                                },
                                {
                                    "name": "vr_usuarios_excedentes",
                                    "dtype": "float64",
                                    "stats": {
                                        "unique_count": 37,
                                        "nan_count": 0,
                                        "min": "0.0",
                                        "max": "3990.0",
                                        "histogram": [
                                            {
                                                "bin_start": 0,
                                                "bin_end": 399,
                                                "count": 601
                                            },
                                            {
                                                "bin_start": 399,
                                                "bin_end": 798,
                                                "count": 41
                                            },
                                            {
                                                "bin_start": 798,
                                                "bin_end": 1197,
                                                "count": 9
                                            },
                                            {
                                                "bin_start": 1197,
                                                "bin_end": 1596,
                                                "count": 4
                                            },
                                            {
                                                "bin_start": 1596,
                                                "bin_end": 1995,
                                                "count": 4
                                            },
                                            {
                                                "bin_start": 1995,
                                                "bin_end": 2394,
                                                "count": 3
                                            },
                                            {
                                                "bin_start": 2394,
                                                "bin_end": 2793,
                                                "count": 1
                                            },
                                            {
                                                "bin_start": 2793,
                                                "bin_end": 3192,
                                                "count": 0
                                            },
                                            {
                                                "bin_start": 3192,
                                                "bin_end": 3591,
                                                "count": 0
                                            },
                                            {
                                                "bin_start": 3591,
                                                "bin_end": 3990,
                                                "count": 1
                                            }
                                        ]
                                    }
                                },
                                {
                                    "name": "_deepnote_index_column",
                                    "dtype": "int64"
                                }
                            ],
                            "rows": [
                                {
                                    "id_customer": 1,
                                    "razao_social": "BENDITA CRIATIVIDADE COMERCIO DE DECORACAO LTDA",
                                    "nome_fantasia": "BENDITA FEITURA",
                                    "customer_interno": "False",
                                    "status": "Ativo",
                                    "criado_em": "02/06/2020 05:18:17",
                                    "encerrado_em": "01/08/2024 20:41:07",
                                    "valor_plano": 2468.8,
                                    "qtd_invoices": 743,
                                    "qtd_pedidos_venda_confirmados": 536,
                                    "vr_pedidos_venda_confirmados": 654468.3,
                                    "qtd_clientes": 2297,
                                    "qtd_produtos": 5027,
                                    "qtd_tabelas_preco": 3,
                                    "qtd_politicas_comerciais": 3,
                                    "usuarios_contratados": 105,
                                    "usuarios_cadastrados": 25,
                                    "usuarios_ativos": 25,
                                    "usuarios_inativos": 0,
                                    "qtd_usuarios_excedentes": 0,
                                    "vr_usuarios_excedentes": 0,
                                    "_deepnote_index_column": 0
                                },
                                {
                                    "id_customer": 2,
                                    "razao_social": "Mail Inc",
                                    "nome_fantasia": "None",
                                    "customer_interno": "False",
                                    "status": "Ignorar",
                                    "criado_em": "02/07/2020 19:23:21",
                                    "encerrado_em": "None",
                                    "valor_plano": 149.9,
                                    "qtd_invoices": 0,
                                    "qtd_pedidos_venda_confirmados": 0,
                                    "vr_pedidos_venda_confirmados": 0,
                                    "qtd_clientes": 0,
                                    "qtd_produtos": 0,
                                    "qtd_tabelas_preco": 3,
                                    "qtd_politicas_comerciais": 0,
                                    "usuarios_contratados": 5,
                                    "usuarios_cadastrados": 2,
                                    "usuarios_ativos": 2,
                                    "usuarios_inativos": 0,
                                    "qtd_usuarios_excedentes": 0,
                                    "vr_usuarios_excedentes": 0,
                                    "_deepnote_index_column": 1
                                },
                                {
                                    "id_customer": 3,
                                    "razao_social": "Macnario",
                                    "nome_fantasia": "Macnario Sistemas",
                                    "customer_interno": "True",
                                    "status": "Ativo",
                                    "criado_em": "02/10/2020 16:01:17",
                                    "encerrado_em": "None",
                                    "valor_plano": 599.4,
                                    "qtd_invoices": 209,
                                    "qtd_pedidos_venda_confirmados": 129,
                                    "vr_pedidos_venda_confirmados": 366467.6,
                                    "qtd_clientes": 226,
                                    "qtd_produtos": 335,
                                    "qtd_tabelas_preco": 45,
                                    "qtd_politicas_comerciais": 10,
                                    "usuarios_contratados": 155,
                                    "usuarios_cadastrados": 76,
                                    "usuarios_ativos": 59,
                                    "usuarios_inativos": 17,
                                    "qtd_usuarios_excedentes": 0,
                                    "vr_usuarios_excedentes": 0,
                                    "_deepnote_index_column": 2
                                },
                                {
                                    "id_customer": 4,
                                    "razao_social": "Mailmink",
                                    "nome_fantasia": "None",
                                    "customer_interno": "False",
                                    "status": "Ignorar",
                                    "criado_em": "02/13/2020 17:47:46",
                                    "encerrado_em": "None",
                                    "valor_plano": 149.9,
                                    "qtd_invoices": 0,
                                    "qtd_pedidos_venda_confirmados": 0,
                                    "vr_pedidos_venda_confirmados": 0,
                                    "qtd_clientes": 1,
                                    "qtd_produtos": 1,
                                    "qtd_tabelas_preco": 3,
                                    "qtd_politicas_comerciais": 0,
                                    "usuarios_contratados": 5,
                                    "usuarios_cadastrados": 2,
                                    "usuarios_ativos": 2,
                                    "usuarios_inativos": 0,
                                    "qtd_usuarios_excedentes": 0,
                                    "vr_usuarios_excedentes": 0,
                                    "_deepnote_index_column": 3
                                },
                                {
                                    "id_customer": 5,
                                    "razao_social": "GUIDUGLI DESIGN DE INTERIORES LTDA",
                                    "nome_fantasia": "GUIDUGLI DESIGN - GUIDECASA",
                                    "customer_interno": "False",
                                    "status": "Ignorar",
                                    "criado_em": "02/21/2020 23:36:40",
                                    "encerrado_em": "None",
                                    "valor_plano": 149.9,
                                    "qtd_invoices": 0,
                                    "qtd_pedidos_venda_confirmados": 0,
                                    "vr_pedidos_venda_confirmados": 0,
                                    "qtd_clientes": 1,
                                    "qtd_produtos": 1,
                                    "qtd_tabelas_preco": 3,
                                    "qtd_politicas_comerciais": 0,
                                    "usuarios_contratados": 5,
                                    "usuarios_cadastrados": 2,
                                    "usuarios_ativos": 2,
                                    "usuarios_inativos": 0,
                                    "qtd_usuarios_excedentes": 0,
                                    "vr_usuarios_excedentes": 0,
                                    "_deepnote_index_column": 4
                                }
                            ]
                        },
                        "text/plain": "     id_customer                                     razao_social  \\\n0              1  BENDITA CRIATIVIDADE COMERCIO DE DECORACAO LTDA   \n1              2                                         Mail Inc   \n2              3                                         Macnario   \n3              4                                         Mailmink   \n4              5               GUIDUGLI DESIGN DE INTERIORES LTDA   \n..           ...                                              ...   \n659          739        Automaxx Borba Alves IndÃºstria de PeÃ§as   \n660          741                          Automaxx (base inativa)   \n661          742             Urs - Materiais Para Construcao LTDA   \n662          743      PIGATTO - COMERCIO DE PAPEIS ESPECIAIS LTDA   \n663          745                               Shopping das Unhas   \n\n                   nome_fantasia  customer_interno   status  \\\n0                BENDITA FEITURA             False    Ativo   \n1                           None             False  Ignorar   \n2              Macnario Sistemas              True    Ativo   \n3                           None             False  Ignorar   \n4    GUIDUGLI DESIGN - GUIDECASA             False  Ignorar   \n..                           ...               ...      ...   \n659                         None             False    Ativo   \n660                         None             False  Inativo   \n661        Rio Sul Distribuidora             False    Ativo   \n662                         None             False    Ativo   \n663                         None             False    Ativo   \n\n               criado_em         encerrado_em  valor_plano  qtd_invoices  \\\n0    02/06/2020 05:18:17  01/08/2024 20:41:07      2468.80           743   \n1    02/07/2020 19:23:21                 None       149.90             0   \n2    02/10/2020 16:01:17                 None       599.40           209   \n3    02/13/2020 17:47:46                 None       149.90             0   \n4    02/21/2020 23:36:40                 None       149.90             0   \n..                   ...                  ...          ...           ...   \n659  07/31/2024 17:19:49                 None      1108.45             0   \n660  07/31/2024 20:14:32                 None      1108.45             0   \n661  08/01/2024 17:59:18                 None       549.90             0   \n662  08/01/2024 18:03:57                 None       199.50             0   \n663  08/02/2024 20:31:05                 None       199.90             0   \n\n     qtd_pedidos_venda_confirmados  ...  qtd_clientes  qtd_produtos  \\\n0                              536  ...          2297          5027   \n1                                0  ...             0             0   \n2                              129  ...           226           335   \n3                                0  ...             1             1   \n4                                0  ...             1             1   \n..                             ...  ...           ...           ...   \n659                              0  ...           380             0   \n660                              0  ...             0             0   \n661                              0  ...             0             0   \n662                              0  ...          2167           504   \n663                              0  ...             0             0   \n\n     qtd_tabelas_preco  qtd_politicas_comerciais  usuarios_contratados  \\\n0                    3                         3                   105   \n1                    3                         0                     5   \n2                   45                        10                   155   \n3                    3                         0                     5   \n4                    3                         0                     5   \n..                 ...                       ...                   ...   \n659                  0                         0                    20   \n660                  0                         0                    17   \n661                  0                         0                     3   \n662                  0                         0                     5   \n663                  0                         0                     3   \n\n     usuarios_cadastrados  usuarios_ativos  usuarios_inativos  \\\n0                      25               25                  0   \n1                       2                2                  0   \n2                      76               59                 17   \n3                       2                2                  0   \n4                       2                2                  0   \n..                    ...              ...                ...   \n659                     5                5                  0   \n660                     4                4                  0   \n661                     4                4                  0   \n662                     4                4                  0   \n663                     4                4                  0   \n\n     qtd_usuarios_excedentes  vr_usuarios_excedentes  \n0                          0                     0.0  \n1                          0                     0.0  \n2                          0                     0.0  \n3                          0                     0.0  \n4                          0                     0.0  \n..                       ...                     ...  \n659                        0                     0.0  \n660                        0                     0.0  \n661                        1                    39.9  \n662                        0                     0.0  \n663                        1                    39.9  \n\n[664 rows x 21 columns]",
                        "text/html": "<div>\n<style scoped>\n    .dataframe tbody tr th:only-of-type {\n        vertical-align: middle;\n    }\n\n    .dataframe tbody tr th {\n        vertical-align: top;\n    }\n\n    .dataframe thead th {\n        text-align: right;\n    }\n</style>\n<table border=\"1\" class=\"dataframe\">\n  <thead>\n    <tr style=\"text-align: right;\">\n      <th></th>\n      <th>id_customer</th>\n      <th>razao_social</th>\n      <th>nome_fantasia</th>\n      <th>customer_interno</th>\n      <th>status</th>\n      <th>criado_em</th>\n      <th>encerrado_em</th>\n      <th>valor_plano</th>\n      <th>qtd_invoices</th>\n      <th>qtd_pedidos_venda_confirmados</th>\n      <th>...</th>\n      <th>qtd_clientes</th>\n      <th>qtd_produtos</th>\n      <th>qtd_tabelas_preco</th>\n      <th>qtd_politicas_comerciais</th>\n      <th>usuarios_contratados</th>\n      <th>usuarios_cadastrados</th>\n      <th>usuarios_ativos</th>\n      <th>usuarios_inativos</th>\n      <th>qtd_usuarios_excedentes</th>\n      <th>vr_usuarios_excedentes</th>\n    </tr>\n  </thead>\n  <tbody>\n    <tr>\n      <th>0</th>\n      <td>1</td>\n      <td>BENDITA CRIATIVIDADE COMERCIO DE DECORACAO LTDA</td>\n      <td>BENDITA FEITURA</td>\n      <td>False</td>\n      <td>Ativo</td>\n      <td>02/06/2020 05:18:17</td>\n      <td>01/08/2024 20:41:07</td>\n      <td>2468.80</td>\n      <td>743</td>\n      <td>536</td>\n      <td>...</td>\n      <td>2297</td>\n      <td>5027</td>\n      <td>3</td>\n      <td>3</td>\n      <td>105</td>\n      <td>25</td>\n      <td>25</td>\n      <td>0</td>\n      <td>0</td>\n      <td>0.0</td>\n    </tr>\n    <tr>\n      <th>1</th>\n      <td>2</td>\n      <td>Mail Inc</td>\n      <td>None</td>\n      <td>False</td>\n      <td>Ignorar</td>\n      <td>02/07/2020 19:23:21</td>\n      <td>None</td>\n      <td>149.90</td>\n      <td>0</td>\n      <td>0</td>\n      <td>...</td>\n      <td>0</td>\n      <td>0</td>\n      <td>3</td>\n      <td>0</td>\n      <td>5</td>\n      <td>2</td>\n      <td>2</td>\n      <td>0</td>\n      <td>0</td>\n      <td>0.0</td>\n    </tr>\n    <tr>\n      <th>2</th>\n      <td>3</td>\n      <td>Macnario</td>\n      <td>Macnario Sistemas</td>\n      <td>True</td>\n      <td>Ativo</td>\n      <td>02/10/2020 16:01:17</td>\n      <td>None</td>\n      <td>599.40</td>\n      <td>209</td>\n      <td>129</td>\n      <td>...</td>\n      <td>226</td>\n      <td>335</td>\n      <td>45</td>\n      <td>10</td>\n      <td>155</td>\n      <td>76</td>\n      <td>59</td>\n      <td>17</td>\n      <td>0</td>\n      <td>0.0</td>\n    </tr>\n    <tr>\n      <th>3</th>\n      <td>4</td>\n      <td>Mailmink</td>\n      <td>None</td>\n      <td>False</td>\n      <td>Ignorar</td>\n      <td>02/13/2020 17:47:46</td>\n      <td>None</td>\n      <td>149.90</td>\n      <td>0</td>\n      <td>0</td>\n      <td>...</td>\n      <td>1</td>\n      <td>1</td>\n      <td>3</td>\n      <td>0</td>\n      <td>5</td>\n      <td>2</td>\n      <td>2</td>\n      <td>0</td>\n      <td>0</td>\n      <td>0.0</td>\n    </tr>\n    <tr>\n      <th>4</th>\n      <td>5</td>\n      <td>GUIDUGLI DESIGN DE INTERIORES LTDA</td>\n      <td>GUIDUGLI DESIGN - GUIDECASA</td>\n      <td>False</td>\n      <td>Ignorar</td>\n      <td>02/21/2020 23:36:40</td>\n      <td>None</td>\n      <td>149.90</td>\n      <td>0</td>\n      <td>0</td>\n      <td>...</td>\n      <td>1</td>\n      <td>1</td>\n      <td>3</td>\n      <td>0</td>\n      <td>5</td>\n      <td>2</td>\n      <td>2</td>\n      <td>0</td>\n      <td>0</td>\n      <td>0.0</td>\n    </tr>\n    <tr>\n      <th>...</th>\n      <td>...</td>\n      <td>...</td>\n      <td>...</td>\n      <td>...</td>\n      <td>...</td>\n      <td>...</td>\n      <td>...</td>\n      <td>...</td>\n      <td>...</td>\n      <td>...</td>\n      <td>...</td>\n      <td>...</td>\n      <td>...</td>\n      <td>...</td>\n      <td>...</td>\n      <td>...</td>\n      <td>...</td>\n      <td>...</td>\n      <td>...</td>\n      <td>...</td>\n      <td>...</td>\n    </tr>\n    <tr>\n      <th>659</th>\n      <td>739</td>\n      <td>Automaxx Borba Alves IndÃºstria de PeÃ§as</td>\n      <td>None</td>\n      <td>False</td>\n      <td>Ativo</td>\n      <td>07/31/2024 17:19:49</td>\n      <td>None</td>\n      <td>1108.45</td>\n      <td>0</td>\n      <td>0</td>\n      <td>...</td>\n      <td>380</td>\n      <td>0</td>\n      <td>0</td>\n      <td>0</td>\n      <td>20</td>\n      <td>5</td>\n      <td>5</td>\n      <td>0</td>\n      <td>0</td>\n      <td>0.0</td>\n    </tr>\n    <tr>\n      <th>660</th>\n      <td>741</td>\n      <td>Automaxx (base inativa)</td>\n      <td>None</td>\n      <td>False</td>\n      <td>Inativo</td>\n      <td>07/31/2024 20:14:32</td>\n      <td>None</td>\n      <td>1108.45</td>\n      <td>0</td>\n      <td>0</td>\n      <td>...</td>\n      <td>0</td>\n      <td>0</td>\n      <td>0</td>\n      <td>0</td>\n      <td>17</td>\n      <td>4</td>\n      <td>4</td>\n      <td>0</td>\n      <td>0</td>\n      <td>0.0</td>\n    </tr>\n    <tr>\n      <th>661</th>\n      <td>742</td>\n      <td>Urs - Materiais Para Construcao LTDA</td>\n      <td>Rio Sul Distribuidora</td>\n      <td>False</td>\n      <td>Ativo</td>\n      <td>08/01/2024 17:59:18</td>\n      <td>None</td>\n      <td>549.90</td>\n      <td>0</td>\n      <td>0</td>\n      <td>...</td>\n      <td>0</td>\n      <td>0</td>\n      <td>0</td>\n      <td>0</td>\n      <td>3</td>\n      <td>4</td>\n      <td>4</td>\n      <td>0</td>\n      <td>1</td>\n      <td>39.9</td>\n    </tr>\n    <tr>\n      <th>662</th>\n      <td>743</td>\n      <td>PIGATTO - COMERCIO DE PAPEIS ESPECIAIS LTDA</td>\n      <td>None</td>\n      <td>False</td>\n      <td>Ativo</td>\n      <td>08/01/2024 18:03:57</td>\n      <td>None</td>\n      <td>199.50</td>\n      <td>0</td>\n      <td>0</td>\n      <td>...</td>\n      <td>2167</td>\n      <td>504</td>\n      <td>0</td>\n      <td>0</td>\n      <td>5</td>\n      <td>4</td>\n      <td>4</td>\n      <td>0</td>\n      <td>0</td>\n      <td>0.0</td>\n    </tr>\n    <tr>\n      <th>663</th>\n      <td>745</td>\n      <td>Shopping das Unhas</td>\n      <td>None</td>\n      <td>False</td>\n      <td>Ativo</td>\n      <td>08/02/2024 20:31:05</td>\n      <td>None</td>\n      <td>199.90</td>\n      <td>0</td>\n      <td>0</td>\n      <td>...</td>\n      <td>0</td>\n      <td>0</td>\n      <td>0</td>\n      <td>0</td>\n      <td>3</td>\n      <td>4</td>\n      <td>4</td>\n      <td>0</td>\n      <td>1</td>\n      <td>39.9</td>\n    </tr>\n  </tbody>\n</table>\n<p>664 rows × 21 columns</p>\n</div>"
                    },
                    "metadata": {}
                }
            ],
            "outputs_reference": "s3:deepnote-cell-outputs-production/1e16ddbf-ddb3-496f-80d9-196bb52d35c3",
            "content_dependencies": null
        },
        {
            "cell_type": "code",
            "metadata": {
                "source_hash": "16a4de1a",
                "execution_start": 1726142087796,
                "execution_millis": 405,
                "deepnote_to_be_reexecuted": true,
                "deepnote_app_block_visible": true,
                "deepnote_app_is_code_hidden": true,
                "cell_id": "13d7f92745284ef69a2af6108b8a5022",
                "deepnote_cell_type": "code"
            },
            "source": "try:\n    output = writer.get_output_file_path(source, stream_table_name,target_layer='staging') + '.csv'\n    os.makedirs(os.path.dirname(output), exist_ok=True)\n    staged_data.to_csv(output, index=False)\nexcept Exception as e:\n    notifier.pipeline_error(e)\n    raise e",
            "block_group": "eb40f4ff05dd4c098385451f367727d8",
            "execution_count": null,
            "outputs": [],
            "outputs_reference": null,
            "content_dependencies": null
        },
        {
            "cell_type": "markdown",
            "metadata": {
                "is_collapsed": false,
                "formattedRanges": [],
                "deepnote_app_block_visible": true,
                "cell_id": "ddbda621be534c7f985c62999cc6ea55",
                "deepnote_cell_type": "text-cell-h2"
            },
            "source": "## Load",
            "block_group": "75da8790a5624566b15c97090dec1589"
        },
        {
            "cell_type": "code",
            "metadata": {
                "source_hash": "ee433b0a",
                "execution_start": 1726142088204,
                "execution_millis": 22,
                "deepnote_to_be_reexecuted": true,
                "deepnote_app_block_visible": true,
                "deepnote_app_is_code_hidden": true,
                "cell_id": "ecf39b1adf8c457aaeb58acc6f0a2512",
                "deepnote_cell_type": "code"
            },
            "source": "# Correcting the instantiation of the PostgresLoader by ensuring parameter names match expected signature\ntry:\n    loader = PostgresLoader(user=user, password=password, host=host, db_name=db_name)\nexcept Exception as e:\n    notifier.pipeline_error(e)\n    raise e",
            "block_group": "c9f8379854194f38bb0b1a61d0206c41",
            "execution_count": null,
            "outputs": [],
            "outputs_reference": null,
            "content_dependencies": null
        },
        {
            "cell_type": "code",
            "metadata": {
                "source_hash": "7124775b",
                "execution_start": 1726142088247,
                "execution_millis": 616,
                "deepnote_to_be_reexecuted": true,
                "deepnote_app_block_visible": true,
                "deepnote_app_is_code_hidden": true,
                "cell_id": "38b13a9e5d6241caa2944c77b120bfae",
                "deepnote_cell_type": "code"
            },
            "source": "try:\n    staged_data_path = writer.get_output_file_path(source, stream_table_name,target_layer='staging') + '.csv'\n    staged_data = pd.read_csv(staged_data_path)\n    loader.load_data(dataframe=staged_data, target_table='bdt__customer_stats', mode='replace', target_schema='public')\nexcept Exception as e:\n    notifier.pipeline_error(e)\n    raise e",
            "block_group": "5db0fc8919ad462c802bf5d27e49d2e2",
            "execution_count": null,
            "outputs": [],
            "outputs_reference": null,
            "content_dependencies": null
        },
        {
            "cell_type": "markdown",
            "metadata": {
                "formattedRanges": [],
                "deepnote_app_block_visible": true,
                "cell_id": "2bee807ba4e14820bb7434969144acbb",
                "deepnote_cell_type": "text-cell-h1"
            },
            "source": "# Callbacks",
            "block_group": "3ea2bff81848413b911309a81788ae0f"
        },
        {
            "cell_type": "code",
            "metadata": {
                "source_hash": "f5eb6eee",
                "execution_start": 1726142088865,
                "execution_millis": 67,
                "deepnote_to_be_reexecuted": true,
                "deepnote_app_block_visible": true,
                "deepnote_app_is_code_hidden": true,
                "cell_id": "f8d5b139990a4a80ae415d8517d7e252",
                "deepnote_cell_type": "code"
            },
            "source": "notifier.pipeline_end()",
            "block_group": "187040fb53ae4333b775ada4c5c94008",
            "execution_count": null,
            "outputs": [
                {
                    "name": "stdout",
                    "text": "Accepted\n",
                    "output_type": "stream"
                }
            ],
            "outputs_reference": "dbtable:cell_outputs/9b8a8311-4c28-482f-8c58-e2699f00cf28",
            "content_dependencies": null
        },
        {
            "cell_type": "markdown",
            "source": "<a style='text-decoration:none;line-height:16px;display:flex;color:#5B5B62;padding:10px;justify-content:end;' href='https://deepnote.com?utm_source=created-in-deepnote-cell&projectId=022588a7-e3ac-4acd-8e50-3c39b9590c40' target=\"_blank\">\n<img alt='Created in deepnote.com' style='display:inline;max-height:16px;margin:0px;margin-right:7.5px;' src='data:image/svg+xml;base64,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' > </img>\nCreated in <span style='font-weight:600;margin-left:4px;'>Deepnote</span></a>",
            "metadata": {
                "created_in_deepnote_cell": true,
                "deepnote_cell_type": "markdown"
            }
        }
    ],
    "nbformat": 4,
    "nbformat_minor": 0,
    "metadata": {
        "deepnote_full_width": true,
        "deepnote_app_clear_outputs": false,
        "deepnote_app_layout": "powerful-article",
        "deepnote_app_table_of_contents_enabled": false,
        "deepnote_app_hide_all_code_blocks_enabled": true,
        "deepnote_app_width": "full-width",
        "deepnote_app_run_on_input_enabled": false,
        "deepnote_app_reactivity_enabled": true,
        "deepnote_notebook_id": "2c67b2e1f65a41ab8875acf2090b3af7",
        "deepnote_execution_queue": []
    }
}