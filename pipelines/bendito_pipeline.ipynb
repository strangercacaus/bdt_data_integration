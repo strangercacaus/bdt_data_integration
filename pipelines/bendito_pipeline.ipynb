{
    "cells": [
        {
            "cell_type": "markdown",
            "metadata": {
                "formattedRanges": [],
                "deepnote_app_block_visible": true,
                "cell_id": "efb3c16bd1d842ca8ad446a9eb8d9fc4",
                "deepnote_cell_type": "text-cell-h1"
            },
            "source": "# Config",
            "block_group": "670bfa7796fa47f9a7ae671ac192a50d"
        },
        {
            "cell_type": "markdown",
            "metadata": {
                "formattedRanges": [],
                "deepnote_app_block_visible": true,
                "cell_id": "349b89d6aca74511bd50b78f04b32ab7",
                "deepnote_cell_type": "text-cell-callout"
            },
            "source": "> Esta seção tem configurações gerais do projeto, como importações de pacotes, carregamento de variáveis de ambiente entre outros.",
            "block_group": "9a696221eb9841f59526dc0d56c3949d"
        },
        {
            "cell_type": "code",
            "metadata": {
                "source_hash": "4f6bde2",
                "execution_start": 1726022002672,
                "execution_millis": 1053,
                "execution_context_id": "67b0e824-1105-4e07-b280-570295b17d6b",
                "deepnote_to_be_reexecuted": false,
                "deepnote_app_block_visible": true,
                "deepnote_app_is_code_hidden": true,
                "cell_id": "fd4a1778bcf04ff9be707e52e5d1236e",
                "deepnote_cell_type": "code"
            },
            "source": "# Importação de módulos.\nimport requests\nimport pandas as pd\nimport warnings\nimport json\nimport yaml\nimport gzip\nimport os\nimport glob\nimport importlib\n#from sqlalchemy import create_engine, inspect, text\n#from sqlalchemy import create_engine\nfrom datetime import datetime, timedelta\nfrom work.bdt_data_integration.src.utils import Utils, WebhookNotifier\nfrom work.bdt_data_integration.src.writers import DataWriter\nfrom work.bdt_data_integration.src.streams import BenditoAPIStream\nfrom work.bdt_data_integration.src.loaders import PostgresLoader\nfrom work.bdt_data_integration.src.transformers import NotionTransformer",
            "block_group": "0585159a25044875bf7c86a274522128",
            "execution_count": 1,
            "outputs": [],
            "outputs_reference": null,
            "content_dependencies": null
        },
        {
            "cell_type": "code",
            "metadata": {
                "source_hash": "72ac4b6f",
                "execution_start": 1726022003728,
                "execution_millis": 155,
                "deepnote_to_be_reexecuted": false,
                "deepnote_app_block_visible": true,
                "deepnote_app_is_code_hidden": true,
                "cell_id": "071582eab58f4313a7b8cc0b1317bb95",
                "deepnote_cell_type": "code"
            },
            "source": "# Carregamento do arquivo config.yaml\nconfig = Utils.load_config()\n\n# Carregamento das variáveis de ambiente\ntoken = os.environ['BENDITO_BI_TOKEN']\nhost = os.environ[\"NEON_HOST\"]\nuser =os.environ[\"NEON_ROOT_USER\"]\npassword = os.environ[\"NEON_ROOT_PASSWORD\"]\ndb_name = os.environ[\"NEON_DATABASE_NAME\"]\nnotifier_url = os.environ['MAKE_NOTIFICATION_WEBHOOK']",
            "block_group": "a2786f738f4e4f6c92fa82204d624939",
            "execution_count": 2,
            "outputs": [],
            "outputs_reference": null,
            "content_dependencies": null
        },
        {
            "cell_type": "code",
            "metadata": {
                "source_hash": "53135214",
                "execution_start": 1726022003884,
                "execution_millis": 129,
                "deepnote_to_be_reexecuted": false,
                "deepnote_app_block_visible": true,
                "deepnote_app_is_code_hidden": true,
                "cell_id": "bbc27a11129844468865c44a5bdda839",
                "deepnote_cell_type": "code"
            },
            "source": "source = 'bendito'",
            "block_group": "15de5080e4d6474898f616b3f01d664a",
            "execution_count": 3,
            "outputs": [],
            "outputs_reference": null,
            "content_dependencies": null
        },
        {
            "cell_type": "code",
            "metadata": {
                "source_hash": "de49129a",
                "execution_start": 1726022003898,
                "execution_millis": 130,
                "deepnote_to_be_reexecuted": false,
                "deepnote_app_block_visible": true,
                "deepnote_app_is_code_hidden": true,
                "cell_id": "f709ef413fca4754a3463bd2aa82a7d1",
                "deepnote_cell_type": "code"
            },
            "source": "notifier = WebhookNotifier(url=notifier_url,pipeline='bendito_pipeline')\nnotifier.pipeline_start()",
            "block_group": "9a13b32e86ea40a2b236b6e8cfac946a",
            "execution_count": 4,
            "outputs": [
                {
                    "name": "stdout",
                    "text": "Accepted\n",
                    "output_type": "stream"
                }
            ],
            "outputs_reference": "dbtable:cell_outputs/6bc36d62-8094-4e67-98e2-2ae3fd818cf6",
            "content_dependencies": null
        },
        {
            "cell_type": "markdown",
            "metadata": {
                "formattedRanges": [],
                "deepnote_app_block_visible": true,
                "cell_id": "5b7f48a80503489986bd3624533e85f0",
                "deepnote_cell_type": "text-cell-h1"
            },
            "source": "# Extract",
            "block_group": "0d036e61f7ab4799ac4760f25e9aa2ab"
        },
        {
            "cell_type": "markdown",
            "metadata": {
                "formattedRanges": [
                    {
                        "type": "marks",
                        "marks": {
                            "bold": true
                        },
                        "toCodePoint": 86,
                        "fromCodePoint": 80
                    },
                    {
                        "type": "marks",
                        "marks": {
                            "bold": true
                        },
                        "toCodePoint": 98,
                        "fromCodePoint": 92
                    }
                ],
                "deepnote_app_block_visible": true,
                "cell_id": "648e6f25717545a28d7f6648bdfb100c",
                "deepnote_cell_type": "text-cell-callout"
            },
            "source": "> Nesta seção é realizada a extração de dados brutos da API, são instanciados uma stream e um writer, que serão responsáveis pela conexão com a fonte de dados e com a escrita dos dados, respectivamente.",
            "block_group": "d8f9cfcf97a84371a1247633754d26a8"
        },
        {
            "cell_type": "code",
            "metadata": {
                "source_hash": "8fae1695",
                "execution_start": 1726022003993,
                "execution_millis": 36,
                "deepnote_to_be_reexecuted": false,
                "deepnote_app_block_visible": true,
                "deepnote_app_is_code_hidden": true,
                "cell_id": "ca9c4509ca0d4c9690ed342777414fb1",
                "deepnote_cell_type": "code"
            },
            "source": "try:\n    writer = DataWriter(\n        source='bendito',\n        stream='btd_integration_job_info', \n        config=config\n        )\nexcept Exception as e:\n    notifier.pipeline_error(e)\n    raise e",
            "block_group": "6fc4174b7f744e9188ce928f0d8faf3a",
            "execution_count": 5,
            "outputs": [],
            "outputs_reference": null,
            "content_dependencies": null
        },
        {
            "cell_type": "markdown",
            "metadata": {
                "formattedRanges": [],
                "deepnote_app_block_visible": true,
                "cell_id": "faec2286402d4c2ea834771202b9cc1f",
                "deepnote_cell_type": "text-cell-callout"
            },
            "source": "> Usa-se o parâmetro compression = True para que a saída da stream aconteça em formato gzip, para economizar espaço.",
            "block_group": "9c1fb6d83e454f359cea55bfec475047"
        },
        {
            "cell_type": "code",
            "metadata": {
                "source_hash": "20ba6c2b",
                "execution_start": 1726022003994,
                "execution_millis": 35,
                "deepnote_to_be_reexecuted": false,
                "deepnote_app_block_visible": true,
                "deepnote_app_is_code_hidden": true,
                "cell_id": "3f14e7dc736e4b0eaf4e1bb9da0b013e",
                "deepnote_cell_type": "code"
            },
            "source": "# Instanciar Stream para a extração dos dados\ntry:\n    stream = BenditoAPIStream(\n        identifier = source,\n        token = token,\n        writer = writer)\nexcept Exception as e:\n    notifier.pipeline_error(e)\n    raise e",
            "block_group": "6372f4ae3f484f62bb8521f0217460a7",
            "execution_count": 6,
            "outputs": [],
            "outputs_reference": null,
            "content_dependencies": null
        },
        {
            "cell_type": "code",
            "metadata": {
                "source_hash": "afca3317",
                "execution_start": 1726022004002,
                "execution_millis": 3408,
                "deepnote_to_be_reexecuted": false,
                "deepnote_app_block_visible": true,
                "deepnote_app_is_code_hidden": true,
                "cell_id": "8b3893446d6f4cf5b744f0eef08611b4",
                "deepnote_cell_type": "code"
            },
            "source": "#Executar a extração dos dados\ntry:\n    query = \"select * from integration_job_info\"\n    page_size = 200\n    separator = \";\"\n    records = stream.run(query=query, page_size=page_size, separator=separator)\nexcept Exception as e:\n    notifier.pipeline_error(e)\n    raise e",
            "block_group": "e49cd5e706f64c95883607dd75c73174",
            "execution_count": 7,
            "outputs": [],
            "outputs_reference": null,
            "content_dependencies": null
        },
        {
            "cell_type": "code",
            "metadata": {
                "source_hash": "c6417b7e",
                "execution_start": 1726022007412,
                "execution_millis": 372,
                "deepnote_to_be_reexecuted": false,
                "deepnote_app_block_visible": true,
                "deepnote_app_is_code_hidden": true,
                "cell_id": "88a9bea366d942498915ba1a579e29d6",
                "deepnote_cell_type": "code"
            },
            "source": "output = writer.get_output_file_path('bendito', 'integration_job_info',target_layer='raw') + '.csv'\nos.makedirs(os.path.dirname(output), exist_ok=True)\nrecords.to_csv(output, index=False)",
            "block_group": "47b0b7ca71ff4482a7f83e8c77c8f968",
            "execution_count": 8,
            "outputs": [],
            "outputs_reference": null,
            "content_dependencies": null
        },
        {
            "cell_type": "markdown",
            "metadata": {
                "formattedRanges": [],
                "deepnote_app_block_visible": true,
                "cell_id": "f65154bcd83b4ae8abe3c2fd5aacbbe1",
                "deepnote_cell_type": "text-cell-h1"
            },
            "source": "# Transform",
            "block_group": "0301fdd4ee8f4117b56d9cfa48593b16"
        },
        {
            "cell_type": "markdown",
            "metadata": {
                "formattedRanges": [],
                "deepnote_app_block_visible": true,
                "cell_id": "973d1d0345ce46df949ae4dcb24bf4a4",
                "deepnote_cell_type": "text-cell-callout"
            },
            "source": "> Nesta etapa ocorre a transformação dos dados, como obtenção de chaves e valores, alteração da estrutura, mudanças no texto e aí por diante.",
            "block_group": "985c024f3e5e489794520687ecc9dbbc"
        },
        {
            "cell_type": "markdown",
            "metadata": {
                "formattedRanges": [],
                "deepnote_app_block_visible": true,
                "cell_id": "11b0cf7099b64a728a37aef63b3d21dc",
                "deepnote_cell_type": "text-cell-h2"
            },
            "source": "## bdt__integration_job_info",
            "block_group": "79e8f3d09a0f4341b72aef1d7d2f2d82"
        },
        {
            "cell_type": "markdown",
            "metadata": {
                "formattedRanges": [],
                "deepnote_app_block_visible": true,
                "cell_id": "5be169a375e04f98be73890bbead73db",
                "deepnote_cell_type": "text-cell-h3"
            },
            "source": "### processing",
            "block_group": "9e509a75aac94dc3854e660d65305069"
        },
        {
            "cell_type": "code",
            "metadata": {
                "source_hash": "99ef1a15",
                "execution_start": 1726022007787,
                "execution_millis": 391,
                "deepnote_to_be_reexecuted": false,
                "deepnote_app_block_visible": true,
                "deepnote_app_is_code_hidden": true,
                "cell_id": "2488190ccd8d4cccb35812d94f8a1a5c",
                "deepnote_cell_type": "code"
            },
            "source": "try:\n    output = writer.get_output_file_path('bendito', 'bdt__integration_job_info',target_layer='processing') + '.csv'\n    os.makedirs(os.path.dirname(output), exist_ok=True)\n    records.to_csv(output, index=False)\nexcept Exception as e:\n    notifier.pipeline_error(e)\n    raise e",
            "block_group": "eb3bee61c8674eec89d8630c7cd0ea12",
            "execution_count": 9,
            "outputs": [],
            "outputs_reference": null,
            "content_dependencies": null
        },
        {
            "cell_type": "markdown",
            "metadata": {
                "formattedRanges": [],
                "deepnote_app_block_visible": true,
                "cell_id": "c9af232095ae48bba7aa98fae31c844f",
                "deepnote_cell_type": "text-cell-h3"
            },
            "source": "### staging",
            "block_group": "2e8025764b21487ea881ccc4f2b7d996"
        },
        {
            "cell_type": "code",
            "metadata": {
                "source_hash": "735aa269",
                "execution_start": 1726022008180,
                "execution_millis": 93,
                "deepnote_table_state": {
                    "sortBy": [],
                    "filters": [],
                    "pageSize": 5,
                    "pageIndex": 0,
                    "conditionalFilters": []
                },
                "deepnote_table_loading": false,
                "deepnote_to_be_reexecuted": false,
                "deepnote_app_block_visible": true,
                "deepnote_app_is_code_hidden": true,
                "cell_id": "cfaa4a03543e4073ab91e8e6e726d3d0",
                "deepnote_cell_type": "code"
            },
            "source": "try:\n    # Carregar os arquivos em processing\n    bdt__integration_job_info = pd.read_csv(\"data/processing/bendito/bdt__integration_job_info.csv\")\n    bdt__integration_job_info\nexcept Exception as e:\n    notifier.pipeline_error(e)\n    raise e",
            "block_group": "3a6bf1e0d3a14e3fb4a3c449ec492e52",
            "execution_count": 10,
            "outputs": [],
            "outputs_reference": null,
            "content_dependencies": null
        },
        {
            "cell_type": "code",
            "metadata": {
                "source_hash": "78f01039",
                "execution_start": 1726022008274,
                "execution_millis": 250,
                "sql_integration_id": "deepnote-dataframe-sql",
                "deepnote_variable_name": "bdt__integration_job_info",
                "deepnote_to_be_reexecuted": false,
                "deepnote_app_block_visible": true,
                "deepnote_app_is_code_hidden": true,
                "cell_id": "8db2135342a547aa8f436064a7b4961a",
                "deepnote_cell_type": "sql",
                "deepnote_sql_source": "select id_job,\n       id_customer,\n       integration_type,\n       customer_name,\n       status_id as id_status,\n       status_name as status,\n       job_type,\n       created_at,\n       updated_at,\n       records_to_process,\n       records_processed,\n       duration,\n       duration_pretty,\n       avg_process_time\nfrom bdt__integration_job_info"
            },
            "source": "bdt__integration_job_info = (lambda: _deepnote_execute_sql('select id_job,\\n       id_customer,\\n       integration_type,\\n       customer_name,\\n       status_id as id_status,\\n       status_name as status,\\n       job_type,\\n       created_at,\\n       updated_at,\\n       records_to_process,\\n       records_processed,\\n       duration,\\n       duration_pretty,\\n       avg_process_time\\nfrom bdt__integration_job_info', 'SQL_DEEPNOTE_DATAFRAME_SQL', audit_sql_comment='', sql_cache_mode='cache_disabled') if '_deepnote_execute_sql' in globals() else _dntk.execute_sql('select id_job,\\n       id_customer,\\n       integration_type,\\n       customer_name,\\n       status_id as id_status,\\n       status_name as status,\\n       job_type,\\n       created_at,\\n       updated_at,\\n       records_to_process,\\n       records_processed,\\n       duration,\\n       duration_pretty,\\n       avg_process_time\\nfrom bdt__integration_job_info', 'SQL_DEEPNOTE_DATAFRAME_SQL', audit_sql_comment='', sql_cache_mode='cache_disabled'))()\nbdt__integration_job_info",
            "block_group": "4cdc21a0862d4e4ea887a7cdc331c0fd",
            "execution_count": 11,
            "outputs": [
                {
                    "output_type": "execute_result",
                    "execution_count": 11,
                    "data": {
                        "application/vnd.deepnote.dataframe.v3+json": {
                            "column_count": 14,
                            "row_count": 9000,
                            "columns": [
                                {
                                    "name": "id_job",
                                    "dtype": "int64",
                                    "stats": {
                                        "unique_count": 9000,
                                        "nan_count": 0,
                                        "min": "7",
                                        "max": "34596",
                                        "histogram": [
                                            {
                                                "bin_start": 7,
                                                "bin_end": 3465.9,
                                                "count": 1419
                                            },
                                            {
                                                "bin_start": 3465.9,
                                                "bin_end": 6924.8,
                                                "count": 570
                                            },
                                            {
                                                "bin_start": 6924.8,
                                                "bin_end": 10383.7,
                                                "count": 740
                                            },
                                            {
                                                "bin_start": 10383.7,
                                                "bin_end": 13842.6,
                                                "count": 756
                                            },
                                            {
                                                "bin_start": 13842.6,
                                                "bin_end": 17301.5,
                                                "count": 843
                                            },
                                            {
                                                "bin_start": 17301.5,
                                                "bin_end": 20760.4,
                                                "count": 493
                                            },
                                            {
                                                "bin_start": 20760.4,
                                                "bin_end": 24219.3,
                                                "count": 390
                                            },
                                            {
                                                "bin_start": 24219.3,
                                                "bin_end": 27678.2,
                                                "count": 294
                                            },
                                            {
                                                "bin_start": 27678.2,
                                                "bin_end": 31137.100000000002,
                                                "count": 567
                                            },
                                            {
                                                "bin_start": 31137.100000000002,
                                                "bin_end": 34596,
                                                "count": 2928
                                            }
                                        ]
                                    }
                                },
                                {
                                    "name": "id_customer",
                                    "dtype": "int64",
                                    "stats": {
                                        "unique_count": 318,
                                        "nan_count": 0,
                                        "min": "3",
                                        "max": "743",
                                        "histogram": [
                                            {
                                                "bin_start": 3,
                                                "bin_end": 77,
                                                "count": 1241
                                            },
                                            {
                                                "bin_start": 77,
                                                "bin_end": 151,
                                                "count": 1738
                                            },
                                            {
                                                "bin_start": 151,
                                                "bin_end": 225,
                                                "count": 760
                                            },
                                            {
                                                "bin_start": 225,
                                                "bin_end": 299,
                                                "count": 972
                                            },
                                            {
                                                "bin_start": 299,
                                                "bin_end": 373,
                                                "count": 311
                                            },
                                            {
                                                "bin_start": 373,
                                                "bin_end": 447,
                                                "count": 666
                                            },
                                            {
                                                "bin_start": 447,
                                                "bin_end": 521,
                                                "count": 533
                                            },
                                            {
                                                "bin_start": 521,
                                                "bin_end": 595,
                                                "count": 1281
                                            },
                                            {
                                                "bin_start": 595,
                                                "bin_end": 669,
                                                "count": 987
                                            },
                                            {
                                                "bin_start": 669,
                                                "bin_end": 743,
                                                "count": 511
                                            }
                                        ]
                                    }
                                },
                                {
                                    "name": "integration_type",
                                    "dtype": "object",
                                    "stats": {
                                        "unique_count": 7,
                                        "nan_count": 235,
                                        "categories": [
                                            {
                                                "name": "Omie",
                                                "count": 7004
                                            },
                                            {
                                                "name": "6 others",
                                                "count": 1761
                                            },
                                            {
                                                "name": "Missing",
                                                "count": 235
                                            }
                                        ]
                                    }
                                },
                                {
                                    "name": "customer_name",
                                    "dtype": "object",
                                    "stats": {
                                        "unique_count": 282,
                                        "nan_count": 184,
                                        "categories": [
                                            {
                                                "name": "DISMAR REFRIGERACAO",
                                                "count": 673
                                            },
                                            {
                                                "name": "281 others",
                                                "count": 8143
                                            },
                                            {
                                                "name": "Missing",
                                                "count": 184
                                            }
                                        ]
                                    }
                                },
                                {
                                    "name": "id_status",
                                    "dtype": "int64",
                                    "stats": {
                                        "unique_count": 5,
                                        "nan_count": 0,
                                        "min": "1",
                                        "max": "5",
                                        "histogram": [
                                            {
                                                "bin_start": 1,
                                                "bin_end": 1.4,
                                                "count": 16
                                            },
                                            {
                                                "bin_start": 1.4,
                                                "bin_end": 1.8,
                                                "count": 0
                                            },
                                            {
                                                "bin_start": 1.8,
                                                "bin_end": 2.2,
                                                "count": 1
                                            },
                                            {
                                                "bin_start": 2.2,
                                                "bin_end": 2.6,
                                                "count": 0
                                            },
                                            {
                                                "bin_start": 2.6,
                                                "bin_end": 3,
                                                "count": 0
                                            },
                                            {
                                                "bin_start": 3,
                                                "bin_end": 3.4000000000000004,
                                                "count": 8377
                                            },
                                            {
                                                "bin_start": 3.4000000000000004,
                                                "bin_end": 3.8000000000000003,
                                                "count": 0
                                            },
                                            {
                                                "bin_start": 3.8000000000000003,
                                                "bin_end": 4.2,
                                                "count": 441
                                            },
                                            {
                                                "bin_start": 4.2,
                                                "bin_end": 4.6,
                                                "count": 0
                                            },
                                            {
                                                "bin_start": 4.6,
                                                "bin_end": 5,
                                                "count": 165
                                            }
                                        ]
                                    }
                                },
                                {
                                    "name": "status",
                                    "dtype": "object",
                                    "stats": {
                                        "unique_count": 5,
                                        "nan_count": 0,
                                        "categories": [
                                            {
                                                "name": "Finalizado",
                                                "count": 8377
                                            },
                                            {
                                                "name": "Erro",
                                                "count": 441
                                            },
                                            {
                                                "name": "3 others",
                                                "count": 182
                                            }
                                        ]
                                    }
                                },
                                {
                                    "name": "job_type",
                                    "dtype": "object",
                                    "stats": {
                                        "unique_count": 4,
                                        "nan_count": 0,
                                        "categories": [
                                            {
                                                "name": "ImportClient",
                                                "count": 3625
                                            },
                                            {
                                                "name": "ImportProduct",
                                                "count": 2846
                                            },
                                            {
                                                "name": "2 others",
                                                "count": 2529
                                            }
                                        ]
                                    }
                                },
                                {
                                    "name": "created_at",
                                    "dtype": "object",
                                    "stats": {
                                        "unique_count": 8975,
                                        "nan_count": 0,
                                        "categories": [
                                            {
                                                "name": "2024-08-01 18:38:33",
                                                "count": 2
                                            },
                                            {
                                                "name": "2024-07-30 13:57:22",
                                                "count": 2
                                            },
                                            {
                                                "name": "8973 others",
                                                "count": 8996
                                            }
                                        ]
                                    }
                                },
                                {
                                    "name": "updated_at",
                                    "dtype": "object",
                                    "stats": {
                                        "unique_count": 8879,
                                        "nan_count": 103,
                                        "categories": [
                                            {
                                                "name": "2024-07-01 20:22:05",
                                                "count": 3
                                            },
                                            {
                                                "name": "8878 others",
                                                "count": 8894
                                            },
                                            {
                                                "name": "Missing",
                                                "count": 103
                                            }
                                        ]
                                    }
                                },
                                {
                                    "name": "records_to_process",
                                    "dtype": "int64",
                                    "stats": {
                                        "unique_count": 1397,
                                        "nan_count": 0,
                                        "min": "0",
                                        "max": "58513",
                                        "histogram": [
                                            {
                                                "bin_start": 0,
                                                "bin_end": 5851.3,
                                                "count": 8802
                                            },
                                            {
                                                "bin_start": 5851.3,
                                                "bin_end": 11702.6,
                                                "count": 77
                                            },
                                            {
                                                "bin_start": 11702.6,
                                                "bin_end": 17553.9,
                                                "count": 115
                                            },
                                            {
                                                "bin_start": 17553.9,
                                                "bin_end": 23405.2,
                                                "count": 4
                                            },
                                            {
                                                "bin_start": 23405.2,
                                                "bin_end": 29256.5,
                                                "count": 0
                                            },
                                            {
                                                "bin_start": 29256.5,
                                                "bin_end": 35107.8,
                                                "count": 1
                                            },
                                            {
                                                "bin_start": 35107.8,
                                                "bin_end": 40959.1,
                                                "count": 0
                                            },
                                            {
                                                "bin_start": 40959.1,
                                                "bin_end": 46810.4,
                                                "count": 0
                                            },
                                            {
                                                "bin_start": 46810.4,
                                                "bin_end": 52661.700000000004,
                                                "count": 0
                                            },
                                            {
                                                "bin_start": 52661.700000000004,
                                                "bin_end": 58513,
                                                "count": 1
                                            }
                                        ]
                                    }
                                },
                                {
                                    "name": "records_processed",
                                    "dtype": "int64",
                                    "stats": {
                                        "unique_count": 1383,
                                        "nan_count": 0,
                                        "min": "0",
                                        "max": "31734",
                                        "histogram": [
                                            {
                                                "bin_start": 0,
                                                "bin_end": 3173.4,
                                                "count": 8737
                                            },
                                            {
                                                "bin_start": 3173.4,
                                                "bin_end": 6346.8,
                                                "count": 99
                                            },
                                            {
                                                "bin_start": 6346.8,
                                                "bin_end": 9520.2,
                                                "count": 39
                                            },
                                            {
                                                "bin_start": 9520.2,
                                                "bin_end": 12693.6,
                                                "count": 9
                                            },
                                            {
                                                "bin_start": 12693.6,
                                                "bin_end": 15867,
                                                "count": 88
                                            },
                                            {
                                                "bin_start": 15867,
                                                "bin_end": 19040.4,
                                                "count": 26
                                            },
                                            {
                                                "bin_start": 19040.4,
                                                "bin_end": 22213.8,
                                                "count": 1
                                            },
                                            {
                                                "bin_start": 22213.8,
                                                "bin_end": 25387.2,
                                                "count": 0
                                            },
                                            {
                                                "bin_start": 25387.2,
                                                "bin_end": 28560.600000000002,
                                                "count": 0
                                            },
                                            {
                                                "bin_start": 28560.600000000002,
                                                "bin_end": 31734,
                                                "count": 1
                                            }
                                        ]
                                    }
                                },
                                {
                                    "name": "duration",
                                    "dtype": "int64"
                                },
                                {
                                    "name": "duration_pretty",
                                    "dtype": "object"
                                },
                                {
                                    "name": "avg_process_time",
                                    "dtype": "float64"
                                },
                                {
                                    "name": "_deepnote_index_column",
                                    "dtype": "int64"
                                }
                            ],
                            "rows": [
                                {
                                    "id_job": 34596,
                                    "id_customer": 481,
                                    "integration_type": "Deltacon",
                                    "customer_name": "MIX COMERCIO DE SUPRIMENTOS E UTENSILIOS LTDA",
                                    "id_status": 3,
                                    "status": "Finalizado",
                                    "job_type": "ImportProduct",
                                    "created_at": "2024-09-10 13:14:24",
                                    "updated_at": "2024-09-10 13:34:37",
                                    "records_to_process": 206,
                                    "records_processed": 206,
                                    "duration": 1213,
                                    "duration_pretty": "00 days 00 hours 20 minutes 13 seconds",
                                    "avg_process_time": 5.89,
                                    "_deepnote_index_column": 0
                                },
                                {
                                    "id_job": 34595,
                                    "id_customer": 481,
                                    "integration_type": "Deltacon",
                                    "customer_name": "MIX COMERCIO DE SUPRIMENTOS E UTENSILIOS LTDA",
                                    "id_status": 3,
                                    "status": "Finalizado",
                                    "job_type": "ImportProduct",
                                    "created_at": "2024-09-06 14:28:21",
                                    "updated_at": "2024-09-06 14:43:28",
                                    "records_to_process": 213,
                                    "records_processed": 213,
                                    "duration": 906,
                                    "duration_pretty": "00 days 00 hours 15 minutes 06 seconds",
                                    "avg_process_time": 4.25,
                                    "_deepnote_index_column": 1
                                },
                                {
                                    "id_job": 34594,
                                    "id_customer": 481,
                                    "integration_type": "Deltacon",
                                    "customer_name": "MIX COMERCIO DE SUPRIMENTOS E UTENSILIOS LTDA",
                                    "id_status": 3,
                                    "status": "Finalizado",
                                    "job_type": "ImportProduct",
                                    "created_at": "2024-09-06 13:55:48",
                                    "updated_at": "2024-09-06 14:10:06",
                                    "records_to_process": 213,
                                    "records_processed": 213,
                                    "duration": 857,
                                    "duration_pretty": "00 days 00 hours 14 minutes 17 seconds",
                                    "avg_process_time": 4.02,
                                    "_deepnote_index_column": 2
                                },
                                {
                                    "id_job": 34589,
                                    "id_customer": 14,
                                    "integration_type": "Bling",
                                    "customer_name": "Teste Bling",
                                    "id_status": 3,
                                    "status": "Finalizado",
                                    "job_type": "ImportStock",
                                    "created_at": "2024-09-03 18:58:45",
                                    "updated_at": "2024-09-03 18:59:04",
                                    "records_to_process": 233,
                                    "records_processed": 233,
                                    "duration": 18,
                                    "duration_pretty": "00 days 00 hours 00 minutes 18 seconds",
                                    "avg_process_time": 0.08,
                                    "_deepnote_index_column": 3
                                },
                                {
                                    "id_job": 34588,
                                    "id_customer": 14,
                                    "integration_type": "Bling",
                                    "customer_name": "Teste Bling",
                                    "id_status": 3,
                                    "status": "Finalizado",
                                    "job_type": "ImportStock",
                                    "created_at": "2024-09-03 18:23:40",
                                    "updated_at": "2024-09-03 18:24:04",
                                    "records_to_process": 233,
                                    "records_processed": 233,
                                    "duration": 24,
                                    "duration_pretty": "00 days 00 hours 00 minutes 24 seconds",
                                    "avg_process_time": 0.1,
                                    "_deepnote_index_column": 4
                                }
                            ]
                        },
                        "text/plain": "      id_job  id_customer integration_type  \\\n0      34596          481         Deltacon   \n1      34595          481         Deltacon   \n2      34594          481         Deltacon   \n3      34589           14            Bling   \n4      34588           14            Bling   \n...      ...          ...              ...   \n8995      65           21             Omie   \n8996      20           25             Omie   \n8997      18           21             Omie   \n8998      11           21             Omie   \n8999       7           21             Omie   \n\n                                      customer_name  id_status      status  \\\n0     MIX COMERCIO DE SUPRIMENTOS E UTENSILIOS LTDA          3  Finalizado   \n1     MIX COMERCIO DE SUPRIMENTOS E UTENSILIOS LTDA          3  Finalizado   \n2     MIX COMERCIO DE SUPRIMENTOS E UTENSILIOS LTDA          3  Finalizado   \n3                                       Teste Bling          3  Finalizado   \n4                                       Teste Bling          3  Finalizado   \n...                                             ...        ...         ...   \n8995                                      CONFEITAR          3  Finalizado   \n8996                                      IKASALIMP          3  Finalizado   \n8997                                      CONFEITAR          3  Finalizado   \n8998                                      CONFEITAR          3  Finalizado   \n8999                                      CONFEITAR          3  Finalizado   \n\n           job_type           created_at           updated_at  \\\n0     ImportProduct  2024-09-10 13:14:24  2024-09-10 13:34:37   \n1     ImportProduct  2024-09-06 14:28:21  2024-09-06 14:43:28   \n2     ImportProduct  2024-09-06 13:55:48  2024-09-06 14:10:06   \n3       ImportStock  2024-09-03 18:58:45  2024-09-03 18:59:04   \n4       ImportStock  2024-09-03 18:23:40  2024-09-03 18:24:04   \n...             ...                  ...                  ...   \n8995   ImportClient  2020-06-03 03:04:15  2020-06-03 03:20:17   \n8996  ImportProduct  2020-05-29 18:32:34  2020-05-29 19:36:57   \n8997  ImportProduct  2020-05-28 21:15:10  2020-05-28 21:15:22   \n8998  ImportProduct  2020-05-28 16:37:27  2020-05-28 18:04:05   \n8999  ImportProduct  2020-05-28 01:20:13  2020-05-28 02:45:12   \n\n      records_to_process  records_processed  duration  \\\n0                    206                206      1213   \n1                    213                213       906   \n2                    213                213       857   \n3                    233                233        18   \n4                    233                233        24   \n...                  ...                ...       ...   \n8995                2149               2149       961   \n8996                4917               4919      3862   \n8997                   2                  2        12   \n8998                5392               5392      5197   \n8999                5392               5392      5099   \n\n                             duration_pretty  avg_process_time  \n0     00 days 00 hours 20 minutes 13 seconds              5.89  \n1     00 days 00 hours 15 minutes 06 seconds              4.25  \n2     00 days 00 hours 14 minutes 17 seconds              4.02  \n3     00 days 00 hours 00 minutes 18 seconds              0.08  \n4     00 days 00 hours 00 minutes 24 seconds              0.10  \n...                                      ...               ...  \n8995  00 days 00 hours 16 minutes 01 seconds              0.45  \n8996  00 days 01 hours 04 minutes 22 seconds              0.79  \n8997  00 days 00 hours 00 minutes 12 seconds              6.00  \n8998  00 days 01 hours 26 minutes 37 seconds              0.96  \n8999  00 days 01 hours 24 minutes 59 seconds              0.95  \n\n[9000 rows x 14 columns]",
                        "text/html": "<div>\n<style scoped>\n    .dataframe tbody tr th:only-of-type {\n        vertical-align: middle;\n    }\n\n    .dataframe tbody tr th {\n        vertical-align: top;\n    }\n\n    .dataframe thead th {\n        text-align: right;\n    }\n</style>\n<table border=\"1\" class=\"dataframe\">\n  <thead>\n    <tr style=\"text-align: right;\">\n      <th></th>\n      <th>id_job</th>\n      <th>id_customer</th>\n      <th>integration_type</th>\n      <th>customer_name</th>\n      <th>id_status</th>\n      <th>status</th>\n      <th>job_type</th>\n      <th>created_at</th>\n      <th>updated_at</th>\n      <th>records_to_process</th>\n      <th>records_processed</th>\n      <th>duration</th>\n      <th>duration_pretty</th>\n      <th>avg_process_time</th>\n    </tr>\n  </thead>\n  <tbody>\n    <tr>\n      <th>0</th>\n      <td>34596</td>\n      <td>481</td>\n      <td>Deltacon</td>\n      <td>MIX COMERCIO DE SUPRIMENTOS E UTENSILIOS LTDA</td>\n      <td>3</td>\n      <td>Finalizado</td>\n      <td>ImportProduct</td>\n      <td>2024-09-10 13:14:24</td>\n      <td>2024-09-10 13:34:37</td>\n      <td>206</td>\n      <td>206</td>\n      <td>1213</td>\n      <td>00 days 00 hours 20 minutes 13 seconds</td>\n      <td>5.89</td>\n    </tr>\n    <tr>\n      <th>1</th>\n      <td>34595</td>\n      <td>481</td>\n      <td>Deltacon</td>\n      <td>MIX COMERCIO DE SUPRIMENTOS E UTENSILIOS LTDA</td>\n      <td>3</td>\n      <td>Finalizado</td>\n      <td>ImportProduct</td>\n      <td>2024-09-06 14:28:21</td>\n      <td>2024-09-06 14:43:28</td>\n      <td>213</td>\n      <td>213</td>\n      <td>906</td>\n      <td>00 days 00 hours 15 minutes 06 seconds</td>\n      <td>4.25</td>\n    </tr>\n    <tr>\n      <th>2</th>\n      <td>34594</td>\n      <td>481</td>\n      <td>Deltacon</td>\n      <td>MIX COMERCIO DE SUPRIMENTOS E UTENSILIOS LTDA</td>\n      <td>3</td>\n      <td>Finalizado</td>\n      <td>ImportProduct</td>\n      <td>2024-09-06 13:55:48</td>\n      <td>2024-09-06 14:10:06</td>\n      <td>213</td>\n      <td>213</td>\n      <td>857</td>\n      <td>00 days 00 hours 14 minutes 17 seconds</td>\n      <td>4.02</td>\n    </tr>\n    <tr>\n      <th>3</th>\n      <td>34589</td>\n      <td>14</td>\n      <td>Bling</td>\n      <td>Teste Bling</td>\n      <td>3</td>\n      <td>Finalizado</td>\n      <td>ImportStock</td>\n      <td>2024-09-03 18:58:45</td>\n      <td>2024-09-03 18:59:04</td>\n      <td>233</td>\n      <td>233</td>\n      <td>18</td>\n      <td>00 days 00 hours 00 minutes 18 seconds</td>\n      <td>0.08</td>\n    </tr>\n    <tr>\n      <th>4</th>\n      <td>34588</td>\n      <td>14</td>\n      <td>Bling</td>\n      <td>Teste Bling</td>\n      <td>3</td>\n      <td>Finalizado</td>\n      <td>ImportStock</td>\n      <td>2024-09-03 18:23:40</td>\n      <td>2024-09-03 18:24:04</td>\n      <td>233</td>\n      <td>233</td>\n      <td>24</td>\n      <td>00 days 00 hours 00 minutes 24 seconds</td>\n      <td>0.10</td>\n    </tr>\n    <tr>\n      <th>...</th>\n      <td>...</td>\n      <td>...</td>\n      <td>...</td>\n      <td>...</td>\n      <td>...</td>\n      <td>...</td>\n      <td>...</td>\n      <td>...</td>\n      <td>...</td>\n      <td>...</td>\n      <td>...</td>\n      <td>...</td>\n      <td>...</td>\n      <td>...</td>\n    </tr>\n    <tr>\n      <th>8995</th>\n      <td>65</td>\n      <td>21</td>\n      <td>Omie</td>\n      <td>CONFEITAR</td>\n      <td>3</td>\n      <td>Finalizado</td>\n      <td>ImportClient</td>\n      <td>2020-06-03 03:04:15</td>\n      <td>2020-06-03 03:20:17</td>\n      <td>2149</td>\n      <td>2149</td>\n      <td>961</td>\n      <td>00 days 00 hours 16 minutes 01 seconds</td>\n      <td>0.45</td>\n    </tr>\n    <tr>\n      <th>8996</th>\n      <td>20</td>\n      <td>25</td>\n      <td>Omie</td>\n      <td>IKASALIMP</td>\n      <td>3</td>\n      <td>Finalizado</td>\n      <td>ImportProduct</td>\n      <td>2020-05-29 18:32:34</td>\n      <td>2020-05-29 19:36:57</td>\n      <td>4917</td>\n      <td>4919</td>\n      <td>3862</td>\n      <td>00 days 01 hours 04 minutes 22 seconds</td>\n      <td>0.79</td>\n    </tr>\n    <tr>\n      <th>8997</th>\n      <td>18</td>\n      <td>21</td>\n      <td>Omie</td>\n      <td>CONFEITAR</td>\n      <td>3</td>\n      <td>Finalizado</td>\n      <td>ImportProduct</td>\n      <td>2020-05-28 21:15:10</td>\n      <td>2020-05-28 21:15:22</td>\n      <td>2</td>\n      <td>2</td>\n      <td>12</td>\n      <td>00 days 00 hours 00 minutes 12 seconds</td>\n      <td>6.00</td>\n    </tr>\n    <tr>\n      <th>8998</th>\n      <td>11</td>\n      <td>21</td>\n      <td>Omie</td>\n      <td>CONFEITAR</td>\n      <td>3</td>\n      <td>Finalizado</td>\n      <td>ImportProduct</td>\n      <td>2020-05-28 16:37:27</td>\n      <td>2020-05-28 18:04:05</td>\n      <td>5392</td>\n      <td>5392</td>\n      <td>5197</td>\n      <td>00 days 01 hours 26 minutes 37 seconds</td>\n      <td>0.96</td>\n    </tr>\n    <tr>\n      <th>8999</th>\n      <td>7</td>\n      <td>21</td>\n      <td>Omie</td>\n      <td>CONFEITAR</td>\n      <td>3</td>\n      <td>Finalizado</td>\n      <td>ImportProduct</td>\n      <td>2020-05-28 01:20:13</td>\n      <td>2020-05-28 02:45:12</td>\n      <td>5392</td>\n      <td>5392</td>\n      <td>5099</td>\n      <td>00 days 01 hours 24 minutes 59 seconds</td>\n      <td>0.95</td>\n    </tr>\n  </tbody>\n</table>\n<p>9000 rows × 14 columns</p>\n</div>"
                    },
                    "metadata": {}
                }
            ],
            "outputs_reference": "s3:deepnote-cell-outputs-production/1f5e7a8a-9708-4e90-a5bf-979bcf12bfea",
            "content_dependencies": null
        },
        {
            "cell_type": "code",
            "metadata": {
                "source_hash": "4a0b52af",
                "execution_start": 1726022008487,
                "execution_millis": 382,
                "deepnote_to_be_reexecuted": false,
                "deepnote_app_block_visible": true,
                "deepnote_app_is_code_hidden": true,
                "cell_id": "7f2d9c287f0d49749c02e9779a056648",
                "deepnote_cell_type": "code"
            },
            "source": "try:\n    output = writer.get_output_file_path('bendito', 'bdt__integration_job_info',target_layer='staging') + '.csv'\n    os.makedirs(os.path.dirname(output), exist_ok=True)\n    bdt__integration_job_info.to_csv(output, index=False)\nexcept Exception as e:\n    notifier.pipeline_error(e)\n    raise e",
            "block_group": "6a62704969ce4d7eb70faf7499a5ba38",
            "execution_count": 12,
            "outputs": [],
            "outputs_reference": null,
            "content_dependencies": null
        },
        {
            "cell_type": "markdown",
            "metadata": {
                "formattedRanges": [],
                "deepnote_app_block_visible": true,
                "cell_id": "527d6c3578cc4e5e86ae07660fcbea35",
                "deepnote_cell_type": "text-cell-h1"
            },
            "source": "# Load",
            "block_group": "2f7cb13eff8941e6b3fd9cbdb283158b"
        },
        {
            "cell_type": "code",
            "metadata": {
                "source_hash": "ee433b0a",
                "execution_start": 1726022008871,
                "execution_millis": 63,
                "deepnote_to_be_reexecuted": false,
                "deepnote_app_block_visible": true,
                "deepnote_app_is_code_hidden": true,
                "cell_id": "b4f0dc51df724d6ab06b21b44328c59c",
                "deepnote_cell_type": "code"
            },
            "source": "# Correcting the instantiation of the PostgresLoader by ensuring parameter names match expected signature\ntry:\n    loader = PostgresLoader(user=user, password=password, host=host, db_name=db_name)\nexcept Exception as e:\n    notifier.pipeline_error(e)\n    raise e",
            "block_group": "7566d8a601db4d0f8ad327e2a3de76cd",
            "execution_count": 13,
            "outputs": [],
            "outputs_reference": null,
            "content_dependencies": null
        },
        {
            "cell_type": "code",
            "metadata": {
                "source_hash": "97dc4bd5",
                "execution_start": 1726022008923,
                "execution_millis": 1059,
                "deepnote_table_state": {
                    "sortBy": [],
                    "filters": [],
                    "pageSize": 5,
                    "pageIndex": 0,
                    "conditionalFilters": []
                },
                "deepnote_table_loading": false,
                "deepnote_to_be_reexecuted": false,
                "deepnote_app_block_visible": true,
                "deepnote_app_is_code_hidden": true,
                "cell_id": "7e253c72a2f748cf8afd030241796e2c",
                "deepnote_cell_type": "code"
            },
            "source": "try:\n    bdt__integration_job_info = pd.read_csv(\"data/staging/bendito/bdt__integration_job_info.csv\")\n    loader.load_data(dataframe=bdt__integration_job_info, target_table='bdt__integration_job_info', mode='replace', target_schema='public')\nexcept Exception as e:\n    notifier.pipeline_error(e)\n    raise e",
            "block_group": "f543f791f903485881e0323a4d30a4ff",
            "execution_count": 14,
            "outputs": [],
            "outputs_reference": null,
            "content_dependencies": null
        },
        {
            "cell_type": "markdown",
            "metadata": {
                "formattedRanges": [],
                "deepnote_app_block_visible": true,
                "cell_id": "2bee807ba4e14820bb7434969144acbb",
                "deepnote_cell_type": "text-cell-h1"
            },
            "source": "# Callbacks",
            "block_group": "3ea2bff81848413b911309a81788ae0f"
        },
        {
            "cell_type": "code",
            "metadata": {
                "source_hash": "f5eb6eee",
                "execution_start": 1726022009983,
                "execution_millis": 69,
                "deepnote_to_be_reexecuted": false,
                "deepnote_app_block_visible": true,
                "deepnote_app_is_code_hidden": true,
                "cell_id": "f8d5b139990a4a80ae415d8517d7e252",
                "deepnote_cell_type": "code"
            },
            "source": "notifier.pipeline_end()",
            "block_group": "187040fb53ae4333b775ada4c5c94008",
            "execution_count": 15,
            "outputs": [
                {
                    "name": "stdout",
                    "text": "Accepted\n",
                    "output_type": "stream"
                }
            ],
            "outputs_reference": "dbtable:cell_outputs/fe435908-3af2-4cc9-bc31-2ce9fa5cbaba",
            "content_dependencies": null
        },
        {
            "cell_type": "markdown",
            "source": "<a style='text-decoration:none;line-height:16px;display:flex;color:#5B5B62;padding:10px;justify-content:end;' href='https://deepnote.com?utm_source=created-in-deepnote-cell&projectId=022588a7-e3ac-4acd-8e50-3c39b9590c40' target=\"_blank\">\n<img alt='Created in deepnote.com' style='display:inline;max-height:16px;margin:0px;margin-right:7.5px;' src='data:image/svg+xml;base64,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' > </img>\nCreated in <span style='font-weight:600;margin-left:4px;'>Deepnote</span></a>",
            "metadata": {
                "created_in_deepnote_cell": true,
                "deepnote_cell_type": "markdown"
            }
        }
    ],
    "nbformat": 4,
    "nbformat_minor": 0,
    "metadata": {
        "deepnote_full_width": true,
        "deepnote_app_clear_outputs": false,
        "deepnote_app_layout": "powerful-article",
        "deepnote_app_table_of_contents_enabled": false,
        "deepnote_app_hide_all_code_blocks_enabled": true,
        "deepnote_app_width": "full-width",
        "deepnote_app_run_on_input_enabled": false,
        "deepnote_app_reactivity_enabled": true,
        "deepnote_notebook_id": "2c67b2e1f65a41ab8875acf2090b3af7",
        "deepnote_execution_queue": []
    }
}